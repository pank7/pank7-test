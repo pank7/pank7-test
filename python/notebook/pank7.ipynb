{
 "metadata": {
  "name": "pank7"
 },
 "nbformat": 3,
 "nbformat_minor": 0,
 "worksheets": [
  {
   "cells": [
    {
     "cell_type": "code",
     "collapsed": false,
     "input": [
      "import os\n",
      "import sys\n",
      "import time\n",
      "import datetime\n",
      "\n",
      "import IPython.parallel\n",
      "from IPython.parallel import require\n",
      "\n",
      "c = IPython.parallel.Client()\n",
      "dv = c[:]\n",
      "lv = c.load_balanced_view()"
     ],
     "language": "python",
     "metadata": {},
     "outputs": [],
     "prompt_number": 6
    },
    {
     "cell_type": "code",
     "collapsed": false,
     "input": [
      "lv.apply_sync(lambda x: x, xrange(24))"
     ],
     "language": "python",
     "metadata": {},
     "outputs": [
      {
       "output_type": "pyout",
       "prompt_number": 7,
       "text": [
        "xrange(24)"
       ]
      }
     ],
     "prompt_number": 7
    },
    {
     "cell_type": "code",
     "collapsed": false,
     "input": [
      "dv.apply_sync(lambda x, y: (x, y), xrange(24), xrange(24, 48))"
     ],
     "language": "python",
     "metadata": {},
     "outputs": [
      {
       "output_type": "pyout",
       "prompt_number": 3,
       "text": [
        "[[xrange(24), xrange(24, 48)],\n",
        " [xrange(24), xrange(24, 48)],\n",
        " [xrange(24), xrange(24, 48)],\n",
        " [xrange(24), xrange(24, 48)]]"
       ]
      }
     ],
     "prompt_number": 3
    },
    {
     "cell_type": "code",
     "collapsed": false,
     "input": [
      "lv.map_sync(lambda x: x, xrange(24))"
     ],
     "language": "python",
     "metadata": {},
     "outputs": [
      {
       "output_type": "pyout",
       "prompt_number": 4,
       "text": [
        "[0,\n",
        " 1,\n",
        " 2,\n",
        " 3,\n",
        " 4,\n",
        " 5,\n",
        " 6,\n",
        " 7,\n",
        " 8,\n",
        " 9,\n",
        " 10,\n",
        " 11,\n",
        " 12,\n",
        " 13,\n",
        " 14,\n",
        " 15,\n",
        " 16,\n",
        " 17,\n",
        " 18,\n",
        " 19,\n",
        " 20,\n",
        " 21,\n",
        " 22,\n",
        " 23]"
       ]
      }
     ],
     "prompt_number": 4
    },
    {
     "cell_type": "code",
     "collapsed": false,
     "input": [
      "dv.map_sync(lambda x, y: x + y, xrange(24), xrange(1, 25))"
     ],
     "language": "python",
     "metadata": {},
     "outputs": [
      {
       "output_type": "pyout",
       "prompt_number": 5,
       "text": [
        "[1,\n",
        " 3,\n",
        " 5,\n",
        " 7,\n",
        " 9,\n",
        " 11,\n",
        " 13,\n",
        " 15,\n",
        " 17,\n",
        " 19,\n",
        " 21,\n",
        " 23,\n",
        " 25,\n",
        " 27,\n",
        " 29,\n",
        " 31,\n",
        " 33,\n",
        " 35,\n",
        " 37,\n",
        " 39,\n",
        " 41,\n",
        " 43,\n",
        " 45,\n",
        " 47]"
       ]
      }
     ],
     "prompt_number": 5
    },
    {
     "cell_type": "code",
     "collapsed": false,
     "input": [
      "%px !uname -a"
     ],
     "language": "python",
     "metadata": {},
     "outputs": [
      {
       "output_type": "stream",
       "stream": "stdout",
       "text": [
        "[stdout:0] Darwin pank7s-MacBook-Pro.local 12.2.0 Darwin Kernel Version 12.2.0: Sat Aug 25 00:48:52 PDT 2012; root:xnu-2050.18.24~1/RELEASE_X86_64 x86_64\r\n",
        "[stdout:1] Darwin pank7s-MacBook-Pro.local 12.2.0 Darwin Kernel Version 12.2.0: Sat Aug 25 00:48:52 PDT 2012; root:xnu-2050.18.24~1/RELEASE_X86_64 x86_64\r\n",
        "[stdout:2] Darwin pank7s-MacBook-Pro.local 12.2.0 Darwin Kernel Version 12.2.0: Sat Aug 25 00:48:52 PDT 2012; root:xnu-2050.18.24~1/RELEASE_X86_64 x86_64\r\n",
        "[stdout:3] Darwin pank7s-MacBook-Pro.local 12.2.0 Darwin Kernel Version 12.2.0: Sat Aug 25 00:48:52 PDT 2012; root:xnu-2050.18.24~1/RELEASE_X86_64 x86_64\r\n"
       ]
      }
     ],
     "prompt_number": 8
    }
   ],
   "metadata": {}
  }
 ]
}