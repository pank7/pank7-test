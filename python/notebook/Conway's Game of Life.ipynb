{
 "metadata": {
  "name": "Conway's Game of Life"
 },
 "nbformat": 3,
 "nbformat_minor": 0,
 "worksheets": [
  {
   "cells": [
    {
     "cell_type": "heading",
     "level": 1,
     "metadata": {},
     "source": [
      "Conway's Game of Life"
     ]
    },
    {
     "cell_type": "markdown",
     "metadata": {},
     "source": [
      "For details of the game, please refer to [Conway's Game of Live](http://en.wikipedia.org/wiki/Conway's_Game_of_Life)@Wikipedia:"
     ]
    },
    {
     "cell_type": "code",
     "collapsed": false,
     "input": [
      "from IPython.display import HTML\n",
      "HTML('<iframe src=http://en.wikipedia.org/wiki/Conway\\'s_Game_of_Life width=1000 height=350></iframe>')"
     ],
     "language": "python",
     "metadata": {},
     "outputs": [
      {
       "html": [
        "<iframe src=http://en.wikipedia.org/wiki/Conway's_Game_of_Life width=1000 height=350></iframe>"
       ],
       "output_type": "pyout",
       "prompt_number": 1,
       "text": [
        "<IPython.core.display.HTML at 0x1081b1810>"
       ]
      }
     ],
     "prompt_number": 1
    },
    {
     "cell_type": "markdown",
     "metadata": {},
     "source": [
      "### Rules\n",
      "\n",
      "The universe of the Game of Life is an infinite two-dimensional orthogonal grid of square cells, each of which is in one of two possible states, alive or dead. Every cell interacts with its eight neighbours, which are the cells that are horizontally, vertically, or diagonally adjacent. At each step in time, the following transitions occur:\n",
      "\n",
      "1. Any live cell with fewer than two live neighbours dies, as if caused by under-population.\n",
      "2. Any live cell with two or three live neighbours lives on to the next generation.\n",
      "3. Any live cell with more than three live neighbours dies, as if by overcrowding.\n",
      "4. Any dead cell with exactly three live neighbours becomes a live cell, as if by reproduction.\n",
      "\n",
      "The initial pattern constitutes the seed of the system. The first generation is created by applying the above rules simultaneously to every cell in the seed\u2014births and deaths occur simultaneously, and the discrete moment at which this happens is sometimes called a tick (in other words, each generation is a pure function of the preceding one). The rules continue to be applied repeatedly to create further generations."
     ]
    },
    {
     "cell_type": "heading",
     "level": 3,
     "metadata": {},
     "source": [
      "Necessary imports"
     ]
    },
    {
     "cell_type": "code",
     "collapsed": false,
     "input": [
      "import sys\n",
      "import os\n",
      "import time\n",
      "import numpy as np\n",
      "from IPython.display import clear_output"
     ],
     "language": "python",
     "metadata": {},
     "outputs": [],
     "prompt_number": 7
    },
    {
     "cell_type": "heading",
     "level": 3,
     "metadata": {},
     "source": [
      "Define the space"
     ]
    },
    {
     "cell_type": "code",
     "collapsed": false,
     "input": [
      "space = np.zeros(128, dtype=bool).reshape(8, 16)\n",
      "def print_space(s):\n",
      "    clear_output()\n",
      "    print u'\\n'.join([u''.join([u'\u25c9' if cell else u'\u25ef' for cell in line]) for line in s])\n",
      "    sys.stdout.flush()\n",
      "\n",
      "print_space(space)"
     ],
     "language": "python",
     "metadata": {},
     "outputs": [
      {
       "output_type": "stream",
       "stream": "stdout",
       "text": [
        "\u25ef\u25ef\u25ef\u25ef\u25ef\u25ef\u25ef\u25ef\u25ef\u25ef\u25ef\u25ef\u25ef\u25ef\u25ef\u25ef\n",
        "\u25ef\u25ef\u25ef\u25ef\u25ef\u25ef\u25ef\u25ef\u25ef\u25ef\u25ef\u25ef\u25ef\u25ef\u25ef\u25ef\n",
        "\u25ef\u25ef\u25ef\u25ef\u25ef\u25ef\u25ef\u25ef\u25ef\u25ef\u25ef\u25ef\u25ef\u25ef\u25ef\u25ef\n",
        "\u25ef\u25ef\u25ef\u25ef\u25ef\u25ef\u25ef\u25ef\u25ef\u25ef\u25ef\u25ef\u25ef\u25ef\u25ef\u25ef\n",
        "\u25ef\u25ef\u25ef\u25ef\u25ef\u25ef\u25ef\u25ef\u25ef\u25ef\u25ef\u25ef\u25ef\u25ef\u25ef\u25ef\n",
        "\u25ef\u25ef\u25ef\u25ef\u25ef\u25ef\u25ef\u25ef\u25ef\u25ef\u25ef\u25ef\u25ef\u25ef\u25ef\u25ef\n",
        "\u25ef\u25ef\u25ef\u25ef\u25ef\u25ef\u25ef\u25ef\u25ef\u25ef\u25ef\u25ef\u25ef\u25ef\u25ef\u25ef\n",
        "\u25ef\u25ef\u25ef\u25ef\u25ef\u25ef\u25ef\u25ef\u25ef\u25ef\u25ef\u25ef\u25ef\u25ef\u25ef\u25ef\n"
       ]
      }
     ],
     "prompt_number": 3
    },
    {
     "cell_type": "heading",
     "level": 3,
     "metadata": {},
     "source": [
      "Draw some sample"
     ]
    },
    {
     "cell_type": "code",
     "collapsed": false,
     "input": [
      "space[4, 5] = True\n",
      "space[2, 7] = True\n",
      "print_space(space)\n",
      "space[6, 12] = True\n",
      "time.sleep(1)\n",
      "print_space(space)"
     ],
     "language": "python",
     "metadata": {},
     "outputs": [
      {
       "output_type": "stream",
       "stream": "stdout",
       "text": [
        "\u25ef\u25ef\u25ef\u25ef\u25ef\u25ef\u25ef\u25ef\u25ef\u25ef\u25ef\u25ef\u25ef\u25ef\u25ef\u25ef\n",
        "\u25ef\u25ef\u25ef\u25ef\u25ef\u25ef\u25ef\u25ef\u25ef\u25ef\u25ef\u25ef\u25ef\u25ef\u25ef\u25ef\n",
        "\u25ef\u25ef\u25ef\u25ef\u25ef\u25ef\u25ef\u25c9\u25ef\u25ef\u25ef\u25ef\u25ef\u25ef\u25ef\u25ef\n",
        "\u25ef\u25ef\u25ef\u25ef\u25ef\u25ef\u25ef\u25ef\u25ef\u25ef\u25ef\u25ef\u25ef\u25ef\u25ef\u25ef\n",
        "\u25ef\u25ef\u25ef\u25ef\u25ef\u25c9\u25ef\u25ef\u25ef\u25ef\u25ef\u25ef\u25ef\u25ef\u25ef\u25ef\n",
        "\u25ef\u25ef\u25ef\u25ef\u25ef\u25ef\u25ef\u25ef\u25ef\u25ef\u25ef\u25ef\u25ef\u25ef\u25ef\u25ef\n",
        "\u25ef\u25ef\u25ef\u25ef\u25ef\u25ef\u25ef\u25ef\u25ef\u25ef\u25ef\u25ef\u25c9\u25ef\u25ef\u25ef\n",
        "\u25ef\u25ef\u25ef\u25ef\u25ef\u25ef\u25ef\u25ef\u25ef\u25ef\u25ef\u25ef\u25ef\u25ef\u25ef\u25ef\n"
       ]
      }
     ],
     "prompt_number": 4
    },
    {
     "cell_type": "markdown",
     "metadata": {},
     "source": [
      "### Some real code\n",
      "\n",
      "The above are tests, let's now write some real codes."
     ]
    },
    {
     "cell_type": "code",
     "collapsed": false,
     "input": [
      "Alive = True\n",
      "Dead = False\n",
      "\n",
      "class ConwaysLifeGame:\n",
      "    __space = None\n",
      "    __height = 0\n",
      "    __width = 0\n",
      "    __speed = 0.5\n",
      "\n",
      "    def __init__(self, h, w, s = 0.5):\n",
      "        self.__width = w\n",
      "        self.__height = h\n",
      "        self.__speed = s\n",
      "        self.__space = np.zeros(h * w, dtype=bool).reshape(h, w)\n",
      "    \n",
      "    def play(self, step = 10):\n",
      "        self.__print_space()\n",
      "        for i in xrange(step):\n",
      "            time.sleep(self.__speed)\n",
      "            self.__next_space()\n",
      "            self.__print_space()\n",
      "            \n",
      "    def reset_space(self):\n",
      "        self.__space = np.zeros(self.__height * self.__width, dtype=bool).reshape(self.__height, self.__width)\n",
      "\n",
      "    def __setitem__(self, *args):\n",
      "        self.__space[args[0][1], args[0][0]] = args[1]\n",
      "    \n",
      "    def __next_space(self):\n",
      "        next_space = np.zeros(self.__height * self.__width, dtype=bool).reshape(self.__height, self.__width)\n",
      "        for x in xrange(self.__width):\n",
      "            for y in xrange(self.__height):\n",
      "                nalive = sum(1 for n in self.__neighbors(x, y) if self.__space[n[1], n[0]])\n",
      "                iamalive = self.__space[y, x]\n",
      "                next_space[y, x] = Alive if (iamalive and (nalive == 2 or nalive ==3)) or (not iamalive and nalive == 3) else Dead\n",
      "        self.__space = next_space\n",
      "    \n",
      "    def __neighbors(self, x, y):\n",
      "        c = ((x + i, y + j) for i in (-1, 0, 1) for j in (-1, 0, 1) if i != 0 or j != 0)\n",
      "        return (n for n in c if n[0] >= 0 and n[1] >= 0 and n[0] < self.__width and n[1] < self.__height)\n",
      "\n",
      "    def __print_space(self):\n",
      "        clear_output()\n",
      "        print u'\\n'.join(u''.join(u'\u25c9' if cell else u'\u25ef' for cell in line) for line in self.__space)\n",
      "        sys.stdout.flush()"
     ],
     "language": "python",
     "metadata": {},
     "outputs": [],
     "prompt_number": 52
    },
    {
     "cell_type": "heading",
     "level": 3,
     "metadata": {},
     "source": [
      "Initailize a game"
     ]
    },
    {
     "cell_type": "code",
     "collapsed": false,
     "input": [
      "g = ConwaysLifeGame(40, 80)"
     ],
     "language": "python",
     "metadata": {},
     "outputs": [],
     "prompt_number": 53
    },
    {
     "cell_type": "heading",
     "level": 4,
     "metadata": {},
     "source": [
      "Play Beehive"
     ]
    },
    {
     "cell_type": "code",
     "collapsed": false,
     "input": [
      "g[1, 2] = Alive\n",
      "g[2, 2] = Alive\n",
      "g[0, 3] = Alive\n",
      "g[3, 3] = Alive\n",
      "g[1, 4] = Alive\n",
      "g[2, 4] = Alive"
     ],
     "language": "python",
     "metadata": {},
     "outputs": [],
     "prompt_number": 3
    },
    {
     "cell_type": "heading",
     "level": 4,
     "metadata": {},
     "source": [
      "Play Blinker"
     ]
    },
    {
     "cell_type": "code",
     "collapsed": false,
     "input": [
      "g[8, 1] = Alive\n",
      "g[8, 2] = Alive\n",
      "g[8, 3] = Alive"
     ],
     "language": "python",
     "metadata": {},
     "outputs": [],
     "prompt_number": 4
    },
    {
     "cell_type": "heading",
     "level": 4,
     "metadata": {},
     "source": [
      "Play Glider"
     ]
    },
    {
     "cell_type": "code",
     "collapsed": false,
     "input": [
      "g[16, 8] = Alive\n",
      "g[17, 9] = Alive\n",
      "g[15, 10] = Alive\n",
      "g[16, 10] = Alive\n",
      "g[17, 10] = Alive"
     ],
     "language": "python",
     "metadata": {},
     "outputs": [],
     "prompt_number": 5
    },
    {
     "cell_type": "heading",
     "level": 4,
     "metadata": {},
     "source": [
      "Play Pulsar"
     ]
    },
    {
     "cell_type": "code",
     "collapsed": false,
     "input": [
      "from IPython.display import Image\n",
      "Image(url='http://upload.wikimedia.org/wikipedia/commons/0/07/Game_of_life_pulsar.gif')"
     ],
     "language": "python",
     "metadata": {},
     "outputs": [
      {
       "html": [
        "<img src=\"http://upload.wikimedia.org/wikipedia/commons/0/07/Game_of_life_pulsar.gif\" />"
       ],
       "output_type": "pyout",
       "prompt_number": 12,
       "text": [
        "<IPython.core.display.Image at 0x10819b510>"
       ]
      }
     ],
     "prompt_number": 12
    },
    {
     "cell_type": "code",
     "collapsed": false,
     "input": [
      "g.reset_space()\n",
      "g[36, 1] = Alive\n",
      "g[36, 2] = Alive\n",
      "g[36, 3] = Alive\n",
      "g[37, 3] = Alive\n",
      "g[42, 1] = Alive\n",
      "g[42, 2] = Alive\n",
      "g[42, 3] = Alive\n",
      "g[41, 3] = Alive\n",
      "g[32, 5] = Alive\n",
      "g[33, 5] = Alive\n",
      "g[34, 5] = Alive\n",
      "g[34, 6] = Alive\n",
      "g[37, 5] = Alive\n",
      "g[38, 5] = Alive\n",
      "g[36, 6] = Alive\n",
      "g[38, 6] = Alive\n",
      "g[36, 7] = Alive\n",
      "g[37, 7] = Alive\n",
      "g[40, 5] = Alive\n",
      "g[41, 5] = Alive\n",
      "g[40, 6] = Alive\n",
      "g[42, 6] = Alive\n",
      "g[41, 7] = Alive\n",
      "g[42, 7] = Alive\n",
      "g[44, 5] = Alive\n",
      "g[45, 5] = Alive\n",
      "g[46, 5] = Alive\n",
      "g[44, 6] = Alive\n",
      "g[32, 11] = Alive\n",
      "g[33, 11] = Alive\n",
      "g[34, 11] = Alive\n",
      "g[34, 10] = Alive\n",
      "g[36, 9] = Alive\n",
      "g[37, 9] = Alive\n",
      "g[36, 10] = Alive\n",
      "g[38, 10] = Alive\n",
      "g[37, 11] = Alive\n",
      "g[38, 11] = Alive\n",
      "g[41, 9] = Alive\n",
      "g[42, 9] = Alive\n",
      "g[40, 10] = Alive\n",
      "g[42, 10] = Alive\n",
      "g[40, 11] = Alive\n",
      "g[41, 11] = Alive\n",
      "g[44, 10] = Alive\n",
      "g[44, 11] = Alive\n",
      "g[45, 11] = Alive\n",
      "g[46, 11] = Alive\n",
      "g[36, 13] = Alive\n",
      "g[36, 14] = Alive\n",
      "g[36, 15] = Alive\n",
      "g[37, 13] = Alive\n",
      "g[41, 13] = Alive\n",
      "g[42, 13] = Alive\n",
      "g[42, 14] = Alive\n",
      "g[42, 15] = Alive"
     ],
     "language": "python",
     "metadata": {},
     "outputs": [],
     "prompt_number": 50
    },
    {
     "cell_type": "heading",
     "level": 4,
     "metadata": {},
     "source": [
      "The R-pentomino"
     ]
    },
    {
     "cell_type": "code",
     "collapsed": false,
     "input": [
      "Image(url='http://upload.wikimedia.org/wikipedia/commons/1/1c/Game_of_life_fpento.svg')"
     ],
     "language": "python",
     "metadata": {},
     "outputs": [
      {
       "html": [
        "<img src=\"http://upload.wikimedia.org/wikipedia/commons/1/1c/Game_of_life_fpento.svg\" />"
       ],
       "output_type": "pyout",
       "prompt_number": 13,
       "text": [
        "<IPython.core.display.Image at 0x10819b390>"
       ]
      }
     ],
     "prompt_number": 13
    },
    {
     "cell_type": "code",
     "collapsed": false,
     "input": [
      "g.reset_space()\n",
      "g[32, 16] = Alive\n",
      "g[33, 15] = Alive\n",
      "g[33, 16] = Alive\n",
      "g[33, 17] = Alive\n",
      "g[34, 15] = Alive"
     ],
     "language": "python",
     "metadata": {},
     "outputs": [],
     "prompt_number": 53
    },
    {
     "cell_type": "heading",
     "level": 4,
     "metadata": {},
     "source": [
      "Diehard"
     ]
    },
    {
     "cell_type": "code",
     "collapsed": false,
     "input": [
      "Image(url='http://upload.wikimedia.org/wikipedia/commons/9/99/Game_of_life_diehard.svg')"
     ],
     "language": "python",
     "metadata": {},
     "outputs": [
      {
       "html": [
        "<img src=\"http://upload.wikimedia.org/wikipedia/commons/9/99/Game_of_life_diehard.svg\" />"
       ],
       "output_type": "pyout",
       "prompt_number": 19,
       "text": [
        "<IPython.core.display.Image at 0x10819b550>"
       ]
      }
     ],
     "prompt_number": 19
    },
    {
     "cell_type": "code",
     "collapsed": false,
     "input": [
      "g.reset_space()\n",
      "g[28, 16] = Alive\n",
      "g[29, 16] = Alive\n",
      "g[29, 17] = Alive\n",
      "g[34, 15] = Alive\n",
      "g[33, 17] = Alive\n",
      "g[34, 17] = Alive\n",
      "g[35, 17] = Alive"
     ],
     "language": "python",
     "metadata": {},
     "outputs": [],
     "prompt_number": 55
    },
    {
     "cell_type": "heading",
     "level": 4,
     "metadata": {},
     "source": [
      "Infinite 3"
     ]
    },
    {
     "cell_type": "code",
     "collapsed": false,
     "input": [
      "Image(url='http://upload.wikimedia.org/wikipedia/commons/9/95/Game_of_life_infinite3.svg')"
     ],
     "language": "python",
     "metadata": {},
     "outputs": [
      {
       "html": [
        "<img src=\"http://upload.wikimedia.org/wikipedia/commons/9/95/Game_of_life_infinite3.svg\" />"
       ],
       "output_type": "pyout",
       "prompt_number": 26,
       "text": [
        "<IPython.core.display.Image at 0x10819b690>"
       ]
      }
     ],
     "prompt_number": 26
    },
    {
     "cell_type": "code",
     "collapsed": false,
     "input": [
      "g.reset_space()\n",
      "for i in xrange(8):\n",
      "    g[i + 13, 15] = Alive\n",
      "for i in xrange(5):\n",
      "    g[i + 22, 15] = Alive\n",
      "for i in xrange(3):\n",
      "    g[i + 30, 15] = Alive\n",
      "for i in xrange(7):\n",
      "    g[i + 39, 15] = Alive\n",
      "for i in xrange(5):\n",
      "    g[i + 47, 15] = Alive"
     ],
     "language": "python",
     "metadata": {},
     "outputs": [],
     "prompt_number": 54
    },
    {
     "cell_type": "code",
     "collapsed": false,
     "input": [
      "g.play()"
     ],
     "language": "python",
     "metadata": {},
     "outputs": [
      {
       "output_type": "stream",
       "stream": "stdout",
       "text": [
        "\u25ef\u25ef\u25ef\u25ef\u25ef\u25ef\u25ef\u25ef\u25ef\u25ef\u25ef\u25ef\u25ef\u25ef\u25ef\u25ef\u25ef\u25ef\u25ef\u25ef\u25ef\u25ef\u25ef\u25ef\u25ef\u25ef\u25ef\u25ef\u25ef\u25ef\u25ef\u25ef\u25ef\u25ef\u25ef\u25ef\u25ef\u25ef\u25ef\u25ef\u25ef\u25ef\u25ef\u25ef\u25ef\u25ef\u25ef\u25ef\u25ef\u25ef\u25ef\u25ef\u25ef\u25ef\u25ef\u25ef\u25ef\u25ef\u25ef\u25ef\u25ef\u25ef\u25ef\u25ef\u25ef\u25ef\u25ef\u25ef\u25ef\u25ef\u25ef\u25ef\u25ef\u25ef\u25ef\u25ef\u25ef\u25ef\u25ef\u25ef\n",
        "\u25ef\u25ef\u25ef\u25ef\u25ef\u25ef\u25ef\u25ef\u25ef\u25ef\u25ef\u25ef\u25ef\u25ef\u25ef\u25ef\u25ef\u25ef\u25ef\u25ef\u25ef\u25ef\u25ef\u25ef\u25ef\u25ef\u25ef\u25ef\u25ef\u25ef\u25ef\u25ef\u25ef\u25ef\u25ef\u25ef\u25ef\u25ef\u25ef\u25ef\u25ef\u25ef\u25ef\u25ef\u25ef\u25ef\u25ef\u25ef\u25ef\u25ef\u25ef\u25ef\u25ef\u25ef\u25ef\u25ef\u25ef\u25ef\u25ef\u25ef\u25ef\u25ef\u25ef\u25ef\u25ef\u25ef\u25ef\u25ef\u25ef\u25ef\u25ef\u25ef\u25ef\u25ef\u25ef\u25ef\u25ef\u25ef\u25ef\u25ef\n",
        "\u25ef\u25ef\u25ef\u25ef\u25ef\u25ef\u25ef\u25ef\u25ef\u25ef\u25ef\u25ef\u25ef\u25ef\u25ef\u25ef\u25ef\u25ef\u25ef\u25ef\u25ef\u25ef\u25ef\u25ef\u25ef\u25ef\u25ef\u25ef\u25ef\u25ef\u25ef\u25ef\u25ef\u25ef\u25ef\u25ef\u25ef\u25ef\u25ef\u25ef\u25ef\u25ef\u25ef\u25ef\u25ef\u25ef\u25ef\u25ef\u25ef\u25ef\u25ef\u25ef\u25ef\u25ef\u25ef\u25ef\u25ef\u25ef\u25ef\u25ef\u25ef\u25ef\u25ef\u25ef\u25ef\u25ef\u25ef\u25ef\u25ef\u25ef\u25ef\u25ef\u25ef\u25ef\u25ef\u25ef\u25ef\u25ef\u25ef\u25ef\n",
        "\u25ef\u25ef\u25ef\u25ef\u25ef\u25ef\u25ef\u25ef\u25ef\u25ef\u25ef\u25ef\u25ef\u25ef\u25ef\u25ef\u25ef\u25ef\u25ef\u25ef\u25ef\u25ef\u25ef\u25ef\u25ef\u25ef\u25ef\u25ef\u25ef\u25ef\u25ef\u25ef\u25ef\u25ef\u25ef\u25ef\u25ef\u25ef\u25ef\u25ef\u25ef\u25ef\u25ef\u25ef\u25ef\u25ef\u25ef\u25ef\u25ef\u25ef\u25ef\u25ef\u25ef\u25ef\u25ef\u25ef\u25ef\u25ef\u25ef\u25ef\u25ef\u25ef\u25ef\u25ef\u25ef\u25ef\u25ef\u25ef\u25ef\u25ef\u25ef\u25ef\u25ef\u25ef\u25ef\u25ef\u25ef\u25ef\u25ef\u25ef\n",
        "\u25ef\u25ef\u25ef\u25ef\u25ef\u25ef\u25ef\u25ef\u25ef\u25ef\u25ef\u25ef\u25ef\u25ef\u25ef\u25ef\u25ef\u25ef\u25ef\u25ef\u25ef\u25ef\u25ef\u25ef\u25ef\u25ef\u25ef\u25ef\u25ef\u25ef\u25ef\u25ef\u25ef\u25ef\u25ef\u25ef\u25ef\u25ef\u25ef\u25ef\u25ef\u25ef\u25ef\u25ef\u25ef\u25ef\u25ef\u25ef\u25ef\u25ef\u25ef\u25ef\u25ef\u25ef\u25ef\u25ef\u25ef\u25ef\u25ef\u25ef\u25ef\u25ef\u25ef\u25ef\u25ef\u25ef\u25ef\u25ef\u25ef\u25ef\u25ef\u25ef\u25ef\u25ef\u25ef\u25ef\u25ef\u25ef\u25ef\u25ef\n",
        "\u25ef\u25ef\u25ef\u25ef\u25ef\u25ef\u25ef\u25ef\u25ef\u25ef\u25ef\u25ef\u25ef\u25ef\u25ef\u25ef\u25ef\u25ef\u25ef\u25ef\u25ef\u25ef\u25ef\u25ef\u25ef\u25ef\u25ef\u25ef\u25ef\u25ef\u25ef\u25ef\u25ef\u25ef\u25ef\u25ef\u25ef\u25ef\u25ef\u25ef\u25ef\u25ef\u25ef\u25ef\u25ef\u25ef\u25ef\u25ef\u25ef\u25ef\u25ef\u25ef\u25ef\u25ef\u25ef\u25ef\u25ef\u25ef\u25ef\u25ef\u25ef\u25ef\u25ef\u25ef\u25ef\u25ef\u25ef\u25ef\u25ef\u25ef\u25ef\u25ef\u25ef\u25ef\u25ef\u25ef\u25ef\u25ef\u25ef\u25ef\n",
        "\u25ef\u25ef\u25ef\u25ef\u25ef\u25ef\u25ef\u25ef\u25ef\u25ef\u25ef\u25ef\u25ef\u25ef\u25ef\u25ef\u25ef\u25ef\u25ef\u25ef\u25ef\u25ef\u25ef\u25ef\u25ef\u25ef\u25ef\u25ef\u25ef\u25ef\u25ef\u25ef\u25ef\u25ef\u25ef\u25ef\u25ef\u25ef\u25ef\u25ef\u25ef\u25ef\u25ef\u25ef\u25ef\u25ef\u25ef\u25ef\u25ef\u25ef\u25ef\u25ef\u25ef\u25ef\u25ef\u25ef\u25ef\u25ef\u25ef\u25ef\u25ef\u25ef\u25ef\u25ef\u25ef\u25ef\u25ef\u25ef\u25ef\u25ef\u25ef\u25ef\u25ef\u25ef\u25ef\u25ef\u25ef\u25ef\u25ef\u25ef\n",
        "\u25ef\u25ef\u25ef\u25ef\u25ef\u25ef\u25ef\u25ef\u25ef\u25ef\u25ef\u25ef\u25ef\u25ef\u25ef\u25ef\u25ef\u25ef\u25ef\u25ef\u25ef\u25ef\u25ef\u25ef\u25ef\u25ef\u25ef\u25ef\u25ef\u25ef\u25ef\u25ef\u25ef\u25ef\u25ef\u25ef\u25ef\u25ef\u25ef\u25ef\u25ef\u25ef\u25ef\u25ef\u25ef\u25ef\u25ef\u25ef\u25ef\u25ef\u25ef\u25ef\u25ef\u25ef\u25ef\u25ef\u25ef\u25ef\u25ef\u25ef\u25ef\u25ef\u25ef\u25ef\u25ef\u25ef\u25ef\u25ef\u25ef\u25ef\u25ef\u25ef\u25ef\u25ef\u25ef\u25ef\u25ef\u25ef\u25ef\u25ef\n",
        "\u25ef\u25ef\u25ef\u25ef\u25ef\u25ef\u25ef\u25ef\u25ef\u25ef\u25ef\u25ef\u25ef\u25ef\u25ef\u25ef\u25ef\u25ef\u25ef\u25ef\u25ef\u25ef\u25ef\u25ef\u25ef\u25ef\u25ef\u25ef\u25ef\u25ef\u25ef\u25ef\u25ef\u25ef\u25ef\u25ef\u25ef\u25ef\u25ef\u25ef\u25ef\u25ef\u25ef\u25ef\u25ef\u25ef\u25ef\u25ef\u25ef\u25ef\u25ef\u25ef\u25ef\u25ef\u25ef\u25ef\u25ef\u25ef\u25ef\u25ef\u25ef\u25ef\u25ef\u25ef\u25ef\u25ef\u25ef\u25ef\u25ef\u25ef\u25ef\u25ef\u25ef\u25ef\u25ef\u25ef\u25ef\u25ef\u25ef\u25ef\n",
        "\u25ef\u25ef\u25ef\u25ef\u25ef\u25ef\u25ef\u25ef\u25ef\u25ef\u25ef\u25ef\u25ef\u25ef\u25ef\u25ef\u25ef\u25ef\u25ef\u25ef\u25ef\u25ef\u25ef\u25ef\u25ef\u25ef\u25ef\u25ef\u25ef\u25ef\u25ef\u25ef\u25ef\u25ef\u25ef\u25ef\u25ef\u25ef\u25ef\u25ef\u25ef\u25c9\u25c9\u25c9\u25ef\u25ef\u25ef\u25ef\u25ef\u25ef\u25ef\u25ef\u25ef\u25ef\u25ef\u25ef\u25ef\u25ef\u25ef\u25ef\u25ef\u25ef\u25ef\u25ef\u25ef\u25ef\u25ef\u25ef\u25ef\u25ef\u25ef\u25ef\u25ef\u25ef\u25ef\u25ef\u25ef\u25ef\u25ef\u25ef\n",
        "\u25ef\u25ef\u25ef\u25ef\u25ef\u25ef\u25ef\u25ef\u25ef\u25ef\u25ef\u25ef\u25ef\u25ef\u25ef\u25ef\u25ef\u25ef\u25ef\u25ef\u25ef\u25ef\u25ef\u25ef\u25ef\u25ef\u25ef\u25ef\u25ef\u25ef\u25ef\u25ef\u25ef\u25ef\u25ef\u25ef\u25ef\u25ef\u25ef\u25ef\u25ef\u25ef\u25ef\u25ef\u25ef\u25ef\u25ef\u25ef\u25ef\u25ef\u25ef\u25ef\u25ef\u25ef\u25ef\u25ef\u25ef\u25ef\u25ef\u25ef\u25ef\u25ef\u25ef\u25ef\u25ef\u25ef\u25ef\u25ef\u25ef\u25ef\u25ef\u25ef\u25ef\u25ef\u25ef\u25ef\u25ef\u25ef\u25ef\u25ef\n",
        "\u25ef\u25ef\u25ef\u25ef\u25ef\u25ef\u25ef\u25ef\u25ef\u25ef\u25ef\u25ef\u25ef\u25ef\u25ef\u25ef\u25ef\u25ef\u25ef\u25ef\u25ef\u25ef\u25ef\u25ef\u25c9\u25ef\u25ef\u25ef\u25ef\u25ef\u25ef\u25ef\u25ef\u25ef\u25ef\u25ef\u25ef\u25ef\u25ef\u25ef\u25c9\u25ef\u25c9\u25ef\u25ef\u25ef\u25ef\u25ef\u25ef\u25c9\u25ef\u25ef\u25ef\u25ef\u25ef\u25ef\u25ef\u25ef\u25ef\u25ef\u25ef\u25ef\u25ef\u25ef\u25ef\u25ef\u25ef\u25ef\u25ef\u25ef\u25ef\u25ef\u25ef\u25ef\u25ef\u25ef\u25ef\u25ef\u25ef\u25ef\n",
        "\u25ef\u25ef\u25ef\u25ef\u25ef\u25ef\u25ef\u25ef\u25ef\u25ef\u25ef\u25ef\u25ef\u25ef\u25ef\u25ef\u25ef\u25ef\u25ef\u25ef\u25ef\u25ef\u25ef\u25c9\u25c9\u25ef\u25ef\u25ef\u25ef\u25ef\u25ef\u25ef\u25ef\u25ef\u25ef\u25ef\u25ef\u25ef\u25ef\u25ef\u25c9\u25c9\u25ef\u25ef\u25ef\u25ef\u25ef\u25ef\u25c9\u25c9\u25ef\u25ef\u25ef\u25ef\u25ef\u25ef\u25ef\u25ef\u25ef\u25ef\u25ef\u25ef\u25ef\u25ef\u25ef\u25ef\u25ef\u25ef\u25ef\u25ef\u25ef\u25ef\u25ef\u25ef\u25ef\u25ef\u25ef\u25ef\u25ef\u25ef\n",
        "\u25ef\u25ef\u25ef\u25ef\u25ef\u25ef\u25ef\u25ef\u25ef\u25ef\u25ef\u25ef\u25ef\u25ef\u25ef\u25ef\u25ef\u25ef\u25ef\u25ef\u25ef\u25ef\u25ef\u25ef\u25ef\u25c9\u25ef\u25ef\u25ef\u25ef\u25ef\u25ef\u25ef\u25ef\u25ef\u25ef\u25ef\u25ef\u25c9\u25c9\u25ef\u25ef\u25ef\u25ef\u25ef\u25ef\u25c9\u25ef\u25ef\u25ef\u25c9\u25ef\u25ef\u25ef\u25ef\u25ef\u25ef\u25ef\u25ef\u25ef\u25ef\u25ef\u25ef\u25ef\u25ef\u25ef\u25ef\u25ef\u25ef\u25ef\u25ef\u25ef\u25ef\u25ef\u25ef\u25ef\u25ef\u25ef\u25ef\u25ef\n",
        "\u25ef\u25ef\u25ef\u25ef\u25ef\u25ef\u25ef\u25ef\u25ef\u25ef\u25ef\u25ef\u25c9\u25ef\u25ef\u25ef\u25ef\u25ef\u25ef\u25ef\u25ef\u25ef\u25ef\u25ef\u25c9\u25ef\u25ef\u25c9\u25ef\u25ef\u25ef\u25ef\u25ef\u25ef\u25ef\u25ef\u25c9\u25ef\u25ef\u25c9\u25ef\u25ef\u25c9\u25ef\u25c9\u25c9\u25ef\u25ef\u25ef\u25c9\u25ef\u25ef\u25c9\u25ef\u25ef\u25ef\u25ef\u25ef\u25ef\u25ef\u25ef\u25ef\u25ef\u25ef\u25ef\u25ef\u25ef\u25ef\u25ef\u25ef\u25ef\u25ef\u25ef\u25ef\u25ef\u25ef\u25ef\u25ef\u25ef\u25ef\n",
        "\u25ef\u25ef\u25ef\u25ef\u25ef\u25ef\u25ef\u25ef\u25ef\u25ef\u25ef\u25ef\u25c9\u25c9\u25ef\u25ef\u25ef\u25ef\u25ef\u25ef\u25c9\u25ef\u25ef\u25ef\u25ef\u25c9\u25ef\u25c9\u25ef\u25ef\u25c9\u25c9\u25c9\u25ef\u25ef\u25ef\u25c9\u25ef\u25c9\u25ef\u25ef\u25c9\u25ef\u25c9\u25ef\u25ef\u25ef\u25ef\u25ef\u25ef\u25c9\u25ef\u25c9\u25ef\u25ef\u25ef\u25ef\u25ef\u25ef\u25ef\u25ef\u25ef\u25ef\u25ef\u25ef\u25ef\u25ef\u25ef\u25ef\u25ef\u25ef\u25ef\u25ef\u25ef\u25ef\u25ef\u25ef\u25ef\u25ef\u25ef\n",
        "\u25ef\u25ef\u25ef\u25ef\u25ef\u25ef\u25ef\u25ef\u25ef\u25ef\u25ef\u25ef\u25c9\u25ef\u25ef\u25ef\u25ef\u25ef\u25ef\u25ef\u25ef\u25ef\u25ef\u25ef\u25c9\u25ef\u25ef\u25c9\u25ef\u25ef\u25ef\u25ef\u25ef\u25ef\u25ef\u25ef\u25c9\u25ef\u25ef\u25c9\u25ef\u25ef\u25c9\u25ef\u25c9\u25c9\u25ef\u25ef\u25ef\u25c9\u25ef\u25ef\u25c9\u25ef\u25ef\u25ef\u25ef\u25ef\u25ef\u25ef\u25ef\u25ef\u25ef\u25ef\u25ef\u25ef\u25ef\u25ef\u25ef\u25ef\u25ef\u25ef\u25ef\u25ef\u25ef\u25ef\u25ef\u25ef\u25ef\u25ef\n",
        "\u25ef\u25ef\u25ef\u25ef\u25ef\u25ef\u25ef\u25ef\u25ef\u25ef\u25ef\u25ef\u25ef\u25ef\u25ef\u25ef\u25ef\u25ef\u25ef\u25ef\u25ef\u25ef\u25ef\u25ef\u25ef\u25c9\u25ef\u25ef\u25ef\u25ef\u25ef\u25ef\u25ef\u25ef\u25ef\u25ef\u25ef\u25ef\u25c9\u25c9\u25ef\u25ef\u25ef\u25ef\u25ef\u25ef\u25c9\u25ef\u25ef\u25ef\u25c9\u25ef\u25ef\u25ef\u25ef\u25ef\u25ef\u25ef\u25ef\u25ef\u25ef\u25ef\u25ef\u25ef\u25ef\u25ef\u25ef\u25ef\u25ef\u25ef\u25ef\u25ef\u25ef\u25ef\u25ef\u25ef\u25ef\u25ef\u25ef\u25ef\n",
        "\u25ef\u25ef\u25ef\u25ef\u25ef\u25ef\u25ef\u25ef\u25ef\u25ef\u25ef\u25ef\u25ef\u25ef\u25ef\u25ef\u25ef\u25ef\u25ef\u25ef\u25ef\u25ef\u25ef\u25c9\u25c9\u25ef\u25ef\u25ef\u25ef\u25ef\u25ef\u25ef\u25ef\u25ef\u25ef\u25ef\u25ef\u25ef\u25ef\u25ef\u25c9\u25c9\u25ef\u25ef\u25ef\u25ef\u25ef\u25ef\u25c9\u25c9\u25ef\u25ef\u25ef\u25ef\u25ef\u25ef\u25ef\u25ef\u25ef\u25ef\u25ef\u25ef\u25ef\u25ef\u25ef\u25ef\u25ef\u25ef\u25ef\u25ef\u25ef\u25ef\u25ef\u25ef\u25ef\u25ef\u25ef\u25ef\u25ef\u25ef\n",
        "\u25ef\u25ef\u25ef\u25ef\u25ef\u25ef\u25ef\u25ef\u25ef\u25ef\u25ef\u25ef\u25ef\u25ef\u25ef\u25ef\u25ef\u25ef\u25ef\u25ef\u25ef\u25ef\u25ef\u25ef\u25c9\u25ef\u25ef\u25ef\u25ef\u25ef\u25ef\u25ef\u25ef\u25ef\u25ef\u25ef\u25ef\u25ef\u25ef\u25ef\u25c9\u25ef\u25c9\u25ef\u25ef\u25ef\u25ef\u25ef\u25ef\u25c9\u25ef\u25ef\u25ef\u25ef\u25ef\u25ef\u25ef\u25ef\u25ef\u25ef\u25ef\u25ef\u25ef\u25ef\u25ef\u25ef\u25ef\u25ef\u25ef\u25ef\u25ef\u25ef\u25ef\u25ef\u25ef\u25ef\u25ef\u25ef\u25ef\u25ef\n",
        "\u25ef\u25ef\u25ef\u25ef\u25ef\u25ef\u25ef\u25ef\u25ef\u25ef\u25ef\u25ef\u25ef\u25ef\u25ef\u25ef\u25ef\u25ef\u25ef\u25ef\u25ef\u25ef\u25ef\u25ef\u25ef\u25ef\u25ef\u25ef\u25ef\u25ef\u25ef\u25ef\u25ef\u25ef\u25ef\u25ef\u25ef\u25ef\u25ef\u25ef\u25ef\u25ef\u25ef\u25ef\u25ef\u25ef\u25ef\u25ef\u25ef\u25ef\u25ef\u25ef\u25ef\u25ef\u25ef\u25ef\u25ef\u25ef\u25ef\u25ef\u25ef\u25ef\u25ef\u25ef\u25ef\u25ef\u25ef\u25ef\u25ef\u25ef\u25ef\u25ef\u25ef\u25ef\u25ef\u25ef\u25ef\u25ef\u25ef\u25ef\n",
        "\u25ef\u25ef\u25ef\u25ef\u25ef\u25ef\u25ef\u25ef\u25ef\u25ef\u25ef\u25ef\u25ef\u25ef\u25ef\u25ef\u25ef\u25ef\u25ef\u25ef\u25ef\u25ef\u25ef\u25ef\u25ef\u25ef\u25ef\u25ef\u25ef\u25ef\u25ef\u25ef\u25ef\u25ef\u25ef\u25ef\u25ef\u25ef\u25ef\u25ef\u25ef\u25c9\u25c9\u25c9\u25ef\u25ef\u25ef\u25ef\u25ef\u25ef\u25ef\u25ef\u25ef\u25ef\u25ef\u25ef\u25ef\u25ef\u25ef\u25ef\u25ef\u25ef\u25ef\u25ef\u25ef\u25ef\u25ef\u25ef\u25ef\u25ef\u25ef\u25ef\u25ef\u25ef\u25ef\u25ef\u25ef\u25ef\u25ef\u25ef\n",
        "\u25ef\u25ef\u25ef\u25ef\u25ef\u25ef\u25ef\u25ef\u25ef\u25ef\u25ef\u25ef\u25ef\u25ef\u25ef\u25ef\u25ef\u25ef\u25ef\u25ef\u25ef\u25ef\u25ef\u25ef\u25ef\u25ef\u25ef\u25ef\u25ef\u25ef\u25ef\u25ef\u25ef\u25ef\u25ef\u25ef\u25ef\u25ef\u25ef\u25ef\u25ef\u25ef\u25ef\u25ef\u25ef\u25ef\u25ef\u25ef\u25ef\u25ef\u25ef\u25ef\u25ef\u25ef\u25ef\u25ef\u25ef\u25ef\u25ef\u25ef\u25ef\u25ef\u25ef\u25ef\u25ef\u25ef\u25ef\u25ef\u25ef\u25ef\u25ef\u25ef\u25ef\u25ef\u25ef\u25ef\u25ef\u25ef\u25ef\u25ef\n",
        "\u25ef\u25ef\u25ef\u25ef\u25ef\u25ef\u25ef\u25ef\u25ef\u25ef\u25ef\u25ef\u25ef\u25ef\u25ef\u25ef\u25ef\u25ef\u25ef\u25ef\u25ef\u25ef\u25ef\u25ef\u25ef\u25ef\u25ef\u25ef\u25ef\u25ef\u25ef\u25ef\u25ef\u25ef\u25ef\u25ef\u25ef\u25ef\u25ef\u25ef\u25ef\u25ef\u25ef\u25ef\u25ef\u25ef\u25ef\u25ef\u25ef\u25ef\u25ef\u25ef\u25ef\u25ef\u25ef\u25ef\u25ef\u25ef\u25ef\u25ef\u25ef\u25ef\u25ef\u25ef\u25ef\u25ef\u25ef\u25ef\u25ef\u25ef\u25ef\u25ef\u25ef\u25ef\u25ef\u25ef\u25ef\u25ef\u25ef\u25ef\n",
        "\u25ef\u25ef\u25ef\u25ef\u25ef\u25ef\u25ef\u25ef\u25ef\u25ef\u25ef\u25ef\u25ef\u25ef\u25ef\u25ef\u25ef\u25ef\u25ef\u25ef\u25ef\u25ef\u25ef\u25ef\u25ef\u25ef\u25ef\u25ef\u25ef\u25ef\u25ef\u25ef\u25ef\u25ef\u25ef\u25ef\u25ef\u25ef\u25ef\u25ef\u25ef\u25ef\u25ef\u25ef\u25ef\u25ef\u25ef\u25ef\u25ef\u25ef\u25ef\u25ef\u25ef\u25ef\u25ef\u25ef\u25ef\u25ef\u25ef\u25ef\u25ef\u25ef\u25ef\u25ef\u25ef\u25ef\u25ef\u25ef\u25ef\u25ef\u25ef\u25ef\u25ef\u25ef\u25ef\u25ef\u25ef\u25ef\u25ef\u25ef\n",
        "\u25ef\u25ef\u25ef\u25ef\u25ef\u25ef\u25ef\u25ef\u25ef\u25ef\u25ef\u25ef\u25ef\u25ef\u25ef\u25ef\u25ef\u25ef\u25ef\u25ef\u25ef\u25ef\u25ef\u25ef\u25ef\u25ef\u25ef\u25ef\u25ef\u25ef\u25ef\u25ef\u25ef\u25ef\u25ef\u25ef\u25ef\u25ef\u25ef\u25ef\u25ef\u25ef\u25ef\u25ef\u25ef\u25ef\u25ef\u25ef\u25ef\u25ef\u25ef\u25ef\u25ef\u25ef\u25ef\u25ef\u25ef\u25ef\u25ef\u25ef\u25ef\u25ef\u25ef\u25ef\u25ef\u25ef\u25ef\u25ef\u25ef\u25ef\u25ef\u25ef\u25ef\u25ef\u25ef\u25ef\u25ef\u25ef\u25ef\u25ef\n",
        "\u25ef\u25ef\u25ef\u25ef\u25ef\u25ef\u25ef\u25ef\u25ef\u25ef\u25ef\u25ef\u25ef\u25ef\u25ef\u25ef\u25ef\u25ef\u25ef\u25ef\u25ef\u25ef\u25ef\u25ef\u25ef\u25ef\u25ef\u25ef\u25ef\u25ef\u25ef\u25ef\u25ef\u25ef\u25ef\u25ef\u25ef\u25ef\u25ef\u25ef\u25ef\u25ef\u25ef\u25ef\u25ef\u25ef\u25ef\u25ef\u25ef\u25ef\u25ef\u25ef\u25ef\u25ef\u25ef\u25ef\u25ef\u25ef\u25ef\u25ef\u25ef\u25ef\u25ef\u25ef\u25ef\u25ef\u25ef\u25ef\u25ef\u25ef\u25ef\u25ef\u25ef\u25ef\u25ef\u25ef\u25ef\u25ef\u25ef\u25ef\n",
        "\u25ef\u25ef\u25ef\u25ef\u25ef\u25ef\u25ef\u25ef\u25ef\u25ef\u25ef\u25ef\u25ef\u25ef\u25ef\u25ef\u25ef\u25ef\u25ef\u25ef\u25ef\u25ef\u25ef\u25ef\u25ef\u25ef\u25ef\u25ef\u25ef\u25ef\u25ef\u25ef\u25ef\u25ef\u25ef\u25ef\u25ef\u25ef\u25ef\u25ef\u25ef\u25ef\u25ef\u25ef\u25ef\u25ef\u25ef\u25ef\u25ef\u25ef\u25ef\u25ef\u25ef\u25ef\u25ef\u25ef\u25ef\u25ef\u25ef\u25ef\u25ef\u25ef\u25ef\u25ef\u25ef\u25ef\u25ef\u25ef\u25ef\u25ef\u25ef\u25ef\u25ef\u25ef\u25ef\u25ef\u25ef\u25ef\u25ef\u25ef\n",
        "\u25ef\u25ef\u25ef\u25ef\u25ef\u25ef\u25ef\u25ef\u25ef\u25ef\u25ef\u25ef\u25ef\u25ef\u25ef\u25ef\u25ef\u25ef\u25ef\u25ef\u25ef\u25ef\u25ef\u25ef\u25ef\u25ef\u25ef\u25ef\u25ef\u25ef\u25ef\u25ef\u25ef\u25ef\u25ef\u25ef\u25ef\u25ef\u25ef\u25ef\u25ef\u25ef\u25ef\u25ef\u25ef\u25ef\u25ef\u25ef\u25ef\u25ef\u25ef\u25ef\u25ef\u25ef\u25ef\u25ef\u25ef\u25ef\u25ef\u25ef\u25ef\u25ef\u25ef\u25ef\u25ef\u25ef\u25ef\u25ef\u25ef\u25ef\u25ef\u25ef\u25ef\u25ef\u25ef\u25ef\u25ef\u25ef\u25ef\u25ef\n",
        "\u25ef\u25ef\u25ef\u25ef\u25ef\u25ef\u25ef\u25ef\u25ef\u25ef\u25ef\u25ef\u25ef\u25ef\u25ef\u25ef\u25ef\u25ef\u25ef\u25ef\u25ef\u25ef\u25ef\u25ef\u25ef\u25ef\u25ef\u25ef\u25ef\u25ef\u25ef\u25ef\u25ef\u25ef\u25ef\u25ef\u25ef\u25ef\u25ef\u25ef\u25ef\u25ef\u25ef\u25ef\u25ef\u25ef\u25ef\u25ef\u25ef\u25ef\u25ef\u25ef\u25ef\u25ef\u25ef\u25ef\u25ef\u25ef\u25ef\u25ef\u25ef\u25ef\u25ef\u25ef\u25ef\u25ef\u25ef\u25ef\u25ef\u25ef\u25ef\u25ef\u25ef\u25ef\u25ef\u25ef\u25ef\u25ef\u25ef\u25ef\n",
        "\u25ef\u25ef\u25ef\u25ef\u25ef\u25ef\u25ef\u25ef\u25ef\u25ef\u25ef\u25ef\u25ef\u25ef\u25ef\u25ef\u25ef\u25ef\u25ef\u25ef\u25ef\u25ef\u25ef\u25ef\u25ef\u25ef\u25ef\u25ef\u25ef\u25ef\u25ef\u25ef\u25ef\u25ef\u25ef\u25ef\u25ef\u25ef\u25ef\u25ef\u25ef\u25ef\u25ef\u25ef\u25ef\u25ef\u25ef\u25ef\u25ef\u25ef\u25ef\u25ef\u25ef\u25ef\u25ef\u25ef\u25ef\u25ef\u25ef\u25ef\u25ef\u25ef\u25ef\u25ef\u25ef\u25ef\u25ef\u25ef\u25ef\u25ef\u25ef\u25ef\u25ef\u25ef\u25ef\u25ef\u25ef\u25ef\u25ef\u25ef\n",
        "\u25ef\u25ef\u25ef\u25ef\u25ef\u25ef\u25ef\u25ef\u25ef\u25ef\u25ef\u25ef\u25ef\u25ef\u25ef\u25ef\u25ef\u25ef\u25ef\u25ef\u25ef\u25ef\u25ef\u25ef\u25ef\u25ef\u25ef\u25ef\u25ef\u25ef\u25ef\u25ef\u25ef\u25ef\u25ef\u25ef\u25ef\u25ef\u25ef\u25ef\u25ef\u25ef\u25ef\u25ef\u25ef\u25ef\u25ef\u25ef\u25ef\u25ef\u25ef\u25ef\u25ef\u25ef\u25ef\u25ef\u25ef\u25ef\u25ef\u25ef\u25ef\u25ef\u25ef\u25ef\u25ef\u25ef\u25ef\u25ef\u25ef\u25ef\u25ef\u25ef\u25ef\u25ef\u25ef\u25ef\u25ef\u25ef\u25ef\u25ef\n",
        "\u25ef\u25ef\u25ef\u25ef\u25ef\u25ef\u25ef\u25ef\u25ef\u25ef\u25ef\u25ef\u25ef\u25ef\u25ef\u25ef\u25ef\u25ef\u25ef\u25ef\u25ef\u25ef\u25ef\u25ef\u25ef\u25ef\u25ef\u25ef\u25ef\u25ef\u25ef\u25ef\u25ef\u25ef\u25ef\u25ef\u25ef\u25ef\u25ef\u25ef\u25ef\u25ef\u25ef\u25ef\u25ef\u25ef\u25ef\u25ef\u25ef\u25ef\u25ef\u25ef\u25ef\u25ef\u25ef\u25ef\u25ef\u25ef\u25ef\u25ef\u25ef\u25ef\u25ef\u25ef\u25ef\u25ef\u25ef\u25ef\u25ef\u25ef\u25ef\u25ef\u25ef\u25ef\u25ef\u25ef\u25ef\u25ef\u25ef\u25ef\n",
        "\u25ef\u25ef\u25ef\u25ef\u25ef\u25ef\u25ef\u25ef\u25ef\u25ef\u25ef\u25ef\u25ef\u25ef\u25ef\u25ef\u25ef\u25ef\u25ef\u25ef\u25ef\u25ef\u25ef\u25ef\u25ef\u25ef\u25ef\u25ef\u25ef\u25ef\u25ef\u25ef\u25ef\u25ef\u25ef\u25ef\u25ef\u25ef\u25ef\u25ef\u25ef\u25ef\u25ef\u25ef\u25ef\u25ef\u25ef\u25ef\u25ef\u25ef\u25ef\u25ef\u25ef\u25ef\u25ef\u25ef\u25ef\u25ef\u25ef\u25ef\u25ef\u25ef\u25ef\u25ef\u25ef\u25ef\u25ef\u25ef\u25ef\u25ef\u25ef\u25ef\u25ef\u25ef\u25ef\u25ef\u25ef\u25ef\u25ef\u25ef\n",
        "\u25ef\u25ef\u25ef\u25ef\u25ef\u25ef\u25ef\u25ef\u25ef\u25ef\u25ef\u25ef\u25ef\u25ef\u25ef\u25ef\u25ef\u25ef\u25ef\u25ef\u25ef\u25ef\u25ef\u25ef\u25ef\u25ef\u25ef\u25ef\u25ef\u25ef\u25ef\u25ef\u25ef\u25ef\u25ef\u25ef\u25ef\u25ef\u25ef\u25ef\u25ef\u25ef\u25ef\u25ef\u25ef\u25ef\u25ef\u25ef\u25ef\u25ef\u25ef\u25ef\u25ef\u25ef\u25ef\u25ef\u25ef\u25ef\u25ef\u25ef\u25ef\u25ef\u25ef\u25ef\u25ef\u25ef\u25ef\u25ef\u25ef\u25ef\u25ef\u25ef\u25ef\u25ef\u25ef\u25ef\u25ef\u25ef\u25ef\u25ef\n",
        "\u25ef\u25ef\u25ef\u25ef\u25ef\u25ef\u25ef\u25ef\u25ef\u25ef\u25ef\u25ef\u25ef\u25ef\u25ef\u25ef\u25ef\u25ef\u25ef\u25ef\u25ef\u25ef\u25ef\u25ef\u25ef\u25ef\u25ef\u25ef\u25ef\u25ef\u25ef\u25ef\u25ef\u25ef\u25ef\u25ef\u25ef\u25ef\u25ef\u25ef\u25ef\u25ef\u25ef\u25ef\u25ef\u25ef\u25ef\u25ef\u25ef\u25ef\u25ef\u25ef\u25ef\u25ef\u25ef\u25ef\u25ef\u25ef\u25ef\u25ef\u25ef\u25ef\u25ef\u25ef\u25ef\u25ef\u25ef\u25ef\u25ef\u25ef\u25ef\u25ef\u25ef\u25ef\u25ef\u25ef\u25ef\u25ef\u25ef\u25ef\n",
        "\u25ef\u25ef\u25ef\u25ef\u25ef\u25ef\u25ef\u25ef\u25ef\u25ef\u25ef\u25ef\u25ef\u25ef\u25ef\u25ef\u25ef\u25ef\u25ef\u25ef\u25ef\u25ef\u25ef\u25ef\u25ef\u25ef\u25ef\u25ef\u25ef\u25ef\u25ef\u25ef\u25ef\u25ef\u25ef\u25ef\u25ef\u25ef\u25ef\u25ef\u25ef\u25ef\u25ef\u25ef\u25ef\u25ef\u25ef\u25ef\u25ef\u25ef\u25ef\u25ef\u25ef\u25ef\u25ef\u25ef\u25ef\u25ef\u25ef\u25ef\u25ef\u25ef\u25ef\u25ef\u25ef\u25ef\u25ef\u25ef\u25ef\u25ef\u25ef\u25ef\u25ef\u25ef\u25ef\u25ef\u25ef\u25ef\u25ef\u25ef\n",
        "\u25ef\u25ef\u25ef\u25ef\u25ef\u25ef\u25ef\u25ef\u25ef\u25ef\u25ef\u25ef\u25ef\u25ef\u25ef\u25ef\u25ef\u25ef\u25ef\u25ef\u25ef\u25ef\u25ef\u25ef\u25ef\u25ef\u25ef\u25ef\u25ef\u25ef\u25ef\u25ef\u25ef\u25ef\u25ef\u25ef\u25ef\u25ef\u25ef\u25ef\u25ef\u25ef\u25ef\u25ef\u25ef\u25ef\u25ef\u25ef\u25ef\u25ef\u25ef\u25ef\u25ef\u25ef\u25ef\u25ef\u25ef\u25ef\u25ef\u25ef\u25ef\u25ef\u25ef\u25ef\u25ef\u25ef\u25ef\u25ef\u25ef\u25ef\u25ef\u25ef\u25ef\u25ef\u25ef\u25ef\u25ef\u25ef\u25ef\u25ef\n",
        "\u25ef\u25ef\u25ef\u25ef\u25ef\u25ef\u25ef\u25ef\u25ef\u25ef\u25ef\u25ef\u25ef\u25ef\u25ef\u25ef\u25ef\u25ef\u25ef\u25ef\u25ef\u25ef\u25ef\u25ef\u25ef\u25ef\u25ef\u25ef\u25ef\u25ef\u25ef\u25ef\u25ef\u25ef\u25ef\u25ef\u25ef\u25ef\u25ef\u25ef\u25ef\u25ef\u25ef\u25ef\u25ef\u25ef\u25ef\u25ef\u25ef\u25ef\u25ef\u25ef\u25ef\u25ef\u25ef\u25ef\u25ef\u25ef\u25ef\u25ef\u25ef\u25ef\u25ef\u25ef\u25ef\u25ef\u25ef\u25ef\u25ef\u25ef\u25ef\u25ef\u25ef\u25ef\u25ef\u25ef\u25ef\u25ef\u25ef\u25ef\n",
        "\u25ef\u25ef\u25ef\u25ef\u25ef\u25ef\u25ef\u25ef\u25ef\u25ef\u25ef\u25ef\u25ef\u25ef\u25ef\u25ef\u25ef\u25ef\u25ef\u25ef\u25ef\u25ef\u25ef\u25ef\u25ef\u25ef\u25ef\u25ef\u25ef\u25ef\u25ef\u25ef\u25ef\u25ef\u25ef\u25ef\u25ef\u25ef\u25ef\u25ef\u25ef\u25ef\u25ef\u25ef\u25ef\u25ef\u25ef\u25ef\u25ef\u25ef\u25ef\u25ef\u25ef\u25ef\u25ef\u25ef\u25ef\u25ef\u25ef\u25ef\u25ef\u25ef\u25ef\u25ef\u25ef\u25ef\u25ef\u25ef\u25ef\u25ef\u25ef\u25ef\u25ef\u25ef\u25ef\u25ef\u25ef\u25ef\u25ef\u25ef\n"
       ]
      }
     ],
     "prompt_number": 55
    }
   ],
   "metadata": {}
  }
 ]
}