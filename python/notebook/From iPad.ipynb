{
 "metadata": {
  "name": "From iPad"
 },
 "nbformat": 3,
 "nbformat_minor": 0,
 "worksheets": [
  {
   "cells": [
    {
     "cell_type": "code",
     "collapsed": false,
     "input": [
      "import sys\n",
      "dir(sys)"
     ],
     "language": "python",
     "metadata": {},
     "outputs": [
      {
       "output_type": "pyout",
       "prompt_number": 1,
       "text": [
        "['__displayhook__',\n",
        " '__doc__',\n",
        " '__egginsert',\n",
        " '__excepthook__',\n",
        " '__name__',\n",
        " '__package__',\n",
        " '__plen',\n",
        " '__stderr__',\n",
        " '__stdin__',\n",
        " '__stdout__',\n",
        " '_clear_type_cache',\n",
        " '_current_frames',\n",
        " '_getframe',\n",
        " '_mercurial',\n",
        " 'api_version',\n",
        " 'argv',\n",
        " 'builtin_module_names',\n",
        " 'byteorder',\n",
        " 'call_tracing',\n",
        " 'callstats',\n",
        " 'copyright',\n",
        " 'displayhook',\n",
        " 'dont_write_bytecode',\n",
        " 'exc_clear',\n",
        " 'exc_info',\n",
        " 'exc_type',\n",
        " 'excepthook',\n",
        " 'exec_prefix',\n",
        " 'executable',\n",
        " 'exit',\n",
        " 'exitfunc',\n",
        " 'flags',\n",
        " 'float_info',\n",
        " 'float_repr_style',\n",
        " 'getcheckinterval',\n",
        " 'getdefaultencoding',\n",
        " 'getdlopenflags',\n",
        " 'getfilesystemencoding',\n",
        " 'getprofile',\n",
        " 'getrecursionlimit',\n",
        " 'getrefcount',\n",
        " 'getsizeof',\n",
        " 'gettrace',\n",
        " 'hexversion',\n",
        " 'long_info',\n",
        " 'maxint',\n",
        " 'maxsize',\n",
        " 'maxunicode',\n",
        " 'meta_path',\n",
        " 'modules',\n",
        " 'path',\n",
        " 'path_hooks',\n",
        " 'path_importer_cache',\n",
        " 'platform',\n",
        " 'prefix',\n",
        " 'ps1',\n",
        " 'ps2',\n",
        " 'ps3',\n",
        " 'py3kwarning',\n",
        " 'setcheckinterval',\n",
        " 'setdlopenflags',\n",
        " 'setprofile',\n",
        " 'setrecursionlimit',\n",
        " 'settrace',\n",
        " 'stderr',\n",
        " 'stdin',\n",
        " 'stdout',\n",
        " 'subversion',\n",
        " 'version',\n",
        " 'version_info',\n",
        " 'warnoptions']"
       ]
      }
     ],
     "prompt_number": 1
    },
    {
     "cell_type": "code",
     "collapsed": false,
     "input": [
      "import IPython\n",
      "dir(IPython)"
     ],
     "language": "python",
     "metadata": {},
     "outputs": [
      {
       "output_type": "pyout",
       "prompt_number": 2,
       "text": [
        "['Application',\n",
        " 'Config',\n",
        " 'InteractiveShell',\n",
        " 'TryNext',\n",
        " '__author__',\n",
        " '__builtins__',\n",
        " '__doc__',\n",
        " '__file__',\n",
        " '__license__',\n",
        " '__name__',\n",
        " '__package__',\n",
        " '__path__',\n",
        " '__version__',\n",
        " 'absolute_import',\n",
        " 'author',\n",
        " 'config',\n",
        " 'core',\n",
        " 'email',\n",
        " 'embed',\n",
        " 'embed_kernel',\n",
        " 'external',\n",
        " 'extract_module_locals',\n",
        " 'frontend',\n",
        " 'lib',\n",
        " 'os',\n",
        " 'release',\n",
        " 'sys',\n",
        " 'sys_info',\n",
        " 'test',\n",
        " 'testing',\n",
        " 'utils',\n",
        " 'zmq']"
       ]
      }
     ],
     "prompt_number": 2
    },
    {
     "cell_type": "code",
     "collapsed": false,
     "input": [
      "!ls"
     ],
     "language": "python",
     "metadata": {},
     "outputs": [
      {
       "output_type": "stream",
       "stream": "stdout",
       "text": [
        "AT.postflight.6620                  Part 4 - Markdown Cells.ipynb\r\n",
        "\u001b[1m\u001b[36mDesktop\u001b[m\u001b[m                             Part 5 - Rich Display System.ipynb\r\n",
        "\u001b[1m\u001b[36mDocuments\u001b[m\u001b[m                           \u001b[1m\u001b[36mPictures\u001b[m\u001b[m\r\n",
        "\u001b[1m\u001b[36mDownloads\u001b[m\u001b[m                           \u001b[1m\u001b[36mPublic\u001b[m\u001b[m\r\n",
        "\u001b[1m\u001b[36mDropbox\u001b[m\u001b[m                             \u001b[1m\u001b[36mSites\u001b[m\u001b[m\r\n",
        "From iPad.ipynb                     \u001b[1m\u001b[36mVirtualBox VMs\u001b[m\u001b[m\r\n",
        "\u001b[1m\u001b[36mGoogle Drive\u001b[m\u001b[m                        a test.ipynb\r\n",
        "\u001b[1m\u001b[36mLibrary\u001b[m\u001b[m                             \u001b[1m\u001b[36mdoc\u001b[m\u001b[m\r\n",
        "\u001b[1m\u001b[36mMovies\u001b[m\u001b[m                              \u001b[1m\u001b[36mjunk\u001b[m\u001b[m\r\n",
        "\u001b[1m\u001b[36mMusic\u001b[m\u001b[m                               \u001b[1m\u001b[36mpublic_html\u001b[m\u001b[m\r\n",
        "\u001b[1m\u001b[36mNews\u001b[m\u001b[m                                \u001b[1m\u001b[36msrc\u001b[m\u001b[m\r\n",
        "Parallel Magics.ipynb               task1.ipynb\r\n",
        "Part 1 - Running Code.ipynb         taskmap.ipynb\r\n",
        "Part 2 - Basic Output.ipynb         \u001b[1m\u001b[36mvar\u001b[m\u001b[m\r\n",
        "Part 3 - Pylab and Matplotlib.ipynb\r\n"
       ]
      }
     ],
     "prompt_number": 5
    },
    {
     "cell_type": "code",
     "collapsed": false,
     "input": [],
     "language": "python",
     "metadata": {},
     "outputs": []
    }
   ],
   "metadata": {}
  }
 ]
}