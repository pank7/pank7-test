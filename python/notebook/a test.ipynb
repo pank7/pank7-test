{
 "metadata": {
  "name": "a test"
 },
 "nbformat": 3,
 "nbformat_minor": 0,
 "worksheets": [
  {
   "cells": [
    {
     "cell_type": "code",
     "collapsed": false,
     "input": [
      "__name__"
     ],
     "language": "python",
     "metadata": {},
     "outputs": [
      {
       "output_type": "pyout",
       "prompt_number": 47,
       "text": [
        "'__main__'"
       ]
      }
     ],
     "prompt_number": 47
    },
    {
     "cell_type": "code",
     "collapsed": false,
     "input": [
      "import sys\n",
      "dir(sys)"
     ],
     "language": "python",
     "metadata": {},
     "outputs": [
      {
       "output_type": "pyout",
       "prompt_number": 48,
       "text": [
        "['__displayhook__',\n",
        " '__doc__',\n",
        " '__egginsert',\n",
        " '__excepthook__',\n",
        " '__name__',\n",
        " '__package__',\n",
        " '__plen',\n",
        " '__stderr__',\n",
        " '__stdin__',\n",
        " '__stdout__',\n",
        " '_clear_type_cache',\n",
        " '_current_frames',\n",
        " '_getframe',\n",
        " '_mercurial',\n",
        " 'api_version',\n",
        " 'argv',\n",
        " 'builtin_module_names',\n",
        " 'byteorder',\n",
        " 'call_tracing',\n",
        " 'callstats',\n",
        " 'copyright',\n",
        " 'displayhook',\n",
        " 'dont_write_bytecode',\n",
        " 'exc_clear',\n",
        " 'exc_info',\n",
        " 'exc_type',\n",
        " 'excepthook',\n",
        " 'exec_prefix',\n",
        " 'executable',\n",
        " 'exit',\n",
        " 'exitfunc',\n",
        " 'flags',\n",
        " 'float_info',\n",
        " 'float_repr_style',\n",
        " 'getcheckinterval',\n",
        " 'getdefaultencoding',\n",
        " 'getdlopenflags',\n",
        " 'getfilesystemencoding',\n",
        " 'getprofile',\n",
        " 'getrecursionlimit',\n",
        " 'getrefcount',\n",
        " 'getsizeof',\n",
        " 'gettrace',\n",
        " 'hexversion',\n",
        " 'last_traceback',\n",
        " 'last_type',\n",
        " 'last_value',\n",
        " 'long_info',\n",
        " 'maxint',\n",
        " 'maxsize',\n",
        " 'maxunicode',\n",
        " 'meta_path',\n",
        " 'modules',\n",
        " 'path',\n",
        " 'path_hooks',\n",
        " 'path_importer_cache',\n",
        " 'platform',\n",
        " 'prefix',\n",
        " 'ps1',\n",
        " 'ps2',\n",
        " 'ps3',\n",
        " 'py3kwarning',\n",
        " 'setcheckinterval',\n",
        " 'setdlopenflags',\n",
        " 'setprofile',\n",
        " 'setrecursionlimit',\n",
        " 'settrace',\n",
        " 'stderr',\n",
        " 'stdin',\n",
        " 'stdout',\n",
        " 'subversion',\n",
        " 'version',\n",
        " 'version_info',\n",
        " 'warnoptions']"
       ]
      }
     ],
     "prompt_number": 48
    },
    {
     "cell_type": "code",
     "collapsed": false,
     "input": [
      "sys.version_info"
     ],
     "language": "python",
     "metadata": {},
     "outputs": [
      {
       "output_type": "pyout",
       "prompt_number": 49,
       "text": [
        "sys.version_info(major=2, minor=7, micro=2, releaselevel='final', serial=0)"
       ]
      }
     ],
     "prompt_number": 49
    },
    {
     "cell_type": "code",
     "collapsed": false,
     "input": [
      "import IPython.parallel"
     ],
     "language": "python",
     "metadata": {},
     "outputs": [],
     "prompt_number": 19
    },
    {
     "cell_type": "code",
     "collapsed": false,
     "input": [
      "c = IPython.parallel.Client()"
     ],
     "language": "python",
     "metadata": {},
     "outputs": [],
     "prompt_number": 20
    },
    {
     "cell_type": "code",
     "collapsed": false,
     "input": [
      "c.ids"
     ],
     "language": "python",
     "metadata": {},
     "outputs": [
      {
       "output_type": "pyout",
       "prompt_number": 21,
       "text": [
        "[0, 1, 2, 3]"
       ]
      }
     ],
     "prompt_number": 21
    },
    {
     "cell_type": "code",
     "collapsed": false,
     "input": [
      "dview = c[:]"
     ],
     "language": "python",
     "metadata": {},
     "outputs": [],
     "prompt_number": 22
    },
    {
     "cell_type": "code",
     "collapsed": false,
     "input": [
      "dview"
     ],
     "language": "python",
     "metadata": {},
     "outputs": [
      {
       "output_type": "pyout",
       "prompt_number": 23,
       "text": [
        "<DirectView [0, 1, 2, 3]>"
       ]
      }
     ],
     "prompt_number": 23
    },
    {
     "cell_type": "code",
     "collapsed": false,
     "input": [
      "dview.execute('import os', block=True)\n",
      "dview.map_sync(lambda x: str(os.getpid()) + ': ' + str(x**10), range(32))"
     ],
     "language": "python",
     "metadata": {},
     "outputs": [
      {
       "output_type": "pyout",
       "prompt_number": 33,
       "text": [
        "['11455: 0',\n",
        " '11455: 1',\n",
        " '11455: 1024',\n",
        " '11455: 59049',\n",
        " '11455: 1048576',\n",
        " '11455: 9765625',\n",
        " '11455: 60466176',\n",
        " '11455: 282475249',\n",
        " '11456: 1073741824',\n",
        " '11456: 3486784401',\n",
        " '11456: 10000000000',\n",
        " '11456: 25937424601',\n",
        " '11456: 61917364224',\n",
        " '11456: 137858491849',\n",
        " '11456: 289254654976',\n",
        " '11456: 576650390625',\n",
        " '11457: 1099511627776',\n",
        " '11457: 2015993900449',\n",
        " '11457: 3570467226624',\n",
        " '11457: 6131066257801',\n",
        " '11457: 10240000000000',\n",
        " '11457: 16679880978201',\n",
        " '11457: 26559922791424',\n",
        " '11457: 41426511213649',\n",
        " '11458: 63403380965376',\n",
        " '11458: 95367431640625',\n",
        " '11458: 141167095653376',\n",
        " '11458: 205891132094649',\n",
        " '11458: 296196766695424',\n",
        " '11458: 420707233300201',\n",
        " '11458: 590490000000000',\n",
        " '11458: 819628286980801']"
       ]
      }
     ],
     "prompt_number": 33
    },
    {
     "cell_type": "code",
     "collapsed": false,
     "input": [
      "dview.execute('import time')\n",
      "dview.map_sync(lambda x: time.time(), range(32))"
     ],
     "language": "python",
     "metadata": {},
     "outputs": [
      {
       "output_type": "pyout",
       "prompt_number": 34,
       "text": [
        "[1359900186.483329,\n",
        " 1359900186.48333,\n",
        " 1359900186.48333,\n",
        " 1359900186.483331,\n",
        " 1359900186.483331,\n",
        " 1359900186.483336,\n",
        " 1359900186.483337,\n",
        " 1359900186.483337,\n",
        " 1359900186.483257,\n",
        " 1359900186.483258,\n",
        " 1359900186.483258,\n",
        " 1359900186.483259,\n",
        " 1359900186.483259,\n",
        " 1359900186.483259,\n",
        " 1359900186.48326,\n",
        " 1359900186.48326,\n",
        " 1359900186.483333,\n",
        " 1359900186.483334,\n",
        " 1359900186.483334,\n",
        " 1359900186.483334,\n",
        " 1359900186.483335,\n",
        " 1359900186.483335,\n",
        " 1359900186.483336,\n",
        " 1359900186.483336,\n",
        " 1359900186.483758,\n",
        " 1359900186.483759,\n",
        " 1359900186.48376,\n",
        " 1359900186.48376,\n",
        " 1359900186.483761,\n",
        " 1359900186.483761,\n",
        " 1359900186.483762,\n",
        " 1359900186.483762]"
       ]
      }
     ],
     "prompt_number": 34
    },
    {
     "cell_type": "code",
     "collapsed": false,
     "input": [
      "def t(x):\n",
      "    import time\n",
      "    return (x, time.time())\n",
      "dview.map_sync(t, range(32))"
     ],
     "language": "python",
     "metadata": {},
     "outputs": [
      {
       "output_type": "pyout",
       "prompt_number": 57,
       "text": [
        "[(0, 1359880095.340453),\n",
        " (1, 1359880095.340456),\n",
        " (2, 1359880095.340459),\n",
        " (3, 1359880095.34046),\n",
        " (4, 1359880095.340462),\n",
        " (5, 1359880095.340464),\n",
        " (6, 1359880095.340465),\n",
        " (7, 1359880095.34047),\n",
        " (8, 1359880095.341541),\n",
        " (9, 1359880095.341544),\n",
        " (10, 1359880095.34155),\n",
        " (11, 1359880095.341553),\n",
        " (12, 1359880095.341556),\n",
        " (13, 1359880095.341558),\n",
        " (14, 1359880095.34156),\n",
        " (15, 1359880095.341563),\n",
        " (16, 1359880095.342682),\n",
        " (17, 1359880095.342684),\n",
        " (18, 1359880095.342687),\n",
        " (19, 1359880095.342689),\n",
        " (20, 1359880095.34269),\n",
        " (21, 1359880095.342691),\n",
        " (22, 1359880095.342692),\n",
        " (23, 1359880095.342693),\n",
        " (24, 1359880095.343553),\n",
        " (25, 1359880095.343557),\n",
        " (26, 1359880095.343564),\n",
        " (27, 1359880095.343567),\n",
        " (28, 1359880095.34357),\n",
        " (29, 1359880095.343573),\n",
        " (30, 1359880095.343575),\n",
        " (31, 1359880095.343578)]"
       ]
      }
     ],
     "prompt_number": 57
    },
    {
     "cell_type": "code",
     "collapsed": false,
     "input": [
      "ls"
     ],
     "language": "python",
     "metadata": {},
     "outputs": [
      {
       "output_type": "stream",
       "stream": "stdout",
       "text": [
        "GNUMakefile                   \u001b[1m\u001b[36mgoogle\u001b[m\u001b[m/                       \u001b[1m\u001b[36mpank7-lib\u001b[m\u001b[m/\r\n",
        "\u001b[1m\u001b[36mGhost.py\u001b[m\u001b[m/                     graph.tar.bz2                 \u001b[1m\u001b[36mpank7-pagerank\u001b[m\u001b[m/\r\n",
        "\u001b[1m\u001b[36mPymacs\u001b[m\u001b[m/                       \u001b[1m\u001b[36mhadoop-common\u001b[m\u001b[m/                \u001b[1m\u001b[36mpank7-test\u001b[m\u001b[m/\r\n",
        "\u001b[1m\u001b[36mSlim\u001b[m\u001b[m/                         \u001b[1m\u001b[36mhbase\u001b[m\u001b[m/                        \u001b[1m\u001b[36mpank7-tinyspider\u001b[m\u001b[m/\r\n",
        "\u001b[1m\u001b[36mSlim-Extras\u001b[m\u001b[m/                  \u001b[1m\u001b[36mhelm\u001b[m\u001b[m/                         \u001b[1m\u001b[36mphp-mode\u001b[m\u001b[m/\r\n",
        "\u001b[1m\u001b[36mSuiteSparse\u001b[m\u001b[m/                  \u001b[1m\u001b[36miTerm2-Color-Schemes\u001b[m\u001b[m/         php-mode.el\r\n",
        "SuiteSparse-4.0.2.tar.gz      \u001b[1m\u001b[36mipython\u001b[m\u001b[m/                      \u001b[1m\u001b[36mphpplus-mode\u001b[m\u001b[m/\r\n",
        "\u001b[1m\u001b[36mTwig\u001b[m\u001b[m/                         \u001b[1m\u001b[36mmagit\u001b[m\u001b[m/                        \u001b[1m\u001b[36mpython-guide\u001b[m\u001b[m/\r\n",
        "UMFPACK-5.6.1.tar.gz          \u001b[1m\u001b[36mmahout\u001b[m\u001b[m/                       \u001b[1m\u001b[36mpython-jswebkit-0.0.3\u001b[m\u001b[m/\r\n",
        "\u001b[1m\u001b[36mcolor-theme-6.6.0\u001b[m\u001b[m/            \u001b[1m\u001b[36mmelpa\u001b[m\u001b[m/                        python-jswebkit-0.0.3.tar.gz\r\n",
        "color-theme-6.6.0.tar.gz      metis-4.0.1.tar.gz            \u001b[1m\u001b[36mpython-mode.el-6.0.8\u001b[m\u001b[m/\r\n",
        "color-theme.el                metis-5.0.2.tar.gz            quicklisp.lisp\r\n",
        "color-theme.elc               \u001b[1m\u001b[36mmongo\u001b[m\u001b[m/                        ruby-1.9.2-p290.tar.bz2\r\n",
        "\u001b[1m\u001b[36mcpulimit\u001b[m\u001b[m/                     \u001b[1m\u001b[36mnode_modules\u001b[m\u001b[m/                 \u001b[1m\u001b[36mruby3-code\u001b[m\u001b[m/\r\n",
        "\u001b[1m\u001b[36mdiveintopython\u001b[m\u001b[m/               \u001b[1m\u001b[36morg-mode\u001b[m\u001b[m/                     ruby3-code.tgz\r\n",
        "\u001b[1m\u001b[36mdjango\u001b[m\u001b[m/                       \u001b[1m\u001b[36mpank7-config\u001b[m\u001b[m/                 \u001b[1m\u001b[36msymfony\u001b[m\u001b[m/\r\n",
        "\u001b[1m\u001b[36memacs\u001b[m\u001b[m/                        \u001b[1m\u001b[36mpank7-graph\u001b[m\u001b[m/\r\n",
        "\u001b[1m\u001b[36mflot\u001b[m\u001b[m/                         \u001b[1m\u001b[36mpank7-httpheader\u001b[m\u001b[m/\r\n"
       ]
      }
     ],
     "prompt_number": 58
    },
    {
     "cell_type": "code",
     "collapsed": false,
     "input": [
      "@dview.remote(block=True)\n",
      "def getpid():\n",
      "    import os\n",
      "    return os.getpid()\n",
      "\n",
      "getpid()"
     ],
     "language": "python",
     "metadata": {},
     "outputs": [
      {
       "output_type": "pyout",
       "prompt_number": 59,
       "text": [
        "[11455, 11456, 11457, 11458]"
       ]
      }
     ],
     "prompt_number": 59
    },
    {
     "cell_type": "code",
     "collapsed": false,
     "input": [
      "import numpy as np\n",
      "A = np.random.random((64,48))\n",
      "print A\n",
      "print A * A"
     ],
     "language": "python",
     "metadata": {},
     "outputs": [
      {
       "output_type": "stream",
       "stream": "stdout",
       "text": [
        "[[ 0.48184658  0.66095498  0.19978405 ...,  0.53722947  0.79643529\n",
        "   0.61069377]\n",
        " [ 0.96878521  0.78384421  0.16235966 ...,  0.206753    0.29748911\n",
        "   0.82909248]\n",
        " [ 0.72405915  0.90744831  0.09029174 ...,  0.97861783  0.1203679\n",
        "   0.04254398]\n",
        " ..., \n",
        " [ 0.85931832  0.10149292  0.42591219 ...,  0.93075236  0.98898346\n",
        "   0.34987928]\n",
        " [ 0.11407779  0.52529912  0.69006481 ...,  0.79938894  0.58003022\n",
        "   0.55978434]\n",
        " [ 0.65720803  0.66736075  0.87045351 ...,  0.49758095  0.71754453\n",
        "   0.77603854]]\n",
        "[[ 0.23217613  0.43686148  0.03991367 ...,  0.28861551  0.63430917\n",
        "   0.37294688]\n",
        " [ 0.93854479  0.61441174  0.02636066 ...,  0.0427468   0.08849977\n",
        "   0.68739434]\n",
        " [ 0.52426166  0.82346244  0.0081526  ...,  0.95769285  0.01448843\n",
        "   0.00180999]\n",
        " ..., \n",
        " [ 0.73842797  0.01030081  0.1814012  ...,  0.86629995  0.97808828\n",
        "   0.12241551]\n",
        " [ 0.01301374  0.27593917  0.47618945 ...,  0.63902268  0.33643505\n",
        "   0.31335851]\n",
        " [ 0.43192239  0.44537038  0.75768931 ...,  0.2475868   0.51487015\n",
        "   0.60223581]]\n"
       ]
      }
     ],
     "prompt_number": 60
    },
    {
     "cell_type": "code",
     "collapsed": false,
     "input": [
      "getpid()"
     ],
     "language": "python",
     "metadata": {},
     "outputs": [
      {
       "output_type": "pyout",
       "prompt_number": 62,
       "text": [
        "[11455, 11456, 11457, 11458]"
       ]
      }
     ],
     "prompt_number": 62
    },
    {
     "cell_type": "code",
     "collapsed": false,
     "input": [
      "import IPython\n",
      "print IPython.__version__"
     ],
     "language": "python",
     "metadata": {},
     "outputs": [
      {
       "output_type": "stream",
       "stream": "stdout",
       "text": [
        "0.13.1\n"
       ]
      }
     ],
     "prompt_number": 63
    },
    {
     "cell_type": "code",
     "collapsed": false,
     "input": [
      "IPython?"
     ],
     "language": "python",
     "metadata": {},
     "outputs": [],
     "prompt_number": 64
    },
    {
     "cell_type": "code",
     "collapsed": false,
     "input": [
      "IPython.author"
     ],
     "language": "python",
     "metadata": {},
     "outputs": [
      {
       "output_type": "pyout",
       "prompt_number": 65,
       "text": [
        "'Fernando Perez'"
       ]
      }
     ],
     "prompt_number": 65
    },
    {
     "cell_type": "code",
     "collapsed": false,
     "input": [
      "%magic"
     ],
     "language": "python",
     "metadata": {},
     "outputs": [],
     "prompt_number": 66
    },
    {
     "cell_type": "code",
     "collapsed": false,
     "input": [
      "%edit"
     ],
     "language": "python",
     "metadata": {},
     "outputs": [
      {
       "output_type": "stream",
       "stream": "stdout",
       "text": [
        "IPython will make a temporary file named: /var/folders/zd/1t8mz7ld2k104qpv7djfmtlr0000gn/T/ipython_edit_GKO942.py\n"
       ]
      }
     ],
     "prompt_number": 67
    },
    {
     "cell_type": "code",
     "collapsed": false,
     "input": [
      "!ls"
     ],
     "language": "python",
     "metadata": {},
     "outputs": [
      {
       "output_type": "stream",
       "stream": "stdout",
       "text": [
        "GNUMakefile                  \u001b[1m\u001b[36mgoogle\u001b[m\u001b[m                       \u001b[1m\u001b[36mpank7-lib\u001b[m\u001b[m\r\n",
        "\u001b[1m\u001b[36mGhost.py\u001b[m\u001b[m                     graph.tar.bz2                \u001b[1m\u001b[36mpank7-pagerank\u001b[m\u001b[m\r\n",
        "\u001b[1m\u001b[36mPymacs\u001b[m\u001b[m                       \u001b[1m\u001b[36mhadoop-common\u001b[m\u001b[m                \u001b[1m\u001b[36mpank7-test\u001b[m\u001b[m\r\n",
        "\u001b[1m\u001b[36mSlim\u001b[m\u001b[m                         \u001b[1m\u001b[36mhbase\u001b[m\u001b[m                        \u001b[1m\u001b[36mpank7-tinyspider\u001b[m\u001b[m\r\n",
        "\u001b[1m\u001b[36mSlim-Extras\u001b[m\u001b[m                  \u001b[1m\u001b[36mhelm\u001b[m\u001b[m                         \u001b[1m\u001b[36mphp-mode\u001b[m\u001b[m\r\n",
        "\u001b[1m\u001b[36mSuiteSparse\u001b[m\u001b[m                  \u001b[1m\u001b[36miTerm2-Color-Schemes\u001b[m\u001b[m         php-mode.el\r\n",
        "SuiteSparse-4.0.2.tar.gz     \u001b[1m\u001b[36mipython\u001b[m\u001b[m                      \u001b[1m\u001b[36mphpplus-mode\u001b[m\u001b[m\r\n",
        "\u001b[1m\u001b[36mTwig\u001b[m\u001b[m                         \u001b[1m\u001b[36mmagit\u001b[m\u001b[m                        \u001b[1m\u001b[36mpython-guide\u001b[m\u001b[m\r\n",
        "UMFPACK-5.6.1.tar.gz         \u001b[1m\u001b[36mmahout\u001b[m\u001b[m                       \u001b[1m\u001b[36mpython-jswebkit-0.0.3\u001b[m\u001b[m\r\n",
        "\u001b[1m\u001b[36mcolor-theme-6.6.0\u001b[m\u001b[m            \u001b[1m\u001b[36mmelpa\u001b[m\u001b[m                        python-jswebkit-0.0.3.tar.gz\r\n",
        "color-theme-6.6.0.tar.gz     metis-4.0.1.tar.gz           \u001b[1m\u001b[36mpython-mode.el-6.0.8\u001b[m\u001b[m\r\n",
        "color-theme.el               metis-5.0.2.tar.gz           quicklisp.lisp\r\n",
        "color-theme.elc              \u001b[1m\u001b[36mmongo\u001b[m\u001b[m                        ruby-1.9.2-p290.tar.bz2\r\n",
        "\u001b[1m\u001b[36mcpulimit\u001b[m\u001b[m                     \u001b[1m\u001b[36mnode_modules\u001b[m\u001b[m                 \u001b[1m\u001b[36mruby3-code\u001b[m\u001b[m\r\n",
        "\u001b[1m\u001b[36mdiveintopython\u001b[m\u001b[m               \u001b[1m\u001b[36morg-mode\u001b[m\u001b[m                     ruby3-code.tgz\r\n",
        "\u001b[1m\u001b[36mdjango\u001b[m\u001b[m                       \u001b[1m\u001b[36mpank7-config\u001b[m\u001b[m                 \u001b[1m\u001b[36msymfony\u001b[m\u001b[m\r\n",
        "\u001b[1m\u001b[36memacs\u001b[m\u001b[m                        \u001b[1m\u001b[36mpank7-graph\u001b[m\u001b[m\r\n",
        "\u001b[1m\u001b[36mflot\u001b[m\u001b[m                         \u001b[1m\u001b[36mpank7-httpheader\u001b[m\u001b[m\r\n"
       ]
      }
     ],
     "prompt_number": 68
    },
    {
     "cell_type": "code",
     "collapsed": false,
     "input": [
      "!ls"
     ],
     "language": "python",
     "metadata": {},
     "outputs": [
      {
       "output_type": "stream",
       "stream": "stdout",
       "text": [
        "GNUMakefile                  \u001b[1m\u001b[36mgoogle\u001b[m\u001b[m                       \u001b[1m\u001b[36mpank7-lib\u001b[m\u001b[m\r\n",
        "\u001b[1m\u001b[36mGhost.py\u001b[m\u001b[m                     graph.tar.bz2                \u001b[1m\u001b[36mpank7-pagerank\u001b[m\u001b[m\r\n",
        "\u001b[1m\u001b[36mPymacs\u001b[m\u001b[m                       \u001b[1m\u001b[36mhadoop-common\u001b[m\u001b[m                \u001b[1m\u001b[36mpank7-test\u001b[m\u001b[m\r\n",
        "\u001b[1m\u001b[36mSlim\u001b[m\u001b[m                         \u001b[1m\u001b[36mhbase\u001b[m\u001b[m                        \u001b[1m\u001b[36mpank7-tinyspider\u001b[m\u001b[m\r\n",
        "\u001b[1m\u001b[36mSlim-Extras\u001b[m\u001b[m                  \u001b[1m\u001b[36mhelm\u001b[m\u001b[m                         \u001b[1m\u001b[36mphp-mode\u001b[m\u001b[m\r\n",
        "\u001b[1m\u001b[36mSuiteSparse\u001b[m\u001b[m                  \u001b[1m\u001b[36miTerm2-Color-Schemes\u001b[m\u001b[m         php-mode.el\r\n",
        "SuiteSparse-4.0.2.tar.gz     \u001b[1m\u001b[36mipython\u001b[m\u001b[m                      \u001b[1m\u001b[36mphpplus-mode\u001b[m\u001b[m\r\n",
        "\u001b[1m\u001b[36mTwig\u001b[m\u001b[m                         \u001b[1m\u001b[36mmagit\u001b[m\u001b[m                        \u001b[1m\u001b[36mpython-guide\u001b[m\u001b[m\r\n",
        "UMFPACK-5.6.1.tar.gz         \u001b[1m\u001b[36mmahout\u001b[m\u001b[m                       \u001b[1m\u001b[36mpython-jswebkit-0.0.3\u001b[m\u001b[m\r\n",
        "\u001b[1m\u001b[36mcolor-theme-6.6.0\u001b[m\u001b[m            \u001b[1m\u001b[36mmelpa\u001b[m\u001b[m                        python-jswebkit-0.0.3.tar.gz\r\n",
        "color-theme-6.6.0.tar.gz     metis-4.0.1.tar.gz           \u001b[1m\u001b[36mpython-mode.el-6.0.8\u001b[m\u001b[m\r\n",
        "color-theme.el               metis-5.0.2.tar.gz           quicklisp.lisp\r\n",
        "color-theme.elc              \u001b[1m\u001b[36mmongo\u001b[m\u001b[m                        ruby-1.9.2-p290.tar.bz2\r\n",
        "\u001b[1m\u001b[36mcpulimit\u001b[m\u001b[m                     \u001b[1m\u001b[36mnode_modules\u001b[m\u001b[m                 \u001b[1m\u001b[36mruby3-code\u001b[m\u001b[m\r\n",
        "\u001b[1m\u001b[36mdiveintopython\u001b[m\u001b[m               \u001b[1m\u001b[36morg-mode\u001b[m\u001b[m                     ruby3-code.tgz\r\n",
        "\u001b[1m\u001b[36mdjango\u001b[m\u001b[m                       \u001b[1m\u001b[36mpank7-config\u001b[m\u001b[m                 \u001b[1m\u001b[36msymfony\u001b[m\u001b[m\r\n",
        "\u001b[1m\u001b[36memacs\u001b[m\u001b[m                        \u001b[1m\u001b[36mpank7-graph\u001b[m\u001b[m\r\n",
        "\u001b[1m\u001b[36mflot\u001b[m\u001b[m                         \u001b[1m\u001b[36mpank7-httpheader\u001b[m\u001b[m\r\n"
       ]
      }
     ],
     "prompt_number": 69
    },
    {
     "cell_type": "code",
     "collapsed": false,
     "input": [
      "dir(c)"
     ],
     "language": "python",
     "metadata": {},
     "outputs": [
      {
       "output_type": "pyout",
       "prompt_number": 70,
       "text": [
        "['__class__',\n",
        " '__del__',\n",
        " '__delattr__',\n",
        " '__dict__',\n",
        " '__doc__',\n",
        " '__format__',\n",
        " '__getattribute__',\n",
        " '__getitem__',\n",
        " '__hash__',\n",
        " '__init__',\n",
        " '__len__',\n",
        " '__metaclass__',\n",
        " '__module__',\n",
        " '__new__',\n",
        " '__reduce__',\n",
        " '__reduce_ex__',\n",
        " '__repr__',\n",
        " '__setattr__',\n",
        " '__sizeof__',\n",
        " '__str__',\n",
        " '__subclasshook__',\n",
        " '__weakref__',\n",
        " '_add_notifiers',\n",
        " '_build_targets',\n",
        " '_cd',\n",
        " '_closed',\n",
        " '_config',\n",
        " '_connect',\n",
        " '_connected',\n",
        " '_context',\n",
        " '_control_socket',\n",
        " '_engines',\n",
        " '_extract_metadata',\n",
        " '_flush_control',\n",
        " '_flush_ignored_control',\n",
        " '_flush_ignored_hub_replies',\n",
        " '_flush_iopub',\n",
        " '_flush_notifications',\n",
        " '_flush_results',\n",
        " '_handle_apply_reply',\n",
        " '_handle_execute_reply',\n",
        " '_handle_stranded_msgs',\n",
        " '_ids',\n",
        " '_ignored_control_replies',\n",
        " '_ignored_hub_replies',\n",
        " '_iopub_socket',\n",
        " '_maybe_raise',\n",
        " '_mux_socket',\n",
        " '_notification_handlers',\n",
        " '_notification_socket',\n",
        " '_notify_trait',\n",
        " '_outstanding_dict',\n",
        " '_profile_default',\n",
        " '_query_socket',\n",
        " '_queue_handlers',\n",
        " '_register_engine',\n",
        " '_remove_notifiers',\n",
        " '_setup_profile_dir',\n",
        " '_spin_every',\n",
        " '_spin_thread',\n",
        " '_ssh',\n",
        " '_stop_scheduling_tasks',\n",
        " '_stop_spinning',\n",
        " '_task_scheme',\n",
        " '_task_socket',\n",
        " '_trait_dyn_inits',\n",
        " '_trait_notifiers',\n",
        " '_trait_values',\n",
        " '_unregister_engine',\n",
        " '_unwrap_exception',\n",
        " '_update_engines',\n",
        " 'abort',\n",
        " 'activate',\n",
        " 'block',\n",
        " 'class_trait_names',\n",
        " 'class_traits',\n",
        " 'clear',\n",
        " 'close',\n",
        " 'db_query',\n",
        " 'debug',\n",
        " 'direct_view',\n",
        " 'get_result',\n",
        " 'history',\n",
        " 'hub_history',\n",
        " 'ids',\n",
        " 'load_balanced_view',\n",
        " 'metadata',\n",
        " 'on_trait_change',\n",
        " 'outstanding',\n",
        " 'profile',\n",
        " 'purge_results',\n",
        " 'queue_status',\n",
        " 'resubmit',\n",
        " 'result_status',\n",
        " 'results',\n",
        " 'send_apply_request',\n",
        " 'send_execute_request',\n",
        " 'session',\n",
        " 'shutdown',\n",
        " 'spin',\n",
        " 'spin_thread',\n",
        " 'stop_spin_thread',\n",
        " 'trait_metadata',\n",
        " 'trait_names',\n",
        " 'traits',\n",
        " 'wait']"
       ]
      }
     ],
     "prompt_number": 70
    },
    {
     "cell_type": "code",
     "collapsed": false,
     "input": [
      "!whoami"
     ],
     "language": "python",
     "metadata": {},
     "outputs": [
      {
       "output_type": "stream",
       "stream": "stdout",
       "text": [
        "pank7\r\n"
       ]
      }
     ],
     "prompt_number": 71
    },
    {
     "cell_type": "code",
     "collapsed": false,
     "input": [
      "!w"
     ],
     "language": "python",
     "metadata": {},
     "outputs": [
      {
       "output_type": "stream",
       "stream": "stdout",
       "text": [
        "17:28  up 2 days, 18:59, 4 users, load averages: 1.25 1.35 1.38\r\n",
        "USER     TTY      FROM              LOGIN@  IDLE WHAT\r\n",
        "pank7    console  -                Thu22   2days -\r\n",
        "pank7    s000     -                Sat17      59 /System/Library/Frameworks/Pyt\r\n",
        "pank7    s001     -                Sat17       3 -zsh\r\n",
        "pank7    s002     -                16:01       - -zsh\r\n"
       ]
      }
     ],
     "prompt_number": 72
    },
    {
     "cell_type": "code",
     "collapsed": false,
     "input": [
      "%pwd"
     ],
     "language": "python",
     "metadata": {},
     "outputs": [
      {
       "output_type": "pyout",
       "prompt_number": 73,
       "text": [
        "u'/Users/pank7/src'"
       ]
      }
     ],
     "prompt_number": 73
    },
    {
     "cell_type": "code",
     "collapsed": false,
     "input": [
      "%cd src/"
     ],
     "language": "python",
     "metadata": {},
     "outputs": [
      {
       "output_type": "stream",
       "stream": "stdout",
       "text": [
        "/Users/pank7/src\n"
       ]
      }
     ],
     "prompt_number": 17
    },
    {
     "cell_type": "code",
     "collapsed": false,
     "input": [
      "ls"
     ],
     "language": "python",
     "metadata": {},
     "outputs": [
      {
       "output_type": "stream",
       "stream": "stdout",
       "text": [
        "GNUMakefile                   \u001b[1m\u001b[36mgoogle\u001b[m\u001b[m/                       \u001b[1m\u001b[36mpank7-lib\u001b[m\u001b[m/\r\n",
        "\u001b[1m\u001b[36mGhost.py\u001b[m\u001b[m/                     graph.tar.bz2                 \u001b[1m\u001b[36mpank7-pagerank\u001b[m\u001b[m/\r\n",
        "\u001b[1m\u001b[36mPymacs\u001b[m\u001b[m/                       \u001b[1m\u001b[36mhadoop-common\u001b[m\u001b[m/                \u001b[1m\u001b[36mpank7-test\u001b[m\u001b[m/\r\n",
        "\u001b[1m\u001b[36mSlim\u001b[m\u001b[m/                         \u001b[1m\u001b[36mhbase\u001b[m\u001b[m/                        \u001b[1m\u001b[36mpank7-tinyspider\u001b[m\u001b[m/\r\n",
        "\u001b[1m\u001b[36mSlim-Extras\u001b[m\u001b[m/                  \u001b[1m\u001b[36mhelm\u001b[m\u001b[m/                         \u001b[1m\u001b[36mphp-mode\u001b[m\u001b[m/\r\n",
        "\u001b[1m\u001b[36mSuiteSparse\u001b[m\u001b[m/                  \u001b[1m\u001b[36miTerm2-Color-Schemes\u001b[m\u001b[m/         php-mode.el\r\n",
        "SuiteSparse-4.0.2.tar.gz      \u001b[1m\u001b[36mipython\u001b[m\u001b[m/                      \u001b[1m\u001b[36mphpplus-mode\u001b[m\u001b[m/\r\n",
        "\u001b[1m\u001b[36mTwig\u001b[m\u001b[m/                         \u001b[1m\u001b[36mmagit\u001b[m\u001b[m/                        \u001b[1m\u001b[36mpython-guide\u001b[m\u001b[m/\r\n",
        "UMFPACK-5.6.1.tar.gz          \u001b[1m\u001b[36mmahout\u001b[m\u001b[m/                       \u001b[1m\u001b[36mpython-jswebkit-0.0.3\u001b[m\u001b[m/\r\n",
        "\u001b[1m\u001b[36mcolor-theme-6.6.0\u001b[m\u001b[m/            \u001b[1m\u001b[36mmelpa\u001b[m\u001b[m/                        python-jswebkit-0.0.3.tar.gz\r\n",
        "color-theme-6.6.0.tar.gz      metis-4.0.1.tar.gz            \u001b[1m\u001b[36mpython-mode.el-6.0.8\u001b[m\u001b[m/\r\n",
        "color-theme.el                metis-5.0.2.tar.gz            quicklisp.lisp\r\n",
        "color-theme.elc               \u001b[1m\u001b[36mmongo\u001b[m\u001b[m/                        ruby-1.9.2-p290.tar.bz2\r\n",
        "\u001b[1m\u001b[36mcpulimit\u001b[m\u001b[m/                     \u001b[1m\u001b[36mnode_modules\u001b[m\u001b[m/                 \u001b[1m\u001b[36mruby3-code\u001b[m\u001b[m/\r\n",
        "\u001b[1m\u001b[36mdiveintopython\u001b[m\u001b[m/               \u001b[1m\u001b[36morg-mode\u001b[m\u001b[m/                     ruby3-code.tgz\r\n",
        "\u001b[1m\u001b[36mdjango\u001b[m\u001b[m/                       \u001b[1m\u001b[36mpank7-config\u001b[m\u001b[m/                 \u001b[1m\u001b[36msymfony\u001b[m\u001b[m/\r\n",
        "\u001b[1m\u001b[36memacs\u001b[m\u001b[m/                        \u001b[1m\u001b[36mpank7-graph\u001b[m\u001b[m/\r\n",
        "\u001b[1m\u001b[36mflot\u001b[m\u001b[m/                         \u001b[1m\u001b[36mpank7-httpheader\u001b[m\u001b[m/\r\n"
       ]
      }
     ],
     "prompt_number": 75
    },
    {
     "cell_type": "code",
     "collapsed": false,
     "input": [
      "%%timeit x = range(10000)\n",
      "min(x)\n",
      "max(x)"
     ],
     "language": "python",
     "metadata": {},
     "outputs": [
      {
       "output_type": "stream",
       "stream": "stdout",
       "text": [
        "1000 loops, best of 3: 565 us per loop\n"
       ]
      }
     ],
     "prompt_number": 76
    },
    {
     "cell_type": "code",
     "collapsed": false,
     "input": [
      "dview"
     ],
     "language": "python",
     "metadata": {},
     "outputs": [
      {
       "output_type": "pyout",
       "prompt_number": 79,
       "text": [
        "<DirectView [0, 1, 2, 3]>"
       ]
      }
     ],
     "prompt_number": 79
    },
    {
     "cell_type": "code",
     "collapsed": false,
     "input": [
      "import os\n",
      "os.getpid()"
     ],
     "language": "python",
     "metadata": {},
     "outputs": [
      {
       "output_type": "pyout",
       "prompt_number": 80,
       "text": [
        "11483"
       ]
      }
     ],
     "prompt_number": 80
    },
    {
     "cell_type": "code",
     "collapsed": false,
     "input": [
      "%pylab inline"
     ],
     "language": "python",
     "metadata": {},
     "outputs": [
      {
       "output_type": "stream",
       "stream": "stdout",
       "text": [
        "\n",
        "Welcome to pylab, a matplotlib-based Python environment [backend: module://IPython.zmq.pylab.backend_inline].\n",
        "For more information, type 'help(pylab)'.\n"
       ]
      }
     ],
     "prompt_number": 1
    },
    {
     "cell_type": "code",
     "collapsed": false,
     "input": [
      "#print dir()\n",
      "plot(xrange(1000), [x * x * x * x for x in xrange(1000)])"
     ],
     "language": "python",
     "metadata": {},
     "outputs": [
      {
       "output_type": "pyout",
       "prompt_number": 16,
       "text": [
        "[<matplotlib.lines.Line2D at 0x103755450>]"
       ]
      },
      {
       "output_type": "display_data",
       "png": "[encoded data removed]"
      }
     ],
     "prompt_number": 16
    },
    {
     "cell_type": "markdown",
     "metadata": {},
     "source": [
      "$\\sum_{i = 0}^{n}{a_{i}}$"
     ]
    },
    {
     "cell_type": "code",
     "collapsed": false,
     "input": [
      "!uname -a"
     ],
     "language": "python",
     "metadata": {},
     "outputs": [
      {
       "output_type": "stream",
       "stream": "stdout",
       "text": [
        "Darwin pank7s-MacBook-Pro.local 12.2.0 Darwin Kernel Version 12.2.0: Sat Aug 25 00:48:52 PDT 2012; root:xnu-2050.18.24~1/RELEASE_X86_64 x86_64\r\n"
       ]
      }
     ],
     "prompt_number": 37
    },
    {
     "cell_type": "code",
     "collapsed": false,
     "input": [
      "%px !uname -a"
     ],
     "language": "python",
     "metadata": {},
     "outputs": [
      {
       "output_type": "stream",
       "stream": "stdout",
       "text": [
        "[stdout:0] Darwin pank7s-MacBook-Pro.local 12.2.0 Darwin Kernel Version 12.2.0: Sat Aug 25 00:48:52 PDT 2012; root:xnu-2050.18.24~1/RELEASE_X86_64 x86_64\r\n",
        "[stdout:1] Darwin pank7s-MacBook-Pro.local 12.2.0 Darwin Kernel Version 12.2.0: Sat Aug 25 00:48:52 PDT 2012; root:xnu-2050.18.24~1/RELEASE_X86_64 x86_64\r\n",
        "[stdout:2] Darwin pank7s-MacBook-Pro.local 12.2.0 Darwin Kernel Version 12.2.0: Sat Aug 25 00:48:52 PDT 2012; root:xnu-2050.18.24~1/RELEASE_X86_64 x86_64\r\n",
        "[stdout:3] Darwin pank7s-MacBook-Pro.local 12.2.0 Darwin Kernel Version 12.2.0: Sat Aug 25 00:48:52 PDT 2012; root:xnu-2050.18.24~1/RELEASE_X86_64 x86_64\r\n"
       ]
      }
     ],
     "prompt_number": 38
    },
    {
     "cell_type": "code",
     "collapsed": false,
     "input": [
      "import time\n",
      "dview['pank7'] = time.time()\n",
      "%px print pank7"
     ],
     "language": "python",
     "metadata": {},
     "outputs": [
      {
       "output_type": "stream",
       "stream": "stdout",
       "text": [
        "[stdout:0] 1359901548.59\n",
        "[stdout:1] 1359901548.59\n",
        "[stdout:2] 1359901548.59\n",
        "[stdout:3] 1359901548.59\n"
       ]
      }
     ],
     "prompt_number": 41
    },
    {
     "cell_type": "code",
     "collapsed": false,
     "input": [
      "dview['pank7']"
     ],
     "language": "python",
     "metadata": {},
     "outputs": [
      {
       "output_type": "pyout",
       "prompt_number": 44,
       "text": [
        "[1359901548.585109, 1359901548.585109, 1359901548.585109, 1359901548.585109]"
       ]
      }
     ],
     "prompt_number": 44
    },
    {
     "cell_type": "code",
     "collapsed": false,
     "input": [
      "import numpy as np\n",
      "A = np.random.random((4,4))\n",
      "@dview.parallel(block=True)\n",
      "def pmul(A, B):\n",
      "    return A * B\n",
      "l = A * A\n",
      "r = pmul(A, A)\n",
      "o = pmul.map(A, A)\n",
      "print r\n",
      "print o"
     ],
     "language": "python",
     "metadata": {},
     "outputs": [
      {
       "output_type": "stream",
       "stream": "stdout",
       "text": [
        "[[ 0.7266856   0.133849    0.28398316  0.05683368]\n",
        " [ 0.6574137   0.99587841  0.13117754  0.7855923 ]\n",
        " [ 0.14316179  0.00606396  0.79276336  0.50215512]\n",
        " [ 0.008146    0.73248399  0.67683432  0.0146331 ]]\n",
        "[array([ 0.7266856 ,  0.133849  ,  0.28398316,  0.05683368]), array([ 0.6574137 ,  0.99587841,  0.13117754,  0.7855923 ]), array([ 0.14316179,  0.00606396,  0.79276336,  0.50215512]), array([ 0.008146  ,  0.73248399,  0.67683432,  0.0146331 ])]\n"
       ]
      }
     ],
     "prompt_number": 63
    },
    {
     "cell_type": "code",
     "collapsed": false,
     "input": [
      "@dview.remote(block=False)\n",
      "def wait():\n",
      "    import random\n",
      "    import time\n",
      "    import os\n",
      "    start = time.time()\n",
      "    sec = random.randint(5, 10)\n",
      "    time.sleep(sec)\n",
      "    end = time.time()\n",
      "    return 'I(%d) slept for %d seconds from %f to %f' % (os.getpid(), sec, start, end)\n",
      "ret = wait()\n",
      "import time\n",
      "while not ret.ready():\n",
      "    print 'they are not ready yet...'\n",
      "    time.sleep(1)\n",
      "o = ret.get()\n",
      "print o"
     ],
     "language": "python",
     "metadata": {},
     "outputs": [
      {
       "output_type": "stream",
       "stream": "stdout",
       "text": [
        "they are not ready yet...\n",
        "they are not ready yet..."
       ]
      },
      {
       "output_type": "stream",
       "stream": "stdout",
       "text": [
        "\n",
        "they are not ready yet..."
       ]
      },
      {
       "output_type": "stream",
       "stream": "stdout",
       "text": [
        "\n",
        "they are not ready yet..."
       ]
      },
      {
       "output_type": "stream",
       "stream": "stdout",
       "text": [
        "\n",
        "they are not ready yet..."
       ]
      },
      {
       "output_type": "stream",
       "stream": "stdout",
       "text": [
        "\n",
        "they are not ready yet..."
       ]
      },
      {
       "output_type": "stream",
       "stream": "stdout",
       "text": [
        "\n",
        "they are not ready yet..."
       ]
      },
      {
       "output_type": "stream",
       "stream": "stdout",
       "text": [
        "\n",
        "they are not ready yet..."
       ]
      },
      {
       "output_type": "stream",
       "stream": "stdout",
       "text": [
        "\n",
        "they are not ready yet..."
       ]
      },
      {
       "output_type": "stream",
       "stream": "stdout",
       "text": [
        "\n",
        "they are not ready yet..."
       ]
      },
      {
       "output_type": "stream",
       "stream": "stdout",
       "text": [
        "\n",
        "['I(11455) slept for 9 seconds from 1359903004.626904 to 1359903013.627211', 'I(11456) slept for 5 seconds from 1359903004.627781 to 1359903009.628713', 'I(11457) slept for 10 seconds from 1359903004.627781 to 1359903014.628162', 'I(11458) slept for 8 seconds from 1359903004.629834 to 1359903012.630697']"
       ]
      },
      {
       "output_type": "stream",
       "stream": "stdout",
       "text": [
        "\n"
       ]
      }
     ],
     "prompt_number": 97
    },
    {
     "cell_type": "code",
     "collapsed": false,
     "input": [
      "lview = c.load_balanced_view()"
     ],
     "language": "python",
     "metadata": {},
     "outputs": [],
     "prompt_number": 99
    },
    {
     "cell_type": "code",
     "collapsed": false,
     "input": [
      "def f(x):\n",
      "    return 'I am %d, and I get %s' % (os.getpid(), str(x))\n",
      "lview.block = True\n",
      "lview.map(f, xrange(10))"
     ],
     "language": "python",
     "metadata": {},
     "outputs": [
      {
       "output_type": "pyout",
       "prompt_number": 102,
       "text": [
        "['I am 11455, and I get 0',\n",
        " 'I am 11457, and I get 1',\n",
        " 'I am 11458, and I get 2',\n",
        " 'I am 11456, and I get 3',\n",
        " 'I am 11455, and I get 4',\n",
        " 'I am 11457, and I get 5',\n",
        " 'I am 11458, and I get 6',\n",
        " 'I am 11456, and I get 7',\n",
        " 'I am 11455, and I get 8',\n",
        " 'I am 11457, and I get 9']"
       ]
      }
     ],
     "prompt_number": 102
    },
    {
     "cell_type": "code",
     "collapsed": false,
     "input": [
      "from IPython.parallel import depend, require, dependent\n",
      "@lview.parallel(block=True)\n",
      "@require('time', 'random')\n",
      "def hey(x):\n",
      "    start = time.time()\n",
      "    sec = random.randint(5, 10)\n",
      "    time.sleep(sec)\n",
      "    end = time.time()\n",
      "    return 'I am %d, and I get \"%s\", I slept for %d seconds from %f to %f.' % (os.getpid(), str(x), sec, start, end)\n",
      "hey.map(xrange(10))"
     ],
     "language": "python",
     "metadata": {},
     "outputs": [
      {
       "output_type": "pyout",
       "prompt_number": 109,
       "text": [
        "['I am 11455, and I get \"0\", I slept for 10 seconds from 1359905673.834270 to 1359905683.835054.',\n",
        " 'I am 11456, and I get \"1\", I slept for 6 seconds from 1359905673.834489 to 1359905679.835034.',\n",
        " 'I am 11458, and I get \"2\", I slept for 7 seconds from 1359905673.838069 to 1359905680.838920.',\n",
        " 'I am 11457, and I get \"3\", I slept for 10 seconds from 1359905673.839718 to 1359905683.839903.',\n",
        " 'I am 11456, and I get \"4\", I slept for 8 seconds from 1359905679.839156 to 1359905687.839630.',\n",
        " 'I am 11458, and I get \"5\", I slept for 7 seconds from 1359905680.842900 to 1359905687.843728.',\n",
        " 'I am 11455, and I get \"6\", I slept for 10 seconds from 1359905683.838619 to 1359905693.839405.',\n",
        " 'I am 11457, and I get \"7\", I slept for 10 seconds from 1359905683.843343 to 1359905693.843516.',\n",
        " 'I am 11456, and I get \"8\", I slept for 8 seconds from 1359905687.843304 to 1359905695.843747.',\n",
        " 'I am 11458, and I get \"9\", I slept for 9 seconds from 1359905687.846877 to 1359905696.847672.']"
       ]
      }
     ],
     "prompt_number": 109
    },
    {
     "cell_type": "code",
     "collapsed": false,
     "input": [
      "%run ~/src/ipython/examples/parallel/pi/pidigits.py"
     ],
     "language": "python",
     "metadata": {},
     "outputs": [],
     "prompt_number": 113
    },
    {
     "cell_type": "code",
     "collapsed": false,
     "input": [],
     "language": "python",
     "metadata": {},
     "outputs": []
    }
   ],
   "metadata": {}
  }
 ]
}