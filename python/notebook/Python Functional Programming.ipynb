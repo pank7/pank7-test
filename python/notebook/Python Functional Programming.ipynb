{
 "metadata": {
  "name": "Python Functional Programming"
 },
 "nbformat": 3,
 "nbformat_minor": 0,
 "worksheets": [
  {
   "cells": [
    {
     "cell_type": "heading",
     "level": 1,
     "metadata": {},
     "source": [
      "Python Functional Programming"
     ]
    },
    {
     "cell_type": "markdown",
     "metadata": {},
     "source": [
      "Learning Python's functional programming techniques base on the official online [document](http://docs.python.org/2/howto/functional.html)"
     ]
    },
    {
     "cell_type": "code",
     "collapsed": false,
     "input": [
      "from IPython.display import HTML\n",
      "HTML('<iframe src=http://docs.python.org/2/howto/functional.html width=1000 height=350></iframe>')"
     ],
     "language": "python",
     "metadata": {},
     "outputs": [
      {
       "html": [
        "<iframe src=http://docs.python.org/2/howto/functional.html width=1000 height=350></iframe>"
       ],
       "output_type": "pyout",
       "prompt_number": 1,
       "text": [
        "<IPython.core.display.HTML at 0x10c62da10>"
       ]
      }
     ],
     "prompt_number": 1
    },
    {
     "cell_type": "code",
     "collapsed": false,
     "input": [
      "import sys\n",
      "import os"
     ],
     "language": "python",
     "metadata": {},
     "outputs": [],
     "prompt_number": 51
    },
    {
     "cell_type": "markdown",
     "metadata": {},
     "source": [
      "Programming languages support decomposing problems in several different ways:\n",
      "\n",
      "* Most programming languages are *procedural*: programs are lists of instructions that tell the computer what to do with the program\u2019s input. C, Pascal, and even Unix shells are procedural languages.\n",
      "* In *declarative languages*, you write a specification that describes the problem to be solved, and the language implementation figures out how to perform the computation efficiently. SQL is the declarative language you\u2019re most likely to be familiar with; a SQL query describes the data set you want to retrieve, and the SQL engine decides whether to scan tables or use indexes, which subclauses should be performed first, etc.\n",
      "* *Object-oriented programs* manipulate collections of objects. Objects have internal state and support methods that query or modify this internal state in some way. Smalltalk and Java are object-oriented languages. C++ and Python are languages that support object-oriented programming, but don\u2019t force the use of object-oriented features.\n",
      "* *Functional programming* decomposes a problem into a set of functions. Ideally, functions only take inputs and produce outputs, and don\u2019t have any internal state that affects the output produced for a given input. Well-known functional languages include the ML family (Standard ML, OCaml, and other variants) and Haskell."
     ]
    },
    {
     "cell_type": "markdown",
     "metadata": {},
     "source": [
      "* In a functional program, input flows through a set of functions. Each function operates on its input and produces some output. Functional style discourages functions with side effects that modify internal state or make other changes that aren\u2019t visible in the function\u2019s return value. *Functions that have no side effects at all are called purely functional.* Avoiding side effects means not using data structures that get updated as a program runs; every function\u2019s output must only depend on its input.\n",
      "* *Functional programming can be considered the opposite of object-oriented programming.*\n",
      "* There are theoretical and practical advantages to the functional style:\n",
      "    * Formal provability: A theoretical benefit is that it\u2019s easier to construct a mathematical proof that a functional program is correct.\n",
      "    * Modularity: A more practical benefit of functional programming is that it forces you to break apart your problem into small pieces.\n",
      "    * Composability\n",
      "    * Ease of debugging and testing"
     ]
    },
    {
     "cell_type": "heading",
     "level": 2,
     "metadata": {},
     "source": [
      "Iterators"
     ]
    },
    {
     "cell_type": "markdown",
     "metadata": {},
     "source": [
      "* An iterator is an object representing a stream of data; this object returns the data one element at a time.\n",
      "* A Python iterator must support a method called ```next()``` that takes no arguments and always returns the next element of the stream.\n",
      "* If there are no more elements in the stream, ```next()``` must raise the ```StopIteration``` exception.\n",
      "* Iterators don\u2019t have to be finite, though; it\u2019s perfectly reasonable to write an iterator that produces an infinite stream of data."
     ]
    },
    {
     "cell_type": "markdown",
     "metadata": {},
     "source": [
      "* The built-in ```iter()``` function takes an arbitrary object and tries to return an iterator that will return the object\u2019s contents or elements\n",
      "    * raising ```TypeError``` if the object doesn\u2019t support iteration.\n",
      "* Several of Python\u2019s built-in data types support iteration, the most common being lists and dictionaries.\n",
      "* An object is called an iterable object if you can get an iterator for it."
     ]
    },
    {
     "cell_type": "code",
     "collapsed": false,
     "input": [
      ">>> L = [1,2,3]\n",
      ">>> it = iter(L)\n",
      ">>> print it\n",
      ">>> it.next()\n",
      ">>> it.next()\n",
      ">>> it.next()\n",
      ">>> it.next()"
     ],
     "language": "python",
     "metadata": {},
     "outputs": [
      {
       "ename": "StopIteration",
       "evalue": "",
       "output_type": "pyerr",
       "traceback": [
        "\u001b[0;31m---------------------------------------------------------------------------\u001b[0m\n\u001b[0;31mStopIteration\u001b[0m                             Traceback (most recent call last)",
        "\u001b[0;32m<ipython-input-2-4a0f4c9f4208>\u001b[0m in \u001b[0;36m<module>\u001b[0;34m()\u001b[0m\n\u001b[1;32m      5\u001b[0m \u001b[0mit\u001b[0m\u001b[0;34m.\u001b[0m\u001b[0mnext\u001b[0m\u001b[0;34m(\u001b[0m\u001b[0;34m)\u001b[0m\u001b[0;34m\u001b[0m\u001b[0m\n\u001b[1;32m      6\u001b[0m \u001b[0mit\u001b[0m\u001b[0;34m.\u001b[0m\u001b[0mnext\u001b[0m\u001b[0;34m(\u001b[0m\u001b[0;34m)\u001b[0m\u001b[0;34m\u001b[0m\u001b[0m\n\u001b[0;32m----> 7\u001b[0;31m \u001b[0mit\u001b[0m\u001b[0;34m.\u001b[0m\u001b[0mnext\u001b[0m\u001b[0;34m(\u001b[0m\u001b[0;34m)\u001b[0m\u001b[0;34m\u001b[0m\u001b[0m\n\u001b[0m",
        "\u001b[0;31mStopIteration\u001b[0m: "
       ]
      },
      {
       "output_type": "stream",
       "stream": "stdout",
       "text": [
        "<listiterator object at 0x10c656210>\n"
       ]
      }
     ],
     "prompt_number": 2
    },
    {
     "cell_type": "markdown",
     "metadata": {},
     "source": [
      "* Python expects iterable objects in several different contexts, the most important being the ```for``` statement.\n",
      "* In the statement ```for X in Y```, ```Y``` must be an iterator or some object for which ```iter()``` can create an iterator."
     ]
    },
    {
     "cell_type": "code",
     "collapsed": false,
     "input": [
      "for i in iter(L):\n",
      "    print i\n",
      "\n",
      "for i in L:\n",
      "    print i"
     ],
     "language": "python",
     "metadata": {},
     "outputs": [
      {
       "output_type": "stream",
       "stream": "stdout",
       "text": [
        "1\n",
        "2\n",
        "3\n",
        "1\n",
        "2\n",
        "3\n"
       ]
      }
     ],
     "prompt_number": 3
    },
    {
     "cell_type": "markdown",
     "metadata": {},
     "source": [
      "Iterators can be materialized as lists or tuples by using the ```list()``` or ```tuple()``` constructor functions:"
     ]
    },
    {
     "cell_type": "code",
     "collapsed": false,
     "input": [
      ">>> L = [1,2,3]\n",
      ">>> iterator = iter(L)\n",
      ">>> t = tuple(iterator)\n",
      ">>> t"
     ],
     "language": "python",
     "metadata": {},
     "outputs": [
      {
       "output_type": "pyout",
       "prompt_number": 4,
       "text": [
        "(1, 2, 3)"
       ]
      }
     ],
     "prompt_number": 4
    },
    {
     "cell_type": "markdown",
     "metadata": {},
     "source": [
      "Sequence unpacking also supports iterators: if you know an iterator will return N elements, you can unpack them into an N-tuple:"
     ]
    },
    {
     "cell_type": "code",
     "collapsed": false,
     "input": [
      ">>> L = [1,2,3]\n",
      ">>> iterator = iter(L)\n",
      ">>> a,b,c = iterator\n",
      ">>> a,b,c"
     ],
     "language": "python",
     "metadata": {},
     "outputs": [
      {
       "output_type": "pyout",
       "prompt_number": 5,
       "text": [
        "(1, 2, 3)"
       ]
      }
     ],
     "prompt_number": 5
    },
    {
     "cell_type": "markdown",
     "metadata": {},
     "source": [
      "* Built-in functions such as ```max()``` and ```min()``` can take a single iterator argument and will return the largest or smallest element.\n",
      "* The \"in\" and \"not in\" operators also support iterators: ```X in iterator``` is true if ```X``` is found in the stream returned by the iterator.\n",
      "* You\u2019ll run into obvious problems if the iterator is infinite\n",
      "    * ```max()```, ```min()``` will never return\n",
      "    * and if the element ```X``` never appears in the stream, the \"in\" and \"not in\" operators won\u2019t return either."
     ]
    },
    {
     "cell_type": "markdown",
     "metadata": {},
     "source": [
      "* Note that you can only go forward in an iterator\n",
      "    * there\u2019s no way to get the previous element, reset the iterator, or make a copy of it.\n",
      "* Iterator objects can optionally provide these additional capabilities, but the iterator protocol only specifies the ```next()``` method.\n",
      "* Functions may therefore consume all of the iterator\u2019s output\n",
      "    * and if you need to do something different with the same stream, you\u2019ll have to create a new iterator."
     ]
    },
    {
     "cell_type": "heading",
     "level": 3,
     "metadata": {},
     "source": [
      "Data Types That Support Iterators"
     ]
    },
    {
     "cell_type": "markdown",
     "metadata": {},
     "source": [
      "Calling ```iter()``` on a dictionary returns an iterator that will loop over the dictionary\u2019s keys\n",
      "\n",
      "* Note that the order is essentially random, because it\u2019s based on the hash ordering of the objects in the dictionary."
     ]
    },
    {
     "cell_type": "code",
     "collapsed": false,
     "input": [
      ">>> m = {'Jan': 1, 'Feb': 2, 'Mar': 3, 'Apr': 4, 'May': 5, 'Jun': 6,\n",
      "...      'Jul': 7, 'Aug': 8, 'Sep': 9, 'Oct': 10, 'Nov': 11, 'Dec': 12}\n",
      ">>> for key in m:\n",
      "...     print key, m[key]"
     ],
     "language": "python",
     "metadata": {},
     "outputs": [
      {
       "output_type": "stream",
       "stream": "stdout",
       "text": [
        "Feb 2\n",
        "Aug 8\n",
        "Jan 1\n",
        "Dec 12\n",
        "Oct 10\n",
        "Mar 3\n",
        "Sep 9\n",
        "May 5\n",
        "Jun 6\n",
        "Jul 7\n",
        "Apr 4\n",
        "Nov 11\n"
       ]
      }
     ],
     "prompt_number": 6
    },
    {
     "cell_type": "markdown",
     "metadata": {},
     "source": [
      "Applying ```iter()``` to a dictionary always loops over the keys, but dictionaries have methods that return other iterators. If you want to iterate over keys, values, or key/value pairs, you can explicitly call the ```iterkeys()```, ```itervalues()```, or ```iteritems()``` methods to get an appropriate iterator."
     ]
    },
    {
     "cell_type": "markdown",
     "metadata": {},
     "source": [
      "The ```dict()``` constructor can accept an iterator that returns a finite stream of ```(key, value)``` tuples:"
     ]
    },
    {
     "cell_type": "code",
     "collapsed": false,
     "input": [
      ">>> L = [('Italy', 'Rome'), ('France', 'Paris'), ('US', 'Washington DC')]\n",
      ">>> dict(iter(L))"
     ],
     "language": "python",
     "metadata": {},
     "outputs": [
      {
       "output_type": "pyout",
       "prompt_number": 9,
       "text": [
        "{'France': 'Paris', 'Italy': 'Rome', 'US': 'Washington DC'}"
       ]
      }
     ],
     "prompt_number": 9
    },
    {
     "cell_type": "markdown",
     "metadata": {},
     "source": [
      "Files also support iteration by calling the readline() method until there are no more lines in the file. This means you can read each line of a file like this:\n",
      "\n",
      "    for line in file:\n",
      "        # do something for each line\n",
      "        ..."
     ]
    },
    {
     "cell_type": "markdown",
     "metadata": {},
     "source": [
      "Sets can take their contents from an iterable and let you iterate over the set\u2019s elements:"
     ]
    },
    {
     "cell_type": "code",
     "collapsed": false,
     "input": [
      "S = set((2, 3, 5, 7, 11, 13))\n",
      "for i in S:\n",
      "    print i"
     ],
     "language": "python",
     "metadata": {},
     "outputs": [
      {
       "output_type": "stream",
       "stream": "stdout",
       "text": [
        "2\n",
        "3\n",
        "5\n",
        "7\n",
        "11\n",
        "13\n"
       ]
      }
     ],
     "prompt_number": 10
    },
    {
     "cell_type": "heading",
     "level": 2,
     "metadata": {},
     "source": [
      "Generator expressions and list comprehensions"
     ]
    },
    {
     "cell_type": "markdown",
     "metadata": {},
     "source": [
      "Two common operations on an iterator\u2019s output are\n",
      "\n",
      "1. performing some operation for every element\n",
      "2. selecting a subset of elements that meet some condition.\n",
      "\n",
      "For example, given a list of strings, you might want to strip off trailing whitespace from each line or extract all the strings containing a given substring."
     ]
    },
    {
     "cell_type": "markdown",
     "metadata": {},
     "source": [
      "List comprehensions and generator expressions (short form: \u201clistcomps\u201d and \u201cgenexps\u201d) are a concise notation for such operations, borrowed from the functional programming language [Haskell](http://www.haskell.org/). You can strip all the whitespace from a stream of strings with the following code:"
     ]
    },
    {
     "cell_type": "code",
     "collapsed": false,
     "input": [
      "line_list = ['  line 1\\n', 'line 2  \\n', '  line 3 \\t', '']\n",
      "\n",
      "# Generator expression -- returns iterator\n",
      "stripped_iter = (line.strip() for line in line_list)\n",
      "\n",
      "# List comprehension -- returns list\n",
      "stripped_list = [line.strip() for line in line_list]"
     ],
     "language": "python",
     "metadata": {},
     "outputs": [],
     "prompt_number": 14
    },
    {
     "cell_type": "markdown",
     "metadata": {},
     "source": [
      "You can select only certain elements by adding an \"```if```\" condition:"
     ]
    },
    {
     "cell_type": "code",
     "collapsed": false,
     "input": [
      "stripped_list = [line.strip() for line in line_list if line != \"\"]\n",
      "stripped_list"
     ],
     "language": "python",
     "metadata": {},
     "outputs": [
      {
       "output_type": "pyout",
       "prompt_number": 15,
       "text": [
        "['line 1', 'line 2', 'line 3']"
       ]
      }
     ],
     "prompt_number": 15
    },
    {
     "cell_type": "markdown",
     "metadata": {},
     "source": [
      "* With a list comprehension, you get back a Python list\n",
      "    * stripped_list is a list containing the resulting lines, not an iterator.\n",
      "* Generator expressions return an iterator that computes the values as necessary, not needing to materialize all the values at once.\n",
      "    * This means that list comprehensions aren\u2019t useful if you\u2019re working with iterators that return an infinite stream or a very large amount of data.\n",
      "    * Generator expressions are preferable in these situations.\n",
      "* Generator expressions are surrounded by parentheses (\u201c()\u201d) and list comprehensions are surrounded by square brackets (\u201c[]\u201d). Generator expressions have the form:\n",
      "    ```\n",
      "    ( expression for expr in sequence1\n",
      "             if condition1\n",
      "             for expr2 in sequence2\n",
      "             if condition2\n",
      "             for expr3 in sequence3 ...\n",
      "             if condition3\n",
      "             for exprN in sequenceN\n",
      "             if conditionN )\n",
      "    ```\n",
      "* The elements of the generated output will be the successive values of ```expression```.\n",
      "* The if clauses are all optional\n",
      "    * if present, expression is only evaluated and added to the result when ```condition``` is true.\n",
      "* Generator expressions always have to be written inside parentheses, but the parentheses signalling a function call also count.\n",
      "    * If you want to create an iterator that will be immediately passed to a function you can write:\n",
      "\n",
      "        obj_total = sum(obj.count for obj in list_all_objects())\n",
      "\n",
      "* The ```for...in``` clauses contain the sequences to be iterated over.\n",
      "    * The sequences do not have to be the same length, because they are iterated over from left to right, not in parallel.\n",
      "    * For each element in ```sequence1```, ```sequence2``` is looped over from the beginning.\n",
      "    * ```sequence3``` is then looped over for each resulting pair of elements from ```sequence1``` and ```sequence2```.\n",
      "    * This means that when there are multiple for...in clauses but no if clauses, the length of the resulting output will be equal to the product of the lengths of all the sequences. If you have two lists of length 3, the output list is 9 elements long:"
     ]
    },
    {
     "cell_type": "code",
     "collapsed": false,
     "input": [
      ">>> seq1 = 'abc'\n",
      ">>> seq2 = (1, 2, 3)\n",
      ">>> [(x, y) for x in seq1 for y in seq2]"
     ],
     "language": "python",
     "metadata": {},
     "outputs": [
      {
       "output_type": "pyout",
       "prompt_number": 19,
       "text": [
        "[('a', 1),\n",
        " ('a', 2),\n",
        " ('a', 3),\n",
        " ('b', 1),\n",
        " ('b', 2),\n",
        " ('b', 3),\n",
        " ('c', 1),\n",
        " ('c', 2),\n",
        " ('c', 3)]"
       ]
      }
     ],
     "prompt_number": 19
    },
    {
     "cell_type": "markdown",
     "metadata": {},
     "source": [
      "To avoid introducing an ambiguity into Python\u2019s grammar, if ```expression``` is creating a tuple, it must be surrounded with parentheses. The first list comprehension below is a syntax error, while the second one is correct:\n",
      "\n",
      "    # Syntax error\n",
      "    [x, y for x in seq1 for y in seq2]\n",
      "    # Correct\n",
      "    [(x, y) for x in seq1 for y in seq2]"
     ]
    },
    {
     "cell_type": "heading",
     "level": 2,
     "metadata": {},
     "source": [
      "Generators"
     ]
    },
    {
     "cell_type": "markdown",
     "metadata": {},
     "source": [
      "* Generators are a special class of functions that simplify the task of writing iterators.\n",
      "* Regular functions compute a value and return it, but generators return an iterator that returns a stream of values.\n",
      "* You\u2019re doubtless familiar with how regular function calls work in Python or C.\n",
      "    * When you call a function, it gets a private namespace where its local variables are created.\n",
      "    * When the function reaches a return statement, the local variables are destroyed and the value is returned to the caller.\n",
      "    * A later call to the same function creates a new private namespace and a fresh set of local variables.\n",
      "    * But, what if the local variables weren\u2019t thrown away on exiting a function?\n",
      "    * What if you could later resume the function where it left off?\n",
      "* This is what generators provide\n",
      "    * they can be thought of as resumable functions.\n",
      "* Here\u2019s the simplest example of a generator function:"
     ]
    },
    {
     "cell_type": "code",
     "collapsed": false,
     "input": [
      "def generate_ints(N):\n",
      "    for i in range(N):\n",
      "        yield i"
     ],
     "language": "python",
     "metadata": {},
     "outputs": [],
     "prompt_number": 20
    },
    {
     "cell_type": "markdown",
     "metadata": {},
     "source": [
      "* Any function containing a ```yield``` keyword is a generator function\n",
      "    * this is detected by Python\u2019s bytecode compiler which compiles the function specially as a result.\n",
      "* When you call a generator function, it doesn\u2019t return a single value\n",
      "    * instead it returns a generator object that supports the iterator protocol.\n",
      "    * On executing the ```yield``` expression, the generator outputs the value of ```i```, similar to a ```return``` statement.\n",
      "    * The big difference between ```yield``` and a ```return``` statement is that\n",
      "        * on reaching a ```yield``` the generator\u2019s state of execution is suspended and local variables are preserved.\n",
      "        * On the next call to the generator\u2019s ``.next()``` method, the function will resume executing.\n",
      "\n",
      "Here\u2019s a sample usage of the ```generate_ints()``` generator:"
     ]
    },
    {
     "cell_type": "code",
     "collapsed": false,
     "input": [
      ">>> gen = generate_ints(3)\n",
      ">>> gen\n",
      ">>> gen.next()\n",
      ">>> gen.next()\n",
      ">>> gen.next()\n",
      ">>> gen.next()"
     ],
     "language": "python",
     "metadata": {},
     "outputs": [
      {
       "ename": "StopIteration",
       "evalue": "",
       "output_type": "pyerr",
       "traceback": [
        "\u001b[0;31m---------------------------------------------------------------------------\u001b[0m\n\u001b[0;31mStopIteration\u001b[0m                             Traceback (most recent call last)",
        "\u001b[0;32m<ipython-input-21-980b57c17974>\u001b[0m in \u001b[0;36m<module>\u001b[0;34m()\u001b[0m\n\u001b[1;32m      4\u001b[0m \u001b[0mgen\u001b[0m\u001b[0;34m.\u001b[0m\u001b[0mnext\u001b[0m\u001b[0;34m(\u001b[0m\u001b[0;34m)\u001b[0m\u001b[0;34m\u001b[0m\u001b[0m\n\u001b[1;32m      5\u001b[0m \u001b[0mgen\u001b[0m\u001b[0;34m.\u001b[0m\u001b[0mnext\u001b[0m\u001b[0;34m(\u001b[0m\u001b[0;34m)\u001b[0m\u001b[0;34m\u001b[0m\u001b[0m\n\u001b[0;32m----> 6\u001b[0;31m \u001b[0mgen\u001b[0m\u001b[0;34m.\u001b[0m\u001b[0mnext\u001b[0m\u001b[0;34m(\u001b[0m\u001b[0;34m)\u001b[0m\u001b[0;34m\u001b[0m\u001b[0m\n\u001b[0m",
        "\u001b[0;31mStopIteration\u001b[0m: "
       ]
      }
     ],
     "prompt_number": 21
    },
    {
     "cell_type": "markdown",
     "metadata": {},
     "source": [
      "You could equally write ```for i in generate_ints(5)```, or ```a,b,c = generate_ints(3)```."
     ]
    },
    {
     "cell_type": "markdown",
     "metadata": {},
     "source": [
      "* Inside a generator function, the ```return``` statement can only be used without a value, and signals the end of the procession of values\n",
      "    * after executing a ```return``` the generator cannot return any further values.\n",
      "    * return with a value, such as ```return 5```, is a syntax error inside a generator function.\n",
      "    * The end of the generator\u2019s results can also be indicated by raising ```StopIteration``` manually\n",
      "        * or by just letting the flow of execution fall off the bottom of the function.\n",
      "* You could achieve the effect of generators manually by writing your own class and storing all the local variables of the generator as instance variables.\n",
      "    * For example, returning a list of integers could be done by setting ```self.count``` to 0\n",
      "    * and having the ```next()``` method increment ```self.count``` and return it\n",
      "* However, for a moderately complicated generator, writing a corresponding class can be much messier.\n",
      "* The test suite included with Python\u2019s library, ```test_generators.py```, contains a number of more interesting examples.\n",
      "    * Here\u2019s one generator that implements an in-order traversal of a tree using generators recursively."
     ]
    },
    {
     "cell_type": "code",
     "collapsed": false,
     "input": [
      "# A recursive generator that generates Tree leaves in in-order.\n",
      "def inorder(t):\n",
      "    if t:\n",
      "        for x in inorder(t.left):\n",
      "            yield x\n",
      "\n",
      "        yield t.label\n",
      "\n",
      "        for x in inorder(t.right):\n",
      "            yield x"
     ],
     "language": "python",
     "metadata": {},
     "outputs": [],
     "prompt_number": 22
    },
    {
     "cell_type": "markdown",
     "metadata": {},
     "source": [
      "* Two other examples in ```test_generators.py``` produce solutions for the N-Queens problem (placing N queens on an NxN chess board so that no queen threatens another) and the Knight\u2019s Tour (finding a route that takes a knight to every square of an NxN chessboard without visiting any square twice)."
     ]
    },
    {
     "cell_type": "heading",
     "level": 3,
     "metadata": {},
     "source": [
      "Passing values into a generator"
     ]
    },
    {
     "cell_type": "markdown",
     "metadata": {},
     "source": [
      "* In Python 2.4 and earlier, generators only produced output.\n",
      "    * Once a generator\u2019s code was invoked to create an iterator, there was no way to pass any new information into the function when its execution is resumed.\n",
      "    * You could hack together this ability by making the generator look at a global variable or by passing in some mutable object that callers then modify, but these approaches are messy.\n",
      "* In Python 2.5 there\u2019s a simple way to pass values into a generator.\n",
      "    * ```yield``` became an expression, returning a value that can be assigned to a variable or otherwise operated on:\n",
      "    ```\n",
      "    val = (yield i)\n",
      "    ```\n",
      "    * I recommend that you ***always*** put parentheses around a ```yield``` expression when you\u2019re doing something with the returned value, as in the above example.\n",
      "        * The parentheses aren\u2019t always necessary, but it\u2019s easier to always add them instead of having to remember when they\u2019re needed.\n",
      "    * PEP 342 explains the exact rules\n",
      "        * which are that a ```yield```-expression must always be parenthesized except when it occurs at the top-level expression on the right-hand side of an assignment.\n",
      "        * This means you can write ```val = yield i``` but have to use parentheses when there\u2019s an operation, as in ```val = (yield i) + 12```.\n",
      "    * Values are sent into a generator by calling its ```send(value)``` method.\n",
      "        * This method resumes the generator\u2019s code and the ```yield``` expression returns the specified value.\n",
      "        * If the regular ```next()``` method is called, the ```yield``` returns None.\n",
      "\n",
      "Here\u2019s a simple counter that increments by 1 and allows changing the value of the internal counter."
     ]
    },
    {
     "cell_type": "code",
     "collapsed": false,
     "input": [
      "def counter (maximum):\n",
      "    i = 0\n",
      "    while i < maximum:\n",
      "        val = (yield i)\n",
      "        # If value provided, change counter\n",
      "        if val is not None:\n",
      "            i = val\n",
      "        else:\n",
      "            i += 1"
     ],
     "language": "python",
     "metadata": {},
     "outputs": [],
     "prompt_number": 23
    },
    {
     "cell_type": "markdown",
     "metadata": {},
     "source": [
      "And here\u2019s an example of changing the counter:"
     ]
    },
    {
     "cell_type": "code",
     "collapsed": false,
     "input": [
      ">>> it = counter(10)\n",
      ">>> print it.next()\n",
      ">>> print it.next()\n",
      ">>> print it.send(8)\n",
      ">>> print it.next()\n",
      ">>> print it.next()"
     ],
     "language": "python",
     "metadata": {},
     "outputs": [
      {
       "ename": "StopIteration",
       "evalue": "",
       "output_type": "pyerr",
       "traceback": [
        "\u001b[0;31m---------------------------------------------------------------------------\u001b[0m\n\u001b[0;31mStopIteration\u001b[0m                             Traceback (most recent call last)",
        "\u001b[0;32m<ipython-input-24-441cbcc04d14>\u001b[0m in \u001b[0;36m<module>\u001b[0;34m()\u001b[0m\n\u001b[1;32m      4\u001b[0m \u001b[0;32mprint\u001b[0m \u001b[0mit\u001b[0m\u001b[0;34m.\u001b[0m\u001b[0msend\u001b[0m\u001b[0;34m(\u001b[0m\u001b[0;36m8\u001b[0m\u001b[0;34m)\u001b[0m\u001b[0;34m\u001b[0m\u001b[0m\n\u001b[1;32m      5\u001b[0m \u001b[0;32mprint\u001b[0m \u001b[0mit\u001b[0m\u001b[0;34m.\u001b[0m\u001b[0mnext\u001b[0m\u001b[0;34m(\u001b[0m\u001b[0;34m)\u001b[0m\u001b[0;34m\u001b[0m\u001b[0m\n\u001b[0;32m----> 6\u001b[0;31m \u001b[0;32mprint\u001b[0m \u001b[0mit\u001b[0m\u001b[0;34m.\u001b[0m\u001b[0mnext\u001b[0m\u001b[0;34m(\u001b[0m\u001b[0;34m)\u001b[0m\u001b[0;34m\u001b[0m\u001b[0m\n\u001b[0m",
        "\u001b[0;31mStopIteration\u001b[0m: "
       ]
      },
      {
       "output_type": "stream",
       "stream": "stdout",
       "text": [
        "0\n",
        "1\n",
        "8\n",
        "9\n"
       ]
      }
     ],
     "prompt_number": 24
    },
    {
     "cell_type": "markdown",
     "metadata": {},
     "source": [
      "* Because ```yield``` will often be returning ```None```, you should always check for this case.\n",
      "* Don\u2019t just use its value in expressions unless you\u2019re sure that the ```send()``` method will be the only method used resume your generator function.\n",
      "* In addition to ```send()```, there are two other new methods on generators:\n",
      "    * ```throw(type, value=None, traceback=None)``` is used to raise an exception inside the generator\n",
      "        * the exception is raised by the ```yield``` expression where the generator\u2019s execution is paused.\n",
      "    * ```close()``` raises a ```GeneratorExit``` exception inside the generator to terminate the iteration.\n",
      "        * On receiving this exception, the generator\u2019s code must either raise ```GeneratorExit``` or ```StopIteration```\n",
      "        * catching the exception and doing anything else is illegal and will trigger a ```RuntimeError```.\n",
      "        * ```close()``` will also be called by Python\u2019s garbage collector when the generator is garbage-collected.\n",
      "        * If you need to run cleanup code when a ```GeneratorExit``` occurs, I suggest using a ```try: ... finally```: suite instead of catching ```GeneratorExit```.\n",
      "* The cumulative effect of these changes is to turn generators from one-way producers of information into both producers and consumers.\n",
      "* Generators also become ***coroutines***, a more generalized form of subroutines.\n",
      "    * Subroutines are entered at one point and exited at another point (the top of the function, and a return statement)\n",
      "    * but coroutines can be entered, exited, and resumed at many different points (the ```yield``` statements)."
     ]
    },
    {
     "cell_type": "heading",
     "level": 2,
     "metadata": {},
     "source": [
      "Built-in functions"
     ]
    },
    {
     "cell_type": "markdown",
     "metadata": {},
     "source": [
      "Let\u2019s look in more detail at built-in functions often used with iterators.\n",
      "\n",
      "* Two of Python\u2019s built-in functions, ```map()``` and ```filter()``, are somewhat obsolete\n",
      "    * they duplicate the features of list comprehensions but return actual lists instead of iterators.\n",
      "    * ```map(f, iterA, iterB, ...)``` returns a list containing ```f(iterA[0], iterB[0]), f(iterA[1], iterB[1]), f(iterA[2], iterB[2]), ....```"
     ]
    },
    {
     "cell_type": "code",
     "collapsed": false,
     "input": [
      ">>> def upper(s):\n",
      "...     return s.upper()"
     ],
     "language": "python",
     "metadata": {},
     "outputs": [],
     "prompt_number": 29
    },
    {
     "cell_type": "code",
     "collapsed": false,
     "input": [
      ">>> map(upper, ['sentence', 'fragment'])"
     ],
     "language": "python",
     "metadata": {},
     "outputs": [
      {
       "output_type": "pyout",
       "prompt_number": 30,
       "text": [
        "['SENTENCE', 'FRAGMENT']"
       ]
      }
     ],
     "prompt_number": 30
    },
    {
     "cell_type": "code",
     "collapsed": false,
     "input": [
      ">>> [upper(s) for s in ['sentence', 'fragment']]"
     ],
     "language": "python",
     "metadata": {},
     "outputs": [
      {
       "output_type": "pyout",
       "prompt_number": 31,
       "text": [
        "['SENTENCE', 'FRAGMENT']"
       ]
      }
     ],
     "prompt_number": 31
    },
    {
     "cell_type": "markdown",
     "metadata": {},
     "source": [
      "* As shown above, you can achieve the same effect with a list comprehension.\n",
      "* The ```itertools.imap()``` function does the same thing but can handle infinite iterators\n",
      "    * it\u2019ll be discussed later, in the section on the ```itertools``` module.\n",
      "* ```filter(predicate, iter)``` returns a list that contains all the sequence elements that meet a certain condition, and is similarly duplicated by list comprehensions.\n",
      "    * A ***predicate*** is a function that returns the truth value of some condition\n",
      "        * for use with ```filter()```, the predicate must take a single value."
     ]
    },
    {
     "cell_type": "code",
     "collapsed": false,
     "input": [
      ">>> def is_even(x):\n",
      "...     return (x % 2) == 0"
     ],
     "language": "python",
     "metadata": {},
     "outputs": [],
     "prompt_number": 32
    },
    {
     "cell_type": "code",
     "collapsed": false,
     "input": [
      ">>> filter(is_even, range(10))"
     ],
     "language": "python",
     "metadata": {},
     "outputs": [
      {
       "output_type": "pyout",
       "prompt_number": 33,
       "text": [
        "[0, 2, 4, 6, 8]"
       ]
      }
     ],
     "prompt_number": 33
    },
    {
     "cell_type": "markdown",
     "metadata": {},
     "source": [
      "This can also be written as a list comprehension:"
     ]
    },
    {
     "cell_type": "code",
     "collapsed": false,
     "input": [
      ">>> [x for x in range(10) if is_even(x)]"
     ],
     "language": "python",
     "metadata": {},
     "outputs": [
      {
       "output_type": "pyout",
       "prompt_number": 34,
       "text": [
        "[0, 2, 4, 6, 8]"
       ]
      }
     ],
     "prompt_number": 34
    },
    {
     "cell_type": "markdown",
     "metadata": {},
     "source": [
      "* ```filter()``` also has a counterpart in the itertools module, ```itertools.ifilter()```\n",
      "    * that returns an iterator and can therefore handle infinite sequences just as ```itertools.imap()``` can.\n",
      "* ```reduce(func, iter, [initial_value])``` doesn\u2019t have a counterpart in the ```itertools``` module\n",
      "    * because it cumulatively performs an operation on all the iterable\u2019s elements and therefore can\u2019t be applied to infinite iterables.\n",
      "    * ```func``` must be a function that takes two elements and returns a single value.\n",
      "    * ```reduce()``` takes the first two elements A and B returned by the iterator and calculates ```func(A, B)```.\n",
      "    * It then requests the third element, C, calculates ```func(func(A, B), C)```, combines this result with the fourth element returned, and continues until the iterable is exhausted.\n",
      "    * If the iterable returns no values at all, a TypeError exception is raised.\n",
      "    * If the initial value is supplied, it\u2019s used as a starting point and ```func(initial_value, A)``` is the first calculation."
     ]
    },
    {
     "cell_type": "code",
     "collapsed": false,
     "input": [
      ">>> import operator\n",
      ">>> reduce(operator.concat, ['A', 'BB', 'C'])\n",
      ">>> reduce(operator.concat, [])\n",
      ">>> reduce(operator.mul, [1,2,3], 1)\n",
      ">>> reduce(operator.mul, [], 1)"
     ],
     "language": "python",
     "metadata": {},
     "outputs": [
      {
       "ename": "TypeError",
       "evalue": "reduce() of empty sequence with no initial value",
       "output_type": "pyerr",
       "traceback": [
        "\u001b[0;31m---------------------------------------------------------------------------\u001b[0m\n\u001b[0;31mTypeError\u001b[0m                                 Traceback (most recent call last)",
        "\u001b[0;32m<ipython-input-35-4bd15288e3ce>\u001b[0m in \u001b[0;36m<module>\u001b[0;34m()\u001b[0m\n\u001b[1;32m      1\u001b[0m \u001b[0;32mimport\u001b[0m \u001b[0moperator\u001b[0m\u001b[0;34m\u001b[0m\u001b[0m\n\u001b[1;32m      2\u001b[0m \u001b[0mreduce\u001b[0m\u001b[0;34m(\u001b[0m\u001b[0moperator\u001b[0m\u001b[0;34m.\u001b[0m\u001b[0mconcat\u001b[0m\u001b[0;34m,\u001b[0m \u001b[0;34m[\u001b[0m\u001b[0;34m'A'\u001b[0m\u001b[0;34m,\u001b[0m \u001b[0;34m'BB'\u001b[0m\u001b[0;34m,\u001b[0m \u001b[0;34m'C'\u001b[0m\u001b[0;34m]\u001b[0m\u001b[0;34m)\u001b[0m\u001b[0;34m\u001b[0m\u001b[0m\n\u001b[0;32m----> 3\u001b[0;31m \u001b[0mreduce\u001b[0m\u001b[0;34m(\u001b[0m\u001b[0moperator\u001b[0m\u001b[0;34m.\u001b[0m\u001b[0mconcat\u001b[0m\u001b[0;34m,\u001b[0m \u001b[0;34m[\u001b[0m\u001b[0;34m]\u001b[0m\u001b[0;34m)\u001b[0m\u001b[0;34m\u001b[0m\u001b[0m\n\u001b[0m\u001b[1;32m      4\u001b[0m \u001b[0mreduce\u001b[0m\u001b[0;34m(\u001b[0m\u001b[0moperator\u001b[0m\u001b[0;34m.\u001b[0m\u001b[0mmul\u001b[0m\u001b[0;34m,\u001b[0m \u001b[0;34m[\u001b[0m\u001b[0;36m1\u001b[0m\u001b[0;34m,\u001b[0m\u001b[0;36m2\u001b[0m\u001b[0;34m,\u001b[0m\u001b[0;36m3\u001b[0m\u001b[0;34m]\u001b[0m\u001b[0;34m,\u001b[0m \u001b[0;36m1\u001b[0m\u001b[0;34m)\u001b[0m\u001b[0;34m\u001b[0m\u001b[0m\n\u001b[1;32m      5\u001b[0m \u001b[0mreduce\u001b[0m\u001b[0;34m(\u001b[0m\u001b[0moperator\u001b[0m\u001b[0;34m.\u001b[0m\u001b[0mmul\u001b[0m\u001b[0;34m,\u001b[0m \u001b[0;34m[\u001b[0m\u001b[0;34m]\u001b[0m\u001b[0;34m,\u001b[0m \u001b[0;36m1\u001b[0m\u001b[0;34m)\u001b[0m\u001b[0;34m\u001b[0m\u001b[0m\n",
        "\u001b[0;31mTypeError\u001b[0m: reduce() of empty sequence with no initial value"
       ]
      }
     ],
     "prompt_number": 35
    },
    {
     "cell_type": "markdown",
     "metadata": {},
     "source": [
      "* If you use ```operator.add()``` with ```reduce()```, you\u2019ll add up all the elements of the iterable.\n",
      "    * This case is so common that there\u2019s a special built-in called ```sum()``` to compute it:"
     ]
    },
    {
     "cell_type": "code",
     "collapsed": false,
     "input": [
      ">>> print reduce(operator.add, [1,2,3,4], 0)\n",
      ">>> print sum([1,2,3,4])\n",
      ">>> print sum([])"
     ],
     "language": "python",
     "metadata": {},
     "outputs": [
      {
       "output_type": "stream",
       "stream": "stdout",
       "text": [
        "10\n",
        "10\n",
        "0.0\n"
       ]
      }
     ],
     "prompt_number": 37
    },
    {
     "cell_type": "markdown",
     "metadata": {},
     "source": [
      "* For many uses of ```reduce()```, though, it can be clearer to just write the obvious ```for``` loop:"
     ]
    },
    {
     "cell_type": "code",
     "collapsed": false,
     "input": [
      "# Instead of:\n",
      "product = reduce(operator.mul, [1,2,3], 1)\n",
      "\n",
      "# You can write:\n",
      "product = 1\n",
      "for i in [1,2,3]:\n",
      "    product *= i"
     ],
     "language": "python",
     "metadata": {},
     "outputs": [],
     "prompt_number": 38
    },
    {
     "cell_type": "markdown",
     "metadata": {},
     "source": [
      "* ```enumerate(iter)``` counts off the elements in the iterable, returning 2-tuples containing the count and each element."
     ]
    },
    {
     "cell_type": "code",
     "collapsed": false,
     "input": [
      ">>> for item in enumerate(['subject', 'verb', 'object']):\n",
      "...     print item"
     ],
     "language": "python",
     "metadata": {},
     "outputs": [
      {
       "output_type": "stream",
       "stream": "stdout",
       "text": [
        "(0, 'subject')\n",
        "(1, 'verb')\n",
        "(2, 'object')\n"
       ]
      }
     ],
     "prompt_number": 39
    },
    {
     "cell_type": "markdown",
     "metadata": {},
     "source": [
      "```enumerate()``` is often used when looping through a list and recording the indexes at which certain conditions are met:"
     ]
    },
    {
     "cell_type": "code",
     "collapsed": false,
     "input": [
      "f = open('data.txt', 'r')\n",
      "for i, line in enumerate(f):\n",
      "    if line.strip() == '':\n",
      "        print 'Blank line at line #%i' % i"
     ],
     "language": "python",
     "metadata": {},
     "outputs": [
      {
       "ename": "IOError",
       "evalue": "[Errno 2] No such file or directory: 'data.txt'",
       "output_type": "pyerr",
       "traceback": [
        "\u001b[0;31m---------------------------------------------------------------------------\u001b[0m\n\u001b[0;31mIOError\u001b[0m                                   Traceback (most recent call last)",
        "\u001b[0;32m<ipython-input-40-86f5c6e313c7>\u001b[0m in \u001b[0;36m<module>\u001b[0;34m()\u001b[0m\n\u001b[0;32m----> 1\u001b[0;31m \u001b[0mf\u001b[0m \u001b[0;34m=\u001b[0m \u001b[0mopen\u001b[0m\u001b[0;34m(\u001b[0m\u001b[0;34m'data.txt'\u001b[0m\u001b[0;34m,\u001b[0m \u001b[0;34m'r'\u001b[0m\u001b[0;34m)\u001b[0m\u001b[0;34m\u001b[0m\u001b[0m\n\u001b[0m\u001b[1;32m      2\u001b[0m \u001b[0;32mfor\u001b[0m \u001b[0mi\u001b[0m\u001b[0;34m,\u001b[0m \u001b[0mline\u001b[0m \u001b[0;32min\u001b[0m \u001b[0menumerate\u001b[0m\u001b[0;34m(\u001b[0m\u001b[0mf\u001b[0m\u001b[0;34m)\u001b[0m\u001b[0;34m:\u001b[0m\u001b[0;34m\u001b[0m\u001b[0m\n\u001b[1;32m      3\u001b[0m     \u001b[0;32mif\u001b[0m \u001b[0mline\u001b[0m\u001b[0;34m.\u001b[0m\u001b[0mstrip\u001b[0m\u001b[0;34m(\u001b[0m\u001b[0;34m)\u001b[0m \u001b[0;34m==\u001b[0m \u001b[0;34m''\u001b[0m\u001b[0;34m:\u001b[0m\u001b[0;34m\u001b[0m\u001b[0m\n\u001b[1;32m      4\u001b[0m         \u001b[0;32mprint\u001b[0m \u001b[0;34m'Blank line at line #%i'\u001b[0m \u001b[0;34m%\u001b[0m \u001b[0mi\u001b[0m\u001b[0;34m\u001b[0m\u001b[0m\n",
        "\u001b[0;31mIOError\u001b[0m: [Errno 2] No such file or directory: 'data.txt'"
       ]
      }
     ],
     "prompt_number": 40
    },
    {
     "cell_type": "markdown",
     "metadata": {},
     "source": [
      "* ```sorted(iterable, [cmp=None], [key=None], [reverse=False])``` collects all the elements of the iterable into a list, sorts the list, and returns the sorted result.\n",
      "    * The ```cmp```, ```key```, and ```reverse``` arguments are passed through to the constructed list\u2019s ```.sort()``` method."
     ]
    },
    {
     "cell_type": "code",
     "collapsed": false,
     "input": [
      ">>> import random\n",
      ">>> # Generate 8 random numbers between [0, 10000)\n",
      ">>> rand_list = random.sample(range(10000), 8)\n",
      ">>> print rand_list\n",
      ">>> print sorted(rand_list)\n",
      ">>> print sorted(rand_list, reverse=True)"
     ],
     "language": "python",
     "metadata": {},
     "outputs": [
      {
       "output_type": "stream",
       "stream": "stdout",
       "text": [
        "[3367, 5942, 134, 5647, 8875, 5428, 2367, 2173]\n",
        "[134, 2173, 2367, 3367, 5428, 5647, 5942, 8875]\n",
        "[8875, 5942, 5647, 5428, 3367, 2367, 2173, 134]\n"
       ]
      }
     ],
     "prompt_number": 41
    },
    {
     "cell_type": "markdown",
     "metadata": {},
     "source": [
      "* For a more detailed discussion of sorting, see the [Sorting mini-HOWTO](Untitled1Py) in the Python wiki."
     ]
    },
    {
     "cell_type": "markdown",
     "metadata": {},
     "source": [
      "* The ```any(iter)``` and ```all(iter)``` built-ins look at the truth values of an iterable\u2019s contents.\n",
      "    * ```any()``` returns True if any element in the iterable is a true value\n",
      "    * and ```all()``` returns True if all of the elements are true values:"
     ]
    },
    {
     "cell_type": "code",
     "collapsed": false,
     "input": [
      ">>> any([0,1,0])\n",
      "True\n",
      ">>> any([0,0,0])\n",
      "False\n",
      ">>> any([1,1,1])\n",
      "True\n",
      ">>> all([0,1,0])\n",
      "False\n",
      ">>> all([0,0,0])\n",
      "False\n",
      ">>> all([1,1,1])\n",
      "True"
     ],
     "language": "python",
     "metadata": {},
     "outputs": [
      {
       "output_type": "pyout",
       "prompt_number": 42,
       "text": [
        "True"
       ]
      }
     ],
     "prompt_number": 42
    },
    {
     "cell_type": "heading",
     "level": 2,
     "metadata": {},
     "source": [
      "Small functions and the lambda expression"
     ]
    },
    {
     "cell_type": "markdown",
     "metadata": {},
     "source": [
      "* When writing functional-style programs, you\u2019ll often need little functions that act as predicates or that combine elements in some way.\n",
      "* If there\u2019s a Python built-in or a module function that\u2019s suitable, you don\u2019t need to define a new function at all:"
     ]
    },
    {
     "cell_type": "code",
     "collapsed": false,
     "input": [
      "stripped_lines = [line.strip() for line in lines]\n",
      "existing_files = filter(os.path.exists, file_list)"
     ],
     "language": "python",
     "metadata": {},
     "outputs": [
      {
       "ename": "NameError",
       "evalue": "name 'lines' is not defined",
       "output_type": "pyerr",
       "traceback": [
        "\u001b[0;31m---------------------------------------------------------------------------\u001b[0m\n\u001b[0;31mNameError\u001b[0m                                 Traceback (most recent call last)",
        "\u001b[0;32m<ipython-input-43-0a8a5c7f871f>\u001b[0m in \u001b[0;36m<module>\u001b[0;34m()\u001b[0m\n\u001b[0;32m----> 1\u001b[0;31m \u001b[0mstripped_lines\u001b[0m \u001b[0;34m=\u001b[0m \u001b[0;34m[\u001b[0m\u001b[0mline\u001b[0m\u001b[0;34m.\u001b[0m\u001b[0mstrip\u001b[0m\u001b[0;34m(\u001b[0m\u001b[0;34m)\u001b[0m \u001b[0;32mfor\u001b[0m \u001b[0mline\u001b[0m \u001b[0;32min\u001b[0m \u001b[0mlines\u001b[0m\u001b[0;34m]\u001b[0m\u001b[0;34m\u001b[0m\u001b[0m\n\u001b[0m\u001b[1;32m      2\u001b[0m \u001b[0mexisting_files\u001b[0m \u001b[0;34m=\u001b[0m \u001b[0mfilter\u001b[0m\u001b[0;34m(\u001b[0m\u001b[0mos\u001b[0m\u001b[0;34m.\u001b[0m\u001b[0mpath\u001b[0m\u001b[0;34m.\u001b[0m\u001b[0mexists\u001b[0m\u001b[0;34m,\u001b[0m \u001b[0mfile_list\u001b[0m\u001b[0;34m)\u001b[0m\u001b[0;34m\u001b[0m\u001b[0m\n",
        "\u001b[0;31mNameError\u001b[0m: name 'lines' is not defined"
       ]
      }
     ],
     "prompt_number": 43
    },
    {
     "cell_type": "markdown",
     "metadata": {},
     "source": [
      "* If the function you need doesn\u2019t exist, you need to write it. One way to write small functions is to use the ```lambda``` statement.\n",
      "    * lambda takes a number of parameters and an expression combining these parameters, and creates a small function that returns the value of the expression:"
     ]
    },
    {
     "cell_type": "code",
     "collapsed": false,
     "input": [
      "lowercase = lambda x: x.lower()\n",
      "\n",
      "print_assign = lambda name, value: name + '=' + str(value)\n",
      "\n",
      "adder = lambda x, y: x+y"
     ],
     "language": "python",
     "metadata": {},
     "outputs": [],
     "prompt_number": 44
    },
    {
     "cell_type": "markdown",
     "metadata": {},
     "source": [
      "An alternative is to just use the ```def``` statement and define a function in the usual way:"
     ]
    },
    {
     "cell_type": "code",
     "collapsed": false,
     "input": [
      "def lowercase(x):\n",
      "    return x.lower()\n",
      "\n",
      "def print_assign(name, value):\n",
      "    return name + '=' + str(value)\n",
      "\n",
      "def adder(x,y):\n",
      "    return x + y"
     ],
     "language": "python",
     "metadata": {},
     "outputs": []
    },
    {
     "cell_type": "markdown",
     "metadata": {},
     "source": [
      "* Which alternative is preferable? That\u2019s a style question\n",
      "    * my usual course is to avoid using lambda.\n",
      "    * One reason for my preference is that lambda is quite limited in the functions it can define.\n",
      "        * The result has to be computable as a single expression, which means you can\u2019t have multiway ```if... elif... else``` comparisons or ```try... except``` statements.\n",
      "        * If you try to do too much in a ```lambda``` statement, you\u2019ll end up with an overly complicated expression that\u2019s hard to read.\n",
      "        * Quick, what\u2019s the following code doing?"
     ]
    },
    {
     "cell_type": "code",
     "collapsed": false,
     "input": [
      "total = reduce(lambda a, b: (0, a[1] + b[1]), items)[1]"
     ],
     "language": "python",
     "metadata": {},
     "outputs": [
      {
       "ename": "NameError",
       "evalue": "name 'items' is not defined",
       "output_type": "pyerr",
       "traceback": [
        "\u001b[0;31m---------------------------------------------------------------------------\u001b[0m\n\u001b[0;31mNameError\u001b[0m                                 Traceback (most recent call last)",
        "\u001b[0;32m<ipython-input-45-10826cc16a2b>\u001b[0m in \u001b[0;36m<module>\u001b[0;34m()\u001b[0m\n\u001b[0;32m----> 1\u001b[0;31m \u001b[0mtotal\u001b[0m \u001b[0;34m=\u001b[0m \u001b[0mreduce\u001b[0m\u001b[0;34m(\u001b[0m\u001b[0;32mlambda\u001b[0m \u001b[0ma\u001b[0m\u001b[0;34m,\u001b[0m \u001b[0mb\u001b[0m\u001b[0;34m:\u001b[0m \u001b[0;34m(\u001b[0m\u001b[0;36m0\u001b[0m\u001b[0;34m,\u001b[0m \u001b[0ma\u001b[0m\u001b[0;34m[\u001b[0m\u001b[0;36m1\u001b[0m\u001b[0;34m]\u001b[0m \u001b[0;34m+\u001b[0m \u001b[0mb\u001b[0m\u001b[0;34m[\u001b[0m\u001b[0;36m1\u001b[0m\u001b[0;34m]\u001b[0m\u001b[0;34m)\u001b[0m\u001b[0;34m,\u001b[0m \u001b[0mitems\u001b[0m\u001b[0;34m)\u001b[0m\u001b[0;34m[\u001b[0m\u001b[0;36m1\u001b[0m\u001b[0;34m]\u001b[0m\u001b[0;34m\u001b[0m\u001b[0m\n\u001b[0m",
        "\u001b[0;31mNameError\u001b[0m: name 'items' is not defined"
       ]
      }
     ],
     "prompt_number": 45
    },
    {
     "cell_type": "markdown",
     "metadata": {},
     "source": [
      "* You can figure it out, but it takes time to disentangle the expression to figure out what\u2019s going on.\n",
      "    * Using a short nested def statements makes things a little bit better:"
     ]
    },
    {
     "cell_type": "code",
     "collapsed": false,
     "input": [
      "def combine (a, b):\n",
      "    return 0, a[1] + b[1]\n",
      "\n",
      "total = reduce(combine, items)[1]"
     ],
     "language": "python",
     "metadata": {},
     "outputs": [
      {
       "ename": "NameError",
       "evalue": "name 'items' is not defined",
       "output_type": "pyerr",
       "traceback": [
        "\u001b[0;31m---------------------------------------------------------------------------\u001b[0m\n\u001b[0;31mNameError\u001b[0m                                 Traceback (most recent call last)",
        "\u001b[0;32m<ipython-input-46-1f390c5d67f7>\u001b[0m in \u001b[0;36m<module>\u001b[0;34m()\u001b[0m\n\u001b[1;32m      2\u001b[0m     \u001b[0;32mreturn\u001b[0m \u001b[0;36m0\u001b[0m\u001b[0;34m,\u001b[0m \u001b[0ma\u001b[0m\u001b[0;34m[\u001b[0m\u001b[0;36m1\u001b[0m\u001b[0;34m]\u001b[0m \u001b[0;34m+\u001b[0m \u001b[0mb\u001b[0m\u001b[0;34m[\u001b[0m\u001b[0;36m1\u001b[0m\u001b[0;34m]\u001b[0m\u001b[0;34m\u001b[0m\u001b[0m\n\u001b[1;32m      3\u001b[0m \u001b[0;34m\u001b[0m\u001b[0m\n\u001b[0;32m----> 4\u001b[0;31m \u001b[0mtotal\u001b[0m \u001b[0;34m=\u001b[0m \u001b[0mreduce\u001b[0m\u001b[0;34m(\u001b[0m\u001b[0mcombine\u001b[0m\u001b[0;34m,\u001b[0m \u001b[0mitems\u001b[0m\u001b[0;34m)\u001b[0m\u001b[0;34m[\u001b[0m\u001b[0;36m1\u001b[0m\u001b[0;34m]\u001b[0m\u001b[0;34m\u001b[0m\u001b[0m\n\u001b[0m",
        "\u001b[0;31mNameError\u001b[0m: name 'items' is not defined"
       ]
      }
     ],
     "prompt_number": 46
    },
    {
     "cell_type": "markdown",
     "metadata": {},
     "source": [
      "But it would be best of all if I had simply used a ```for``` loop:"
     ]
    },
    {
     "cell_type": "code",
     "collapsed": false,
     "input": [
      "total = 0\n",
      "for a, b in items:\n",
      "    total += b"
     ],
     "language": "python",
     "metadata": {},
     "outputs": [
      {
       "ename": "NameError",
       "evalue": "name 'items' is not defined",
       "output_type": "pyerr",
       "traceback": [
        "\u001b[0;31m---------------------------------------------------------------------------\u001b[0m\n\u001b[0;31mNameError\u001b[0m                                 Traceback (most recent call last)",
        "\u001b[0;32m<ipython-input-47-f1caf65b1f82>\u001b[0m in \u001b[0;36m<module>\u001b[0;34m()\u001b[0m\n\u001b[1;32m      1\u001b[0m \u001b[0mtotal\u001b[0m \u001b[0;34m=\u001b[0m \u001b[0;36m0\u001b[0m\u001b[0;34m\u001b[0m\u001b[0m\n\u001b[0;32m----> 2\u001b[0;31m \u001b[0;32mfor\u001b[0m \u001b[0ma\u001b[0m\u001b[0;34m,\u001b[0m \u001b[0mb\u001b[0m \u001b[0;32min\u001b[0m \u001b[0mitems\u001b[0m\u001b[0;34m:\u001b[0m\u001b[0;34m\u001b[0m\u001b[0m\n\u001b[0m\u001b[1;32m      3\u001b[0m     \u001b[0mtotal\u001b[0m \u001b[0;34m+=\u001b[0m \u001b[0mb\u001b[0m\u001b[0;34m\u001b[0m\u001b[0m\n",
        "\u001b[0;31mNameError\u001b[0m: name 'items' is not defined"
       ]
      }
     ],
     "prompt_number": 47
    },
    {
     "cell_type": "markdown",
     "metadata": {},
     "source": [
      "Or the ```sum()``` built-in and a generator expression:"
     ]
    },
    {
     "cell_type": "code",
     "collapsed": false,
     "input": [
      "total = sum(b for a, b in items)"
     ],
     "language": "python",
     "metadata": {},
     "outputs": [
      {
       "ename": "NameError",
       "evalue": "name 'items' is not defined",
       "output_type": "pyerr",
       "traceback": [
        "\u001b[0;31m---------------------------------------------------------------------------\u001b[0m\n\u001b[0;31mNameError\u001b[0m                                 Traceback (most recent call last)",
        "\u001b[0;32m<ipython-input-49-e24399b55e93>\u001b[0m in \u001b[0;36m<module>\u001b[0;34m()\u001b[0m\n\u001b[0;32m----> 1\u001b[0;31m \u001b[0mtotal\u001b[0m \u001b[0;34m=\u001b[0m \u001b[0msum\u001b[0m\u001b[0;34m(\u001b[0m\u001b[0mb\u001b[0m \u001b[0;32mfor\u001b[0m \u001b[0ma\u001b[0m\u001b[0;34m,\u001b[0m \u001b[0mb\u001b[0m \u001b[0;32min\u001b[0m \u001b[0mitems\u001b[0m\u001b[0;34m)\u001b[0m\u001b[0;34m\u001b[0m\u001b[0m\n\u001b[0m",
        "\u001b[0;31mNameError\u001b[0m: name 'items' is not defined"
       ]
      }
     ],
     "prompt_number": 49
    },
    {
     "cell_type": "markdown",
     "metadata": {},
     "source": [
      "* Many uses of ```reduce()``` are clearer when written as ```for``` loops.\n",
      "* Fredrik Lundh once suggested the following set of rules for refactoring uses of lambda:\n",
      "    1. Write a lambda function.\n",
      "    2. Write a comment explaining what the heck that lambda does.\n",
      "    3. Study the comment for a while, and think of a name that captures the essence of the comment.\n",
      "    4. Convert the lambda to a def statement, using that name.\n",
      "    5. Remove the comment.\n",
      "* I really like these rules, but you\u2019re free to disagree about whether this lambda-free style is better."
     ]
    },
    {
     "cell_type": "heading",
     "level": 2,
     "metadata": {},
     "source": [
      "The itertools module"
     ]
    },
    {
     "cell_type": "code",
     "collapsed": false,
     "input": [
      "import itertools"
     ],
     "language": "python",
     "metadata": {},
     "outputs": [],
     "prompt_number": 50
    },
    {
     "cell_type": "markdown",
     "metadata": {},
     "source": [
      "* The ```itertools``` module contains a number of commonly-used iterators as well as functions for combining several iterators.\n",
      "    * This section will introduce the module\u2019s contents by showing small examples.\n",
      "    * The module\u2019s functions fall into a few broad classes:\n",
      "        * Functions that create a new iterator based on an existing iterator.\n",
      "        * Functions for treating an iterator\u2019s elements as function arguments.\n",
      "        * Functions for selecting portions of an iterator\u2019s output.\n",
      "        * A function for grouping an iterator\u2019s output."
     ]
    },
    {
     "cell_type": "heading",
     "level": 3,
     "metadata": {},
     "source": [
      "Creating new iterators"
     ]
    },
    {
     "cell_type": "markdown",
     "metadata": {},
     "source": [
      "* ```itertools.count(n)``` returns an infinite stream of integers, increasing by 1 each time.\n",
      "    * You can optionally supply the starting number, which defaults to 0:\n",
      "* ```itertools.cycle(iter)``` saves a copy of the contents of a provided iterable and returns a new iterator that returns its elements from first to last.\n",
      "    * The new iterator will repeat these elements infinitely.\n",
      "* ```itertools.repeat(elem, [n])``` returns the provided element ```n``` times, or returns the element endlessly if ```n``` is not provided.\n",
      "* ```itertools.chain(iterA, iterB, ...)``` takes an arbitrary number of iterables as input, and returns all the elements of the first iterator, then all the elements of the second, and so on, until all of the iterables have been exhausted.\n",
      "* ```itertools.izip(iterA, iterB, ...)``` takes one element from each iterable and returns them in a tuple\n",
      "    * It\u2019s similar to the built-in ```zip()``` function, but doesn\u2019t construct an in-memory list and exhaust all the input iterators before returning\n",
      "    * instead tuples are constructed and returned only if they\u2019re requested. (The technical term for this behaviour is *lazy evaluation*.)\n",
      "    * This iterator is intended to be used with iterables that are all of the same length.\n",
      "        * If the iterables are of different lengths, the resulting stream will be the same length as the shortest iterable.\n",
      "        * You should avoid doing this, though, because an element may be taken from the longer iterators and discarded.\n",
      "            * This means you can\u2019t go on to use the iterators further because you risk skipping a discarded element.\n",
      "* ```itertools.islice(iter, [start], stop, [step])``` returns a stream that\u2019s a slice of the iterator\n",
      "    * With a single stop argument, it will return the first ```stop``` elements.\n",
      "    * If you supply a starting index, you\u2019ll get ```stop-start``` elements\n",
      "    * and if you supply a value for ```step```, elements will be skipped accordingly.\n",
      "    * Unlike Python\u2019s string and list slicing, you can\u2019t use negative values for ```start```, ```stop```, or ```step```.\n",
      "* ```itertools.tee(iter, [n])``` replicates an iterator\n",
      "    * it returns ```n``` independent iterators that will all return the contents of the source iterator.\n",
      "    * If you don\u2019t supply a value for ```n```, the default is 2.\n",
      "    * Replicating iterators requires saving some of the contents of the source iterator, so this can consume significant memory if the iterator is large and one of the new iterators is consumed more than the others."
     ]
    },
    {
     "cell_type": "heading",
     "level": 3,
     "metadata": {},
     "source": [
      "Calling functions on elements"
     ]
    },
    {
     "cell_type": "markdown",
     "metadata": {},
     "source": [
      "* Two functions are used for calling other functions on the contents of an iterable.\n",
      "    * ```itertools.imap(f, iterA, iterB, ...)``` returns a stream containing ```f(iterA[0], iterB[0]), f(iterA[1], iterB[1]), f(iterA[2], iterB[2]), ...```\n",
      "        * The ```operator``` module contains a set of functions corresponding to Python\u2019s operators.\n",
      "            * Some examples are ```operator.add(a, b)``` (adds two values), ```operator.ne(a, b)``` (same as a!=b), and ```operator.attrgetter('id')``` (returns a callable that fetches the \"id\" attribute).\n",
      "    * ```itertools.starmap(func, iter)``` assumes that the iterable will return a stream of tuples, and calls ```f()``` using these tuples as the arguments:\n",
      "\n"
     ]
    },
    {
     "cell_type": "code",
     "collapsed": false,
     "input": [
      "itertools.starmap(os.path.join,\n",
      "                  [('/usr', 'bin', 'java'), ('/bin', 'python'),\n",
      "                   ('/usr', 'bin', 'perl'),('/usr', 'bin', 'ruby')])"
     ],
     "language": "python",
     "metadata": {},
     "outputs": [
      {
       "output_type": "pyout",
       "prompt_number": 54,
       "text": [
        "<itertools.starmap at 0x10c61c050>"
       ]
      }
     ],
     "prompt_number": 54
    },
    {
     "cell_type": "heading",
     "level": 3,
     "metadata": {},
     "source": [
      "Selecting elements"
     ]
    },
    {
     "cell_type": "markdown",
     "metadata": {},
     "source": [
      "* Another group of functions chooses a subset of an iterator\u2019s elements based on a predicate.\n",
      "    * ```itertools.ifilter(predicate, iter)``` returns all the elements for which the predicate returns true\n",
      "    * ```itertools.ifilterfalse(predicate, iter)``` is the opposite, returning all elements for which the predicate returns false\n",
      "    * ```itertools.takewhile(predicate, iter)``` returns elements for as long as the predicate returns true.\n",
      "        * Once the predicate returns false, the iterator will signal the end of its results.\n",
      "    * ```itertools.dropwhile(predicate, iter)``` discards elements while the predicate returns true, and then returns the rest of the iterable\u2019s results."
     ]
    },
    {
     "cell_type": "heading",
     "level": 3,
     "metadata": {},
     "source": [
      "Grouping elements"
     ]
    },
    {
     "cell_type": "markdown",
     "metadata": {},
     "source": [
      "* The last function I\u2019ll discuss, ```itertools.groupby(iter, key_func=None)```, is the most complicated.\n",
      "    * ```key_func(elem)``` is a function that can compute a key value for each element returned by the iterable.\n",
      "    * If you don\u2019t supply a key function, the key is simply each element itself.\n",
      "    * ```groupby()``` collects all the consecutive elements from the underlying iterable that have the same key value, and returns a stream of 2-tuples containing a key value and an iterator for the elements with that key."
     ]
    },
    {
     "cell_type": "code",
     "collapsed": false,
     "input": [
      "city_list = [('Decatur', 'AL'), ('Huntsville', 'AL'), ('Selma', 'AL'),\n",
      "             ('Anchorage', 'AK'), ('Nome', 'AK'),\n",
      "             ('Flagstaff', 'AZ'), ('Phoenix', 'AZ'), ('Tucson', 'AZ')]\n",
      "\n",
      "def get_state ((city, state)):\n",
      "    return state\n",
      "\n",
      "itertools.groupby(city_list, get_state)"
     ],
     "language": "python",
     "metadata": {},
     "outputs": [
      {
       "output_type": "pyout",
       "prompt_number": 55,
       "text": [
        "<itertools.groupby at 0x10c61fe10>"
       ]
      }
     ],
     "prompt_number": 55
    },
    {
     "cell_type": "code",
     "collapsed": false,
     "input": [
      "[i for i in itertools.groupby(city_list, get_state)]"
     ],
     "language": "python",
     "metadata": {},
     "outputs": [
      {
       "output_type": "pyout",
       "prompt_number": 58,
       "text": [
        "[('AL', <itertools._grouper at 0x10c656150>),\n",
        " ('AK', <itertools._grouper at 0x10c656110>),\n",
        " ('AZ', <itertools._grouper at 0x10c656090>)]"
       ]
      }
     ],
     "prompt_number": 58
    },
    {
     "cell_type": "markdown",
     "metadata": {},
     "source": [
      "* ```groupby()``` assumes that the underlying iterable\u2019s contents will already be sorted based on the key.\n",
      "    * Note that the returned iterators also use the underlying iterable, so you have to consume the results of iterator-1 before requesting iterator-2 and its corresponding key."
     ]
    },
    {
     "cell_type": "heading",
     "level": 2,
     "metadata": {},
     "source": [
      "The functools module"
     ]
    },
    {
     "cell_type": "markdown",
     "metadata": {},
     "source": [
      "* The ```functools``` module in Python 2.5 contains some higher-order functions.\n",
      "    * ***A higher-order function*** takes one or more functions as input and returns a new function.\n",
      "    * The most useful tool in this module is the ```functools.partial()``` function.\n",
      "* For programs written in a functional style, you\u2019ll sometimes want to construct variants of existing functions that have some of the parameters filled in.\n",
      "    * Consider a Python function ```f(a, b, c)```\n",
      "        * you may wish to create a new function ```g(b, c)``` that\u2019s equivalent to ```f(1, b, c)```\n",
      "        * you\u2019re filling in a value for one of ```f()```\u2018s parameters. This is called \u201c*partial function application*\u201d.\n",
      "* The constructor for ```partial``` takes the arguments ```(function, arg1, arg2, ... kwarg1=value1, kwarg2=value2)```.\n",
      "    * The resulting object is callable, so you can just call it to invoke function with the filled-in arguments.\n",
      "\n",
      "Here\u2019s a small but realistic example:"
     ]
    },
    {
     "cell_type": "code",
     "collapsed": false,
     "input": [
      "import functools\n",
      "\n",
      "def log (message, subsystem):\n",
      "    \"Write the contents of 'message' to the specified subsystem.\"\n",
      "    print '%s: %s' % (subsystem, message)\n",
      "\n",
      "server_log = functools.partial(log, subsystem='server')\n",
      "server_log('Unable to open socket')"
     ],
     "language": "python",
     "metadata": {},
     "outputs": [
      {
       "output_type": "stream",
       "stream": "stdout",
       "text": [
        "server: Unable to open socket\n"
       ]
      }
     ],
     "prompt_number": 61
    },
    {
     "cell_type": "heading",
     "level": 3,
     "metadata": {},
     "source": [
      "The operator module"
     ]
    },
    {
     "cell_type": "markdown",
     "metadata": {},
     "source": [
      "* The operator module was mentioned earlier.\n",
      "    * It contains a set of functions corresponding to Python\u2019s operators.\n",
      "    * These functions are often useful in functional-style code because they save you from writing trivial functions that perform a single operation.\n",
      "* Some of the functions in this module are:\n",
      "    * Math operations: ```add()```, ```sub()```,``` mul()```, ```div()```, ```floordiv()```, ```abs()```, ...\n",
      "    * Logical operations: ```not_()```, ```truth()```.\n",
      "    * Bitwise operations: ```and_()```, ```or_()```, ```invert()```.\n",
      "    * Comparisons: ```eq()```, ```ne()```, ```lt()```, ```le()```, ```gt()```, and ```ge()```.\n",
      "    * Object identity: ```is_()```, ```is_not()```.\n",
      "* Consult the ```operator``` module\u2019s documentation for a complete list."
     ]
    },
    {
     "cell_type": "code",
     "collapsed": false,
     "input": [
      "a = itertools.ifilter(lambda x: x[0] == x[1], ((1, 2), (3, 4), (2, 2)))"
     ],
     "language": "python",
     "metadata": {},
     "outputs": [],
     "prompt_number": 74
    },
    {
     "cell_type": "code",
     "collapsed": false,
     "input": [
      "print functools.reduce(lambda x, y: x + 1, a, 0)"
     ],
     "language": "python",
     "metadata": {},
     "outputs": [
      {
       "output_type": "stream",
       "stream": "stdout",
       "text": [
        "1\n"
       ]
      }
     ],
     "prompt_number": 75
    }
   ],
   "metadata": {}
  }
 ]
}