{
 "metadata": {
  "name": "numpy"
 },
 "nbformat": 3,
 "nbformat_minor": 0,
 "worksheets": [
  {
   "cells": [
    {
     "cell_type": "heading",
     "level": 1,
     "metadata": {},
     "source": [
      "numpy test place"
     ]
    },
    {
     "cell_type": "code",
     "collapsed": false,
     "input": [
      "import sys\n",
      "sys.version"
     ],
     "language": "python",
     "metadata": {},
     "outputs": [
      {
       "output_type": "pyout",
       "prompt_number": 1,
       "text": [
        "'2.7.2 (default, Jun 20 2012, 16:23:33) \\n[GCC 4.2.1 Compatible Apple Clang 4.0 (tags/Apple/clang-418.0.60)]'"
       ]
      }
     ],
     "prompt_number": 1
    },
    {
     "cell_type": "code",
     "collapsed": false,
     "input": [
      "import numpy as np"
     ],
     "language": "python",
     "metadata": {},
     "outputs": [],
     "prompt_number": 2
    },
    {
     "cell_type": "code",
     "collapsed": false,
     "input": [
      "%pylab inline"
     ],
     "language": "python",
     "metadata": {},
     "outputs": [
      {
       "output_type": "stream",
       "stream": "stdout",
       "text": [
        "\n",
        "Welcome to pylab, a matplotlib-based Python environment [backend: module://IPython.zmq.pylab.backend_inline].\n",
        "For more information, type 'help(pylab)'.\n"
       ]
      }
     ],
     "prompt_number": 3
    },
    {
     "cell_type": "code",
     "collapsed": false,
     "input": [
      "a = np.arange(15).reshape(5, 3)\n",
      "b = np.array([1, 2, 3])"
     ],
     "language": "python",
     "metadata": {},
     "outputs": [],
     "prompt_number": 4
    },
    {
     "cell_type": "code",
     "collapsed": false,
     "input": [
      "c = np.zeros((3, 3, 3), dtype=np.float64)\n",
      "d = np.empty((3, 3, 3), dtype=np.complex256)"
     ],
     "language": "python",
     "metadata": {},
     "outputs": [],
     "prompt_number": 5
    },
    {
     "cell_type": "code",
     "collapsed": false,
     "input": [
      "x = linspace(0, 2*pi, 1000)\n",
      "y = [np.sin(i) for i in x]\n",
      "plot(y)"
     ],
     "language": "python",
     "metadata": {},
     "outputs": [
      {
       "output_type": "pyout",
       "prompt_number": 6,
       "text": [
        "[<matplotlib.lines.Line2D at 0x1058fcb50>]"
       ]
      },
      {
       "output_type": "display_data",
       "png": "[encoded data removed]"
      }
     ],
     "prompt_number": 6
    },
    {
     "cell_type": "code",
     "collapsed": false,
     "input": [
      "e = np.random.random((3, 4))\n",
      "f = np.exp(e * 1j)\n",
      "f.sum()"
     ],
     "language": "python",
     "metadata": {},
     "outputs": [
      {
       "output_type": "pyout",
       "prompt_number": 7,
       "text": [
        "(11.307606646916554+3.2159425006155256j)"
       ]
      }
     ],
     "prompt_number": 7
    },
    {
     "cell_type": "code",
     "collapsed": false,
     "input": [
      "g = np.arange(16).reshape(4, 4)\n",
      "print g\n",
      "print g[1:3, 1:3]\n",
      "print g[0:-1, 0:-1]"
     ],
     "language": "python",
     "metadata": {},
     "outputs": [
      {
       "output_type": "stream",
       "stream": "stdout",
       "text": [
        "[[ 0  1  2  3]\n",
        " [ 4  5  6  7]\n",
        " [ 8  9 10 11]\n",
        " [12 13 14 15]]\n",
        "[[ 5  6]\n",
        " [ 9 10]]\n",
        "[[ 0  1  2]\n",
        " [ 4  5  6]\n",
        " [ 8  9 10]]\n"
       ]
      }
     ],
     "prompt_number": 8
    },
    {
     "cell_type": "code",
     "collapsed": false,
     "input": [
      "h = np.arange(60).reshape(3, 4, 5)\n",
      "print h\n",
      "print h[1:, 1:3, ...]"
     ],
     "language": "python",
     "metadata": {},
     "outputs": [
      {
       "output_type": "stream",
       "stream": "stdout",
       "text": [
        "[[[ 0  1  2  3  4]\n",
        "  [ 5  6  7  8  9]\n",
        "  [10 11 12 13 14]\n",
        "  [15 16 17 18 19]]\n",
        "\n",
        " [[20 21 22 23 24]\n",
        "  [25 26 27 28 29]\n",
        "  [30 31 32 33 34]\n",
        "  [35 36 37 38 39]]\n",
        "\n",
        " [[40 41 42 43 44]\n",
        "  [45 46 47 48 49]\n",
        "  [50 51 52 53 54]\n",
        "  [55 56 57 58 59]]]\n",
        "[[[25 26 27 28 29]\n",
        "  [30 31 32 33 34]]\n",
        "\n",
        " [[45 46 47 48 49]\n",
        "  [50 51 52 53 54]]]\n"
       ]
      }
     ],
     "prompt_number": 9
    },
    {
     "cell_type": "markdown",
     "metadata": {},
     "source": [
      "However, if one wants to perform an operation on each element in the array, one can use the flat attribute which is an iterator over all the elements of the array:"
     ]
    },
    {
     "cell_type": "code",
     "collapsed": false,
     "input": [
      "for element in h.flat:\n",
      "    print element,"
     ],
     "language": "python",
     "metadata": {},
     "outputs": [
      {
       "output_type": "stream",
       "stream": "stdout",
       "text": [
        "0 1 2 3 4 5 6 7 8 9 10 11 12 13 14 15 16 17 18 19 20 21 22 23 24 25 26 27 28 29 30 31 32 33 34 35 36 37 38 39 40 41 42 43 44 45 46 47 48 49 50 51 52 53 54 55 56 57 58 59\n"
       ]
      }
     ],
     "prompt_number": 10
    },
    {
     "cell_type": "heading",
     "level": 2,
     "metadata": {},
     "source": [
      "Shape Manipulation"
     ]
    },
    {
     "cell_type": "heading",
     "level": 3,
     "metadata": {},
     "source": [
      "Changing the shape of an array"
     ]
    },
    {
     "cell_type": "markdown",
     "metadata": {},
     "source": [
      "An array has a shape given by the number of elements along each axis:"
     ]
    },
    {
     "cell_type": "code",
     "collapsed": false,
     "input": [
      "a = floor(10*random.random((3,4)))\n",
      "print a"
     ],
     "language": "python",
     "metadata": {},
     "outputs": [
      {
       "output_type": "stream",
       "stream": "stdout",
       "text": [
        "[[ 3.  7.  6.  2.]\n",
        " [ 1.  0.  9.  2.]\n",
        " [ 6.  8.  7.  0.]]\n"
       ]
      }
     ],
     "prompt_number": 11
    },
    {
     "cell_type": "markdown",
     "metadata": {},
     "source": [
      "The shape of an array can be changed with various commands:"
     ]
    },
    {
     "cell_type": "code",
     "collapsed": false,
     "input": [
      "print a.ravel() # flatten the array\n",
      "a.shape = (6, 2)\n",
      "print a\n",
      "print a.transpose()"
     ],
     "language": "python",
     "metadata": {},
     "outputs": [
      {
       "output_type": "stream",
       "stream": "stdout",
       "text": [
        "[ 3.  7.  6.  2.  1.  0.  9.  2.  6.  8.  7.  0.]\n",
        "[[ 3.  7.]\n",
        " [ 6.  2.]\n",
        " [ 1.  0.]\n",
        " [ 9.  2.]\n",
        " [ 6.  8.]\n",
        " [ 7.  0.]]\n",
        "[[ 3.  6.  1.  9.  6.  7.]\n",
        " [ 7.  2.  0.  2.  8.  0.]]\n"
       ]
      }
     ],
     "prompt_number": 12
    },
    {
     "cell_type": "markdown",
     "metadata": {},
     "source": [
      "The order of the elements in the array resulting from ravel() is normally \"C-style\", that is, the rightmost index \"changes the fastest\", so the element after a[0,0] is a[0,1]. If the array is reshaped to some other shape, again the array is treated as \"C-style\". Numpy normally creates arrays stored in this order, so ravel() will usually not need to copy its argument, but if the array was made by taking slices of another array or created with unusual options, it may need to be copied. The functions ravel() and reshape() can also be instructed, using an optional argument, to use FORTRAN-style arrays, in which the leftmost index changes the fastest.\n",
      "\n",
      "The reshape function returns its argument with a modified shape, whereas the resize method modifies the array itself:"
     ]
    },
    {
     "cell_type": "code",
     "collapsed": false,
     "input": [
      "a.resize((3, 4))\n",
      "print a"
     ],
     "language": "python",
     "metadata": {},
     "outputs": [
      {
       "output_type": "stream",
       "stream": "stdout",
       "text": [
        "[[ 3.  7.  6.  2.]\n",
        " [ 1.  0.  9.  2.]\n",
        " [ 6.  8.  7.  0.]]\n"
       ]
      }
     ],
     "prompt_number": 13
    },
    {
     "cell_type": "markdown",
     "metadata": {},
     "source": [
      "If a dimension is given as -1 in a reshaping operation, the other dimensions are automatically calculated:"
     ]
    },
    {
     "cell_type": "code",
     "collapsed": false,
     "input": [
      "print a.reshape(12, -1)"
     ],
     "language": "python",
     "metadata": {},
     "outputs": [
      {
       "output_type": "stream",
       "stream": "stdout",
       "text": [
        "[[ 3.]\n",
        " [ 7.]\n",
        " [ 6.]\n",
        " [ 2.]\n",
        " [ 1.]\n",
        " [ 0.]\n",
        " [ 9.]\n",
        " [ 2.]\n",
        " [ 6.]\n",
        " [ 8.]\n",
        " [ 7.]\n",
        " [ 0.]]\n"
       ]
      }
     ],
     "prompt_number": 14
    },
    {
     "cell_type": "heading",
     "level": 3,
     "metadata": {},
     "source": [
      "Stacking together different arrays"
     ]
    },
    {
     "cell_type": "markdown",
     "metadata": {},
     "source": [
      "Several arrays can be stacked together along different axes:"
     ]
    },
    {
     "cell_type": "code",
     "collapsed": false,
     "input": [
      "a = floor(10 * random.random((2, 2)))\n",
      "print a\n",
      "b = floor(10 * random.random((2, 2)))\n",
      "print b\n",
      "print np.vstack((a, b))\n",
      "print np.hstack((a, b))"
     ],
     "language": "python",
     "metadata": {},
     "outputs": [
      {
       "output_type": "stream",
       "stream": "stdout",
       "text": [
        "[[ 8.  5.]\n",
        " [ 4.  8.]]\n",
        "[[ 7.  6.]\n",
        " [ 2.  7.]]\n",
        "[[ 8.  5.]\n",
        " [ 4.  8.]\n",
        " [ 7.  6.]\n",
        " [ 2.  7.]]\n",
        "[[ 8.  5.  7.  6.]\n",
        " [ 4.  8.  2.  7.]]\n"
       ]
      }
     ],
     "prompt_number": 15
    },
    {
     "cell_type": "markdown",
     "metadata": {},
     "source": [
      "The function column_stack stacks 1D arrays as columns into a 2D array. It is equivalent to vstack only for 1D arrays:"
     ]
    },
    {
     "cell_type": "code",
     "collapsed": false,
     "input": [
      "print column_stack((a, b))   # With 2D arrays\n",
      "a=array([4.,2.])\n",
      "b=array([2.,8.])\n",
      "print a[:, newaxis]  # This allows to have a 2D columns vector\n",
      "print column_stack((a[:, newaxis],b[:, newaxis]))\n",
      "print vstack((a[:, newaxis],b[:, newaxis])) # The behavior of vstack is different"
     ],
     "language": "python",
     "metadata": {},
     "outputs": [
      {
       "output_type": "stream",
       "stream": "stdout",
       "text": [
        "[[ 8.  5.  7.  6.]\n",
        " [ 4.  8.  2.  7.]]\n",
        "[[ 4.]\n",
        " [ 2.]]\n",
        "[[ 4.  2.]\n",
        " [ 2.  8.]]\n",
        "[[ 4.]\n",
        " [ 2.]\n",
        " [ 2.]\n",
        " [ 8.]]\n"
       ]
      }
     ],
     "prompt_number": 16
    },
    {
     "cell_type": "markdown",
     "metadata": {},
     "source": [
      "The function row_stack, on the other hand, stacks 1D arrays as rows into a 2D array.\n",
      "\n",
      "For arrays of with more than two dimensions, hstack stacks along their second axes, vstack stacks along their first axes, and concatenate allows for an optional arguments giving the number of the axis along which the concatenation should happen.\n",
      "\n",
      "**Note**\n",
      "\n",
      "In complex cases, r_[] and c_[] are useful for creating arrays by stacking numbers along one axis. They allow the use of range literals (\":\") :"
     ]
    },
    {
     "cell_type": "code",
     "collapsed": false,
     "input": [
      "r_[1:4,0,4]"
     ],
     "language": "python",
     "metadata": {},
     "outputs": [
      {
       "output_type": "pyout",
       "prompt_number": 17,
       "text": [
        "array([1, 2, 3, 0, 4])"
       ]
      }
     ],
     "prompt_number": 17
    },
    {
     "cell_type": "markdown",
     "metadata": {},
     "source": [
      "When used with arrays as arguments, r_[] and c_[] are similar to vstack and hstack in their default behavior, but allow for an optional argument giving the number of the axis along which to concatenate."
     ]
    },
    {
     "cell_type": "heading",
     "level": 3,
     "metadata": {},
     "source": [
      "Splitting one array into several smaller ones"
     ]
    },
    {
     "cell_type": "markdown",
     "metadata": {},
     "source": [
      "Using hsplit, you can split an array along its horizontal axis, either by specifying the number of equally shaped arrays to return, or by specifying the columns after which the division should occur:\n",
      "\n",
      "---"
     ]
    },
    {
     "cell_type": "heading",
     "level": 1,
     "metadata": {},
     "source": [
      "Conway's Game of Life"
     ]
    },
    {
     "cell_type": "code",
     "collapsed": false,
     "input": [
      "import numpy as np\n",
      "matrix = np.zeros(64, dtype=bool).reshape(8, 8)\n",
      "matrix[4, 5] = True\n",
      "matrix[2, 7] = True\n",
      "matrix[6, 2] = True\n",
      "print '\\n'.join([''.join([u'\u25ef' if cell else u'\u3000' for cell in line]) for line in matrix])"
     ],
     "language": "python",
     "metadata": {},
     "outputs": [
      {
       "output_type": "stream",
       "stream": "stdout",
       "text": [
        "\u3000\u3000\u3000\u3000\u3000\u3000\u3000\u3000\n",
        "\u3000\u3000\u3000\u3000\u3000\u3000\u3000\u3000\n",
        "\u3000\u3000\u3000\u3000\u3000\u3000\u3000\u25ef\n",
        "\u3000\u3000\u3000\u3000\u3000\u3000\u3000\u3000\n",
        "\u3000\u3000\u3000\u3000\u3000\u25ef\u3000\u3000\n",
        "\u3000\u3000\u3000\u3000\u3000\u3000\u3000\u3000\n",
        "\u3000\u3000\u25ef\u3000\u3000\u3000\u3000\u3000\n",
        "\u3000\u3000\u3000\u3000\u3000\u3000\u3000\u3000\n"
       ]
      }
     ],
     "prompt_number": 18
    },
    {
     "cell_type": "code",
     "collapsed": false,
     "input": [],
     "language": "python",
     "metadata": {},
     "outputs": [],
     "prompt_number": 18
    }
   ],
   "metadata": {}
  }
 ]
}